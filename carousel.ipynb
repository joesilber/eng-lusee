{
 "cells": [
  {
   "cell_type": "markdown",
   "id": "33ee4b80-0e2a-484f-9785-889902ffa4ce",
   "metadata": {},
   "source": [
    "# Carousel mechanism design\n",
    "*LuSEE-Night*\\\n",
    "*Antenna Carousel*\\\n",
    "*Joe Silber, LBNL*\\\n",
    "*2022*\n",
    "\n",
    "Abstract: Assessment of carousel (a.k.a. \"turntable\") mechanism and torques for the LuSEE-Night lunar instrument. The radio antennas rotate on a platform. Key design parameters and options for the rotation mechanism are considered here."
   ]
  },
  {
   "cell_type": "markdown",
   "id": "c91bd0ca-2e8a-4621-9755-1838f9b38de8",
   "metadata": {},
   "source": [
    "## Preliminaries"
   ]
  },
  {
   "cell_type": "markdown",
   "id": "3f92e231-3b44-41fe-ab55-9c0f63e953d8",
   "metadata": {},
   "source": [
    "### Units and coordinate systems\n",
    "Except where otherwise specified...\n",
    "- all units are in meters, kilograms, and seconds\n",
    "- all inertias and positions are with respect to a global coordinate system, with Z axis concentric to rotation axis"
   ]
  },
  {
   "cell_type": "code",
   "execution_count": 1,
   "id": "4ef2b04e-c8ed-4299-928c-924ea73206c1",
   "metadata": {},
   "outputs": [],
   "source": [
    "import math"
   ]
  },
  {
   "cell_type": "markdown",
   "id": "970b330d-778d-4db2-994e-65f2c9572f6d",
   "metadata": {},
   "source": [
    "### Carbon fiber properties"
   ]
  },
  {
   "cell_type": "code",
   "execution_count": 2,
   "id": "cff310ba-aee8-4342-b9f7-b1e1ad0b55ee",
   "metadata": {
    "tags": []
   },
   "outputs": [
    {
     "name": "stdout",
     "output_type": "stream",
     "text": [
      "Estimated carbon fiber reinforced plastic (CFRP) density = 1695.4 kg/m^3, volume fraction = 53.1%\n"
     ]
    }
   ],
   "source": [
    "rho_f = 2170  # carbon fiber density, e.g. CN-80\n",
    "rho_m = 1170  # resin matrix density, e.g. EX-1515\n",
    "Mm = 0.32  # matrix mass fraction, i.e. prepreg resin content from vendor\n",
    "Vv = 0.005  # as-cured void fraction\n",
    "Vf = (1 - Vv) / (1 + rho_f / rho_m * Mm / (1 - Mm))  # fiber volume fraction, assuming no bleed (conservative)\n",
    "cfrp_density = rho_f * Vf + rho_m * (1 - Vf - Vv)\n",
    "print(f'Estimated carbon fiber reinforced plastic (CFRP) density = {cfrp_density:.1f} kg/m^3, volume fraction = {Vf*100:.1f}%')"
   ]
  },
  {
   "cell_type": "markdown",
   "id": "f5b4734a-91aa-4ee2-87b0-acd144ad5c93",
   "metadata": {},
   "source": [
    "## Payload\n",
    "Total mass budget for the carousel system is 10 kg. Some fraction of this mass (in particular the drive motor and transmission) will be static.\n",
    "\n",
    "As of this writing (July 2022) we have not yet lightweighted many components; the total payload of the items listed below may somewhat exceed that final budget. For the purposes of sizing the drive system components, this is acceptable.\n",
    "\n",
    "For the purposes of this document, we subdivide the rotating payload into the following estimated masses, moments, and transmission ratios:"
   ]
  },
  {
   "cell_type": "markdown",
   "id": "df8c5d60-081e-474a-a6d5-57218310231b",
   "metadata": {},
   "source": [
    "### Turntable plate"
   ]
  },
  {
   "cell_type": "code",
   "execution_count": 3,
   "id": "8f5596ef-bc86-4a03-be07-877458fc0570",
   "metadata": {},
   "outputs": [
    {
     "name": "stdout",
     "output_type": "stream",
     "text": [
      "Turntable mass = 3.246 kg, inertia = 0.104\n"
     ]
    }
   ],
   "source": [
    "plate_od = 0.500  # outer diameter\n",
    "plate_id = 0.079  # inner diameter\n",
    "plate_t = 0.010  # thickness\n",
    "plate_rho = cfrp_density  # density\n",
    "plate_r2, plate_r1 = plate_od/2, plate_id/2  # radii\n",
    "plate_mass = plate_rho * plate_t * math.pi * (plate_r2**2 - plate_r1**2)\n",
    "plate_inertia = 0.5 * plate_mass * (plate_r1**2 + plate_r2**2)\n",
    "print(f'Turntable mass = {plate_mass:.3f} kg, inertia = {plate_inertia:.4} kg/m^2')"
   ]
  },
  {
   "cell_type": "markdown",
   "id": "b1b50a76-b427-473b-a042-a8d89451948e",
   "metadata": {},
   "source": [
    "### Antenna deployer and pre-amp\n",
    "Mass and inertia estimates are based on the CAD preliminary design model (July 2022).\n",
    "\n",
    "#### Stowed configuration:\n",
    "![Stowed mass and inertia](inertia-deployer-and-preamp-stowed.png)\n",
    "\n",
    "#### Deployed configuration (3 m extension):\n",
    "![Deployed mass and inertia](inertia-deployer-and-preamp-deployed3m.png)\n",
    "\n",
    "Note that the masses shown here are not quite identical, due to internal details of the preliminary model. For the conservative purposes of this study, a rough adjustment is made where the larger mass value (stowed) is used to linearly scale up the deployed mass and inertia."
   ]
  },
  {
   "cell_type": "code",
   "execution_count": 8,
   "id": "c86c8042-5e7b-4662-9c39-e1ce175a0e9a",
   "metadata": {},
   "outputs": [
    {
     "name": "stdout",
     "output_type": "stream",
     "text": [
      "Deployed single antenna + pre-amp (adjusted): mass = 3.148 kg, inertia = 4.525 kg/m^2\n"
     ]
    }
   ],
   "source": [
    "stowed_mass = 3.148\n",
    "stowed_inertia = 0.1272\n",
    "deployed_mass_as_modeled = 2.924\n",
    "deployed_inertia_as_modeled = 4.203\n",
    "deployed_adjustment = stowed_mass / deployed_mass_as_modeled\n",
    "deployed_mass = deployed_mass_as_modeled * deployed_adjustment\n",
    "deployed_inertia = deployed_inertia_as_modeled * deployed_adjustment\n",
    "print(f'Deployed single antenna + pre-amp (adjusted): mass = {deployed_mass:.3f} kg, inertia = {deployed_inertia:.4} kg/m^2')"
   ]
  },
  {
   "cell_type": "markdown",
   "id": "0c9dc4d1-c470-4965-8f7f-9ff073e41149",
   "metadata": {},
   "source": [
    "### Main shaft, seals, and bearings"
   ]
  },
  {
   "cell_type": "markdown",
   "id": "62c718c7-c223-456c-ae88-44e427ce4877",
   "metadata": {},
   "source": [
    "### Parallel-axis transmission"
   ]
  },
  {
   "cell_type": "markdown",
   "id": "90828ad8-2564-42e7-965f-378ba6f0750c",
   "metadata": {},
   "source": [
    "### Motor"
   ]
  },
  {
   "cell_type": "code",
   "execution_count": 4,
   "id": "2c4ecec4-44e9-4240-b42f-0c9f9b60ba21",
   "metadata": {},
   "outputs": [],
   "source": [
    "\n",
    "\n",
    "\n",
    "payloads = {'motor internal':\n",
    "                {'mass': 0.0,\n",
    "                 'inertia': 0.0,\n",
    "                 'count': 1,\n",
    "                 'ratio': 1.0,\n",
    "                },\n",
    "            \n",
    "            'motor external':\n",
    "                {'mass': 0.0,\n",
    "                 'inertia': 0.0,\n",
    "                 'count': 1,\n",
    "                 'ratio': 1.0,\n",
    "                },\n",
    "            \n",
    "            'main shaft bearing':\n",
    "                {'mass': 0.0,\n",
    "                 'inertia': 0.0,\n",
    "                 'count': 1,\n",
    "                 'ratio': 1.0,\n",
    "                },            \n",
    "            \n",
    "            'main shaft':\n",
    "                {'mass': 0.0,\n",
    "                 'inertia': 0.0,\n",
    "                 'count': 1,\n",
    "                 'ratio': 1.0,\n",
    "                },    \n",
    "            \n",
    "            'plate':\n",
    "                {'mass': plate_mass,\n",
    "                 'inertia': 0.0,\n",
    "                 'count': 1,\n",
    "                 'ratio': 1.0,\n",
    "                },\n",
    "            \n",
    "            'antenna (deployed)':\n",
    "                {'mass': 0.0,\n",
    "                 'inertia': 0.0,\n",
    "                 'count': 4,\n",
    "                 'ratio': 1.0,\n",
    "                },\n",
    "           }"
   ]
  },
  {
   "cell_type": "markdown",
   "id": "e0503c67-b02d-43aa-8f64-fc9413cfb953",
   "metadata": {
    "tags": []
   },
   "source": [
    "## Bearings\n",
    "\n",
    "### Bearing type and size\n",
    "The preliminary design (July 2022) packaging acommodates a pair of Kaydon KA025AR0 bearings:\n",
    "\n",
    "![Kaydon KA0xxAR0](kaydon-KA0xxAR0-open-A-bearings.png)\n",
    "\n",
    "This is a thin section, angular contact, open bearing, with bore 2.5\\\" (63.5 mm), O.D. 3.0\\\" (76.2 mm), and thickness 0.25\\\" (6.35 mm). Mass is low, ~0.12 lbs = 55 g. We utilize the common design pattern of mounting in pairs, to provides tilt resistance.\n",
    "\n",
    "Stainless steel options (may have custom lead-times and will be more expensive) are available. Replace \"K\" with \"S\" in the part number.\n",
    "\n",
    "Kaydon also offers an attractive \"Type X\" four-point contact bearing. We have previously used such a bearing (at a much larger scale) in the Dark Energy Spectroscopic Instrument (DESI) ADC rotator mechanism. The type X controls 5 degrees of freedom in a single unit, rather than the typical angular contact duplex. This has the advantage of fewer parts and less weight, as well as removing the need to control thrust preload in the mounting between the two separate bearing units. A type X unit of similar package size as KA025AR0 would be KA025XP0:\n",
    "\n",
    "![Kaydon KA0xxXP0](kaydon-KA0xxXP0-open-X-bearings.png)\n",
    "\n",
    "Again, replace \"K\" with \"S\" for equivalent stainless option.\n",
    "\n",
    "### Integrated bearing seals\n",
    "\n",
    "Various seals are available, which we will utilize, to contain lubricant and exclude lunar dust.\n",
    "\n",
    "As of July 2022, the precise seal material is to be determined (TBD).\n",
    "\n",
    "Kaydon's standard seal is nitrile rubber, which we note may need further investigation regarding cryogenic survival temperatures. I would feel most comfortable with polyimide, but need to speak with the vendor.\n",
    "\n",
    "Seals may be external (between housing and shaft, surrounding the bearing) or integrated in the bearing unit itself. For example, Kaydon offers some models with an integrated double-seal (see table below).\n",
    "\n",
    "![Kaydon JA0xxXP0](kaydon-JA0xxXP0-sealed-X-bearings.png)\n",
    "\n",
    "However, the Kaydon line-up does not have sealed bearings in angular contact configurations. \n",
    "\n",
    "For sealed bearings, replace \"J\" with \"W\" in the part number for the stainless option.\n",
    "\n",
    "### External bearing seals\n",
    "\n",
    "If the vendor lacks proven experience with integrated bearing seals in our temperature range (100 K - 400 K), then I prefer that we make our own external seals, from a material with which we have confidence. This way we can move directly to the next phases of testing and integration, as well as have flexibility and visibility as to what is happening.\n",
    "\n",
    "If we machine our own seals I would use [Vespel SP-3](https://www.curbellplastics.com/Research-Solutions/DuPont-Vespel-SP-3). This is a MoS<sub>2</sub>-filled polyimide with a long history of use in space applications, with low creep, high strength, and low coefficient of thermal expansion (for a polymer), and which should survive the temperature extremes. I would fix the seal to the housing and have thin, flexible flanges which bear against the shaft. These seals would be riding on the shaft on each side of the bearing.\n",
    "\n",
    "### Turntable bearings\n",
    "\n",
    "There are some bearings available with more integrated turntable functionality, for example including an external gear profile. An attractive option may be Kaydon T01-00325EAA:\n",
    "\n",
    "![Kaydon turntables - basic](kaydon-turntable-bearings-basic.png)\n",
    "\n",
    "![Kaydon turntables - external gears](kaydon-turntable-bearings-extgear.png)\n",
    "\n",
    "![Kaydon turntables - illustrations](kaydon-turntable-illustrations.png)\n",
    "\n",
    "These turntables are not off-the-shelf parts. Cost and lead-time would be TBD. Performance is not particularly any better than the other options; the attraction here would be the compact packaging. The gearing would need some exterior protection from lunar dust.\n",
    "\n",
    "### Bearings conclusion\n",
    "\n",
    "*(?) Below, for the purposes of preliminary overall system torque calculations, we will presume selection of a single Type-X, nitrile double-sealed, stainless steel Kaydon bearing, i.e. WA025XP0. (?)*"
   ]
  },
  {
   "cell_type": "code",
   "execution_count": 5,
   "id": "4753d731-1d61-49e4-9749-73704ccaad1f",
   "metadata": {},
   "outputs": [],
   "source": [
    "# Bearing friction\n",
    "mu_bearing = 0."
   ]
  },
  {
   "cell_type": "markdown",
   "id": "53fd5eee-436c-49bb-8e80-f7cd0050f996",
   "metadata": {},
   "source": [
    "## References\n",
    "- [Kaydon turntable bearings](https://www.kaydonbearings.com/RealiSlim_TT_bearings.htm)\n",
    "- [Kaydon sealed, slim bearings](https://www.kaydonbearings.com/RealiSlim_sealed_bearings.htm)"
   ]
  },
  {
   "cell_type": "code",
   "execution_count": null,
   "id": "d8adf6b5-c463-4891-8f93-d2d4871d7ead",
   "metadata": {},
   "outputs": [],
   "source": []
  }
 ],
 "metadata": {
  "kernelspec": {
   "display_name": "NERSC Python",
   "language": "python",
   "name": "python3"
  },
  "language_info": {
   "codemirror_mode": {
    "name": "ipython",
    "version": 3
   },
   "file_extension": ".py",
   "mimetype": "text/x-python",
   "name": "python",
   "nbconvert_exporter": "python",
   "pygments_lexer": "ipython3",
   "version": "3.9.7"
  }
 },
 "nbformat": 4,
 "nbformat_minor": 5
}
