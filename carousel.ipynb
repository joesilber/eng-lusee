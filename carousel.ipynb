{
 "cells": [
  {
   "cell_type": "markdown",
   "id": "33ee4b80-0e2a-484f-9785-889902ffa4ce",
   "metadata": {},
   "source": [
    "# Carousel design torques\n",
    "*LuSEE-Night*\\\n",
    "*Antenna Carousel*\\\n",
    "*Joe Silber, LBNL*\\\n",
    "*2022*\n",
    "\n",
    "Abstract: Assessment of carousel (a.k.a. \"turntable\") actuation torques for the LuSEE-Night lunar instrument. The radio antennas rotate on a platform. Key design parameters for the rotation mechanism are considered here."
   ]
  },
  {
   "cell_type": "code",
   "execution_count": null,
   "id": "35b8a90a-8eae-4bda-aa24-33d0e7877fe9",
   "metadata": {},
   "outputs": [],
   "source": []
  }
 ],
 "metadata": {
  "kernelspec": {
   "display_name": "NERSC Python",
   "language": "python",
   "name": "python3"
  },
  "language_info": {
   "codemirror_mode": {
    "name": "ipython",
    "version": 3
   },
   "file_extension": ".py",
   "mimetype": "text/x-python",
   "name": "python",
   "nbconvert_exporter": "python",
   "pygments_lexer": "ipython3",
   "version": "3.9.7"
  }
 },
 "nbformat": 4,
 "nbformat_minor": 5
}
