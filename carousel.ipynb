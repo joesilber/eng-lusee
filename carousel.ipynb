{
 "cells": [
  {
   "cell_type": "markdown",
   "id": "33ee4b80-0e2a-484f-9785-889902ffa4ce",
   "metadata": {},
   "source": [
    "# Carousel mechanism design\n",
    "Project: *LuSEE-Night* <br>\n",
    "System: *Antenna Carousel* <br>\n",
    "Author: *Joe Silber* <br>\n",
    "Institution: *Lawrence Berkeley National Lab (LBNL)* <br>\n",
    "Date: *July 2022* <br>\n",
    "\n",
    "Abstract: Assessment of carousel (a.k.a. \"turntable\") mechanism and torques for the LuSEE-Night lunar instrument. The radio antennas rotate on a platform. Key design parameters and options for the rotation mechanism are considered here."
   ]
  },
  {
   "cell_type": "markdown",
   "id": "c91bd0ca-2e8a-4621-9755-1838f9b38de8",
   "metadata": {},
   "source": [
    "## Preliminaries"
   ]
  },
  {
   "cell_type": "markdown",
   "id": "3f92e231-3b44-41fe-ab55-9c0f63e953d8",
   "metadata": {},
   "source": [
    "### Units and coordinate systems\n",
    "Except where otherwise specified...\n",
    "- all units are in meters, kilograms, newtons, and seconds\n",
    "- all inertias and positions are with respect to a global coordinate system, with Z axis concentric to rotation axis"
   ]
  },
  {
   "cell_type": "markdown",
   "id": "105ca16c-196e-46d0-8df7-49fe6a409f13",
   "metadata": {},
   "source": [
    "### Python initializations and units"
   ]
  },
  {
   "cell_type": "code",
   "execution_count": 1,
   "id": "4ef2b04e-c8ed-4299-928c-924ea73206c1",
   "metadata": {
    "tags": []
   },
   "outputs": [],
   "source": [
    "import math\n",
    "deg = '\\u00b0'\n",
    "Nm_per_ozin = 141.61193227806  # metric/imperial torque conversion"
   ]
  },
  {
   "cell_type": "markdown",
   "id": "afe38c40-8acf-48c2-89bd-15023660f55c",
   "metadata": {},
   "source": [
    "### General material properties"
   ]
  },
  {
   "cell_type": "code",
   "execution_count": 2,
   "id": "cf93fd0a-d327-49d7-92d7-328f7b87b564",
   "metadata": {},
   "outputs": [],
   "source": [
    "rho_ss = 8000  # stainless steel density\n",
    "rho_ti = 4430  # titanium density\n",
    "rho_al = 2700  # aluminum density"
   ]
  },
  {
   "cell_type": "markdown",
   "id": "970b330d-778d-4db2-994e-65f2c9572f6d",
   "metadata": {},
   "source": [
    "### Carbon fiber properties"
   ]
  },
  {
   "cell_type": "code",
   "execution_count": 3,
   "id": "cff310ba-aee8-4342-b9f7-b1e1ad0b55ee",
   "metadata": {
    "tags": []
   },
   "outputs": [
    {
     "name": "stdout",
     "output_type": "stream",
     "text": [
      "Estimated carbon fiber reinforced plastic (CFRP) density = 1695.4 kg/m^3, volume fraction = 53.1%\n"
     ]
    }
   ],
   "source": [
    "rho_f = 2170  # carbon fiber density, e.g. CN-80\n",
    "rho_m = 1170  # resin matrix density, e.g. EX-1515\n",
    "Mm = 0.32  # matrix mass fraction, i.e. prepreg resin content from vendor\n",
    "Vv = 0.005  # as-cured void fraction\n",
    "Vf = (1 - Vv) / (1 + rho_f / rho_m * Mm / (1 - Mm))  # fiber volume fraction, assuming no bleed (conservative)\n",
    "cfrp_density = rho_f * Vf + rho_m * (1 - Vf - Vv)\n",
    "print(f'Estimated carbon fiber reinforced plastic (CFRP) density = {cfrp_density:.1f} kg/m^3, volume fraction = {Vf*100:.1f}%')"
   ]
  },
  {
   "cell_type": "markdown",
   "id": "f1036926-a15a-40b9-b4f7-587d009c6890",
   "metadata": {},
   "source": [
    "## Key mechanical design criteria\n",
    "The design criteria below will be used in sizing components and ensuring sufficient mechanical factors of safey. These criteria are informed by key recommendations in NASA's [General Environmental Verification Standards (GEVS)](https://standards.nasa.gov/sites/default/files/standards/GSFC/B/0/gsfc-std-7000b_signature_cycle_04_28_2021_fixed_links.pdf) (accessed 2022-07-09)."
   ]
  },
  {
   "cell_type": "markdown",
   "id": "f38d541f-7056-4aab-b081-943a439c0680",
   "metadata": {},
   "source": [
    "### Structural load limit\n",
    "The limit loads for the carousel mechanism are derived from GEVS Table 2.4-3,\n",
    "*Generalized Random Vibration Test Levels*. For components weighing less than 22.7 kg, an overall qualification level (in $G_{rms}$) is directly specified. We then apply a proof factor per section 2.4.1.4.1, and a design factor to get the design limit. The design factor accommodated uncertainty in material properties and tolerances in the proof test method. These limits are applied for nominal accelerations in 3 orthogonal axes."
   ]
  },
  {
   "cell_type": "code",
   "execution_count": 4,
   "id": "fabf9d61-61cf-4227-93c4-c70d8dd197bb",
   "metadata": {},
   "outputs": [
    {
     "name": "stdout",
     "output_type": "stream",
     "text": [
      "Design load level = 21.1 G(rms)\n"
     ]
    }
   ],
   "source": [
    "Grms_qual = 14.1\n",
    "proof_factor = 1.25\n",
    "design_factor = 1.2\n",
    "Grms_design = Grms_qual * proof_factor * design_factor\n",
    "print(f'Design load level = {Grms_design:.1f} G(rms)')"
   ]
  },
  {
   "cell_type": "markdown",
   "id": "7b08cf0a-e6be-4690-bca9-2b6ac819638d",
   "metadata": {},
   "source": [
    "### Torque margin\n",
    "Torque margin ($TM$) for the carousel turntable is assessed per GEVS section 2.4.5.3. Two safety factors, $FS_k$ and $FS_v$ are applied to the \"known\" and \"variable\" torques in the system. The available driving torque $T_{avail}$ at the motor (not including gearhead) is compared according to:\n",
    "\n",
    "$$TM = \\frac{T_{avail}}{FS_k \\sum T_{known} + FS_v \\sum T_{variable}} - 1$$\n",
    "\n",
    "These torques are characterized in GEVS as:\n",
    "\n",
    "> **Driving Torques**\n",
    ">\n",
    "> $T_{avail}$ = Minimum Available Torque or Force generated by the mechanism at worst case environmental conditions at any time in its life. If motors are used in the system, $T_{avail}$ shall be determined at the output of the motor, not including gear heads or gear trains at its output based on minimum supplied motor voltage. $T_{avail}$ similarly applies to other actuators such as springs, pyrotechnics, solenoids, heat actuated devices, etc.\n",
    "> \n",
    "> **Resistive Torques**\n",
    ">\n",
    "> $\\sum T_{known}$ = Sum of the fixed torques or forces that are known and quantifiable such as\n",
    "accelerated inertias ($T = I \\alpha$) and not influenced by friction, temperature, life, etc. A constant Safety Factor is applied to the calculated torque.\n",
    ">\n",
    "> $\\sum T_{variable}$ = Sum of the torques or forces that may vary over environmental conditions and life such as static or dynamic friction, alignment effects, latching forces, wire harness\n",
    "loads, damper drag, variations in lubricant effectiveness, including degradation or depletion of lubricant over life, etc.\n",
    "\n",
    "Here we use the highest (PDR phase) torque safety factor values from GEVS:"
   ]
  },
  {
   "cell_type": "code",
   "execution_count": 5,
   "id": "9671e8f4-04a1-4675-a3d1-624596da3af6",
   "metadata": {},
   "outputs": [],
   "source": [
    "FSk = 2.0  # preliminary design review phase\n",
    "           # drops to 1.5 at critical design review\n",
    "           # remains 1.5 at acceptance / qualification testing\n",
    "\n",
    "FSv = 4.0  # preliminary design review phase\n",
    "           # drops to 3.0 at critical design review\n",
    "           # drops to 2.0 at acceptance / qualification testing"
   ]
  },
  {
   "cell_type": "markdown",
   "id": "96b799cc-cd5e-40f2-b158-2a027ba1ceb3",
   "metadata": {},
   "source": [
    "### Thermal criteria\n",
    "The carousel system must survive the lunar day/night cycle. It must operate at intermediate temperatures around dusk/dawn.\n",
    "\n",
    "The plots below, showing lunar temperature as a function of hour and latitude, were retrieved July 2022 from an article (exact reference?) found through citations [here](https://quickmap.lroc.asu.edu/layers):\n",
    "\n",
    "![Lunar temperatures as function of hour and latitude](figures/lunar-temperatures.png)\n",
    "\n",
    "We anticipate LuSEE-Night will land at one of two sites:\n",
    "\n",
    "1. $155^o$ E and $15^o$ S\n",
    "2. $175^o$ E and $22^o$ S\n",
    "\n",
    "These indicate that the lander will experience temperature extrema of:"
   ]
  },
  {
   "cell_type": "code",
   "execution_count": 21,
   "id": "dfae3df6-d1f2-4ee1-9356-954ee91a9016",
   "metadata": {},
   "outputs": [
    {
     "name": "stdout",
     "output_type": "stream",
     "text": [
      "Lunar temperature range =  +90 to +390 °K\n",
      "Lunar temperature range = -183 to +117 °C\n",
      "Lunar temperature range = -298 to +242 °F\n"
     ]
    }
   ],
   "source": [
    "temp_ranges = {'extrema': [90, 390]}  # Kelvin"
   ]
  },
  {
   "cell_type": "markdown",
   "id": "e26529fe-2756-4f13-b6a0-b869198b1714",
   "metadata": {},
   "source": [
    "#### Survival temperature range\n",
    "For design and testing purposes, the survival temperature range is obtained by increasing the expected lunar range by a margin on either end."
   ]
  },
  {
   "cell_type": "code",
   "execution_count": 22,
   "id": "54e02cca-c26d-4459-a4fe-10358f35399e",
   "metadata": {},
   "outputs": [
    {
     "name": "stdout",
     "output_type": "stream",
     "text": [
      "Survival temperature range =  +80 to +400 °K\n",
      "Survival temperature range = -193 to +127 °C\n",
      "Survival temperature range = -316 to +260 °F\n"
     ]
    }
   ],
   "source": [
    "temp_margin = 10.0  # deg C\n",
    "temp_ranges['survival'] = [min(temp_ranges['extrema']) - temp_margin,\n",
    "                           max(temp_ranges['extrema']) + temp_margin]"
   ]
  },
  {
   "cell_type": "markdown",
   "id": "2a65e953-7138-4402-98d9-59f0ed421a51",
   "metadata": {},
   "source": [
    "#### Operating temperature range\n",
    "The operating temperature for carousel rotation will be less extreme. We want a range which is moderate enough to includes practical motors, transmissions, and bearings, yet wide enough to allow a significant period in the dusk/dawn time window where ground-based operators can effectively send commands, monitor the response, and make any adjustments if necessary. A good operating temperature range also offers practical conditions for testing in the lab.\n",
    "\n",
    "Under the assumption of a perfluoropolyether (PFPE) based lubricant in the gears and bearings ...\n",
    "\n",
    "? For what temperature range do we have equipment on hand to practically test operating the motors, bearings, transmissions---the full turntable assembly---in vacuum ?"
   ]
  },
  {
   "cell_type": "code",
   "execution_count": null,
   "id": "a79837a9-3df0-49b0-81f5-59c59625ee4a",
   "metadata": {},
   "outputs": [],
   "source": [
    "temp_ranges['operating'] = "
   ]
  },
  {
   "cell_type": "code",
   "execution_count": null,
   "id": "c564fe7b-6822-4bae-a197-813ff2b9b468",
   "metadata": {},
   "outputs": [],
   "source": [
    "T_extrema['K'][1] + T_margin]  # Kelvin\n",
    "T_survival['C'] = [T-273.15 for T in T_survival['K']]  # Celsius\n",
    "T_survival['F'] = [T*9/5 + 32 for T in T_survival['C']]  # Fahrenheit\n",
    "for unit, Tminmax in T_survival.items():\n",
    "    print(f'Survival temperature range = {Tminmax[0]:+4.0f} to {Tminmax[1]:+4.0f} {deg}{unit}')"
   ]
  },
  {
   "cell_type": "markdown",
   "id": "b1eb88dc-02a0-4f98-b53a-224653cd87d5",
   "metadata": {},
   "source": [
    "## Payload\n",
    "Total mass budget for the carousel system is:"
   ]
  },
  {
   "cell_type": "code",
   "execution_count": 7,
   "id": "99a6d49f-b47f-4520-9b6a-266ba26e728b",
   "metadata": {},
   "outputs": [],
   "source": [
    "mass_budget_total = 8.0  # kg"
   ]
  },
  {
   "cell_type": "markdown",
   "id": "5f03ff38-1e21-483a-964b-b67feaf41439",
   "metadata": {},
   "source": [
    "Some fraction of this mass (in particular the drive motor and transmission) will be static.\n",
    "\n",
    "For the purposes of this document, we subdivide the rotating payload into the following estimated masses, moments, and transmission ratios:"
   ]
  },
  {
   "cell_type": "markdown",
   "id": "d4bcf83b-c218-4c8a-837e-a1eb13a9d87c",
   "metadata": {},
   "source": [
    "### Turntable plate\n",
    "Three common engineering materials are being considered for the turntable platter: aluminum, titanium, or carbon fiber reinforced plastic (CFRP)."
   ]
  },
  {
   "cell_type": "code",
   "execution_count": 8,
   "id": "f3c2ff67-215a-427a-b2ad-a88546621515",
   "metadata": {},
   "outputs": [],
   "source": [
    "plate_od = 0.500  # outer diameter\n",
    "plate_id = 0.079  # inner diameter\n",
    "plate_t = 0.010  # thickness\n",
    "plate_r2, plate_r1 = plate_od/2, plate_id/2  # radii\n",
    "plate_area = math.pi * (plate_r2**2 - plate_r1**2)\n",
    "uniform_plate_inertia_over_mass = 0.5 * (plate_r1**2 + plate_r2**2)"
   ]
  },
  {
   "cell_type": "markdown",
   "id": "e8f06ffe-0e2a-4e7c-81be-8388163d7043",
   "metadata": {},
   "source": [
    "Bending stiffness is achieved either through a honeycomb core or ribs (of which a nominal design might look like that illustrated here:\n",
    "![Nominal ribs for a turntable](figures/nominal-turntable-ribs.png)"
   ]
  },
  {
   "cell_type": "code",
   "execution_count": 9,
   "id": "97c45d87-bc6b-472d-908b-5fa5895323dc",
   "metadata": {},
   "outputs": [],
   "source": [
    "core_vf = 0.15 # honeycomb core volume fraction, typically about 8-32% depending on design\n",
    "ribs_af = 0.20 # approx area fraction of some nominal ribs stiffening design for turntable plate"
   ]
  },
  {
   "cell_type": "markdown",
   "id": "89b467e0-a712-414f-9644-7b99e1266572",
   "metadata": {},
   "source": [
    "#### CFRP sandwich construction\n",
    "CFRP would have a higher stiffness per unit mass than the metals, as well as some natural structural damping. We would likely use an intermediate modulus fiber in a quasi-isotropic, balanced, symmetric layup. Matrix would be 350$^o$F (450 K) cured resin such as Toray RS-3C, commonly used in spacecraft. The design would need to be sufficiently low-strain such that the total temperature change from processing (450 K) down to lunar night (100 K) does not exceed fiber strain limits. A honeycomb sandwich construction would be most mass-efficient, with titanium or aluminum inserts at bolted connections. Thermal expansion effects would be low, several parts per million (ppm) per degree K. Low out-of-plane thermal conductivity would be of some benefit in reducing the heat transfer rate from the turntable to the rest of the spacecraft below it. The main detractions of CFRP are the higher design and fabrication costs."
   ]
  },
  {
   "cell_type": "code",
   "execution_count": 10,
   "id": "8f5596ef-bc86-4a03-be07-877458fc0570",
   "metadata": {},
   "outputs": [],
   "source": [
    "plate_sandwich_skin_t = 0.0016\n",
    "plate_sandwich_core_t = plate_t - 2 * plate_sandwich_skin_t\n",
    "plate_sandwich_skin_rho = cfrp_density\n",
    "plate_sandwich_core_rho = rho_al * core_vf\n",
    "plate_sandwich_mass = (2*plate_sandwich_skin_rho*plate_sandwich_skin_t + plate_sandwich_core_rho*plate_sandwich_core_t) * plate_area\n",
    "plate_masses = {'CFRP sandwich': plate_sandwich_mass}"
   ]
  },
  {
   "cell_type": "markdown",
   "id": "6489de58-6fec-4089-a1bf-93c6381178ce",
   "metadata": {},
   "source": [
    "#### Metal ribbed plate construction\n",
    "Material would be either titanium or aluminum.\n",
    "\n",
    "A machined aluminum plate would be the least expensive to fabricate. Detractions are the higher CTE ($\\sim$12-25 ppm/K over the 100K-400K temperature range) and reduced stress allowables at sustained high temperature (7075-T651 aluminum, for example, may have yield strength reduction from $\\sim$ 500 MPa at room temperature to $\\sim$ 180 MPa when sustained at 150$^o$C (423 K). The high thermal conductivity of aluminum allows faster heat transfer toward the spacecraft. All these detractions can likely be mitigated with use of appropriate design allowables and thermal breaks.\n",
    "\n",
    "Grade 5 titanium would be a robust solution. Material cost would be comparable to CFRP, though fabrication complexity would be simpler. CTE is relatively low and stable ($\\sim$5-9 ppm/K over range 100K-400K), strength is high, and the very low thermal conductivity ($\\sim$5-8 W/m*K) would provide some natural insulation of the rest of the spacecraft from the exposed turntable's temperature. For cost and ease of manufacturing we would probably not machine the plate out of thick titanium, but rather screw together a thinner face sheet with stiffening ribs."
   ]
  },
  {
   "cell_type": "code",
   "execution_count": 11,
   "id": "b2cedf0b-3084-46a0-a8ef-eb62b4a028ac",
   "metadata": {},
   "outputs": [],
   "source": [
    "plate_rhos = {'aluminum': rho_al,\n",
    "              'titanium': rho_ti,\n",
    "             }  # density\n",
    "plate_face_t = 0.0016  # face plate thickness\n",
    "plate_ribs_t = plate_t - plate_face_t\n",
    "plate_volume = (plate_face_t + plate_ribs_t * ribs_af) * plate_area\n",
    "for name, rho in plate_rhos.items():\n",
    "    plate_masses[name] = rho * plate_volume"
   ]
  },
  {
   "cell_type": "markdown",
   "id": "254eba80-88a1-4aba-9356-31a4cf19944d",
   "metadata": {},
   "source": [
    "#### Plate construction options summary"
   ]
  },
  {
   "cell_type": "code",
   "execution_count": 12,
   "id": "ebe6cd02-ba98-46eb-a8e6-ec6967b87d1f",
   "metadata": {},
   "outputs": [
    {
     "name": "stdout",
     "output_type": "stream",
     "text": [
      "Turntable mass = 1.566 kg, inertia = 0.0502 kg/m^2 (CFRP sandwich)\n",
      "Turntable mass = 1.695 kg, inertia = 0.0543 kg/m^2 (aluminum)\n",
      "Turntable mass = 2.782 kg, inertia = 0.0891 kg/m^2 (titanium)\n"
     ]
    }
   ],
   "source": [
    "plate_inertias = {}\n",
    "for name, mass in plate_masses.items():\n",
    "    plate_inertias[name] = mass * uniform_plate_inertia_over_mass  # note this uniform assumption is good for a typical evenly-spaced rib pattern\n",
    "    print(f'Turntable mass = {plate_masses[name]:.3f} kg, inertia = {plate_inertias[name]:.4f} kg/m^2 ({name})')"
   ]
  },
  {
   "cell_type": "code",
   "execution_count": 13,
   "id": "cbf16b46-ab03-4517-9fc0-a41fc07b691c",
   "metadata": {},
   "outputs": [],
   "source": [
    "# For purposes of motor sizing, select the heaviest option.\n",
    "plate_mass = max(plate_masses.values())\n",
    "plate_inertia = max(plate_inertias.values())"
   ]
  },
  {
   "cell_type": "markdown",
   "id": "b1b50a76-b427-473b-a042-a8d89451948e",
   "metadata": {},
   "source": [
    "### Antenna deployer and pre-amp\n",
    "Mass and inertia estimates are based on the CAD preliminary design model (July 2022).\n",
    "\n",
    "#### Stowed configuration:\n",
    "![Stowed mass and inertia](figures/inertia-deployer-and-preamp-stowed.png)\n",
    "\n",
    "#### Deployed configuration (3m extension):\n",
    "![Deployed mass and inertia](figures/inertia-deployer-and-preamp-deployed3m.png)\n",
    "\n",
    "Note that the masses shown here are not quite identical, due to internal details of the preliminary model. For the conservative purposes of this study, a rough adjustment is made where the larger mass value (stowed) is used to linearly scale up the deployed mass and inertia.\n",
    "\n",
    "#### (?) Deployed configuration (2m extension):\n",
    "#### (?) Pattern of 2m vs 3m antennas:"
   ]
  },
  {
   "cell_type": "code",
   "execution_count": 14,
   "id": "c86c8042-5e7b-4662-9c39-e1ce175a0e9a",
   "metadata": {},
   "outputs": [
    {
     "name": "stdout",
     "output_type": "stream",
     "text": [
      "Deployed single antenna + pre-amp (adjusted): mass = 3.148 kg, inertia = 4.525 kg/m^2\n"
     ]
    }
   ],
   "source": [
    "stowed_mass = 3.148\n",
    "stowed_inertia = 0.1272\n",
    "deployed_mass_as_modeled = 2.924\n",
    "deployed_inertia_as_modeled = 4.203\n",
    "deployed_adjustment = stowed_mass / deployed_mass_as_modeled\n",
    "deployed_mass = deployed_mass_as_modeled * deployed_adjustment\n",
    "deployed_inertia = deployed_inertia_as_modeled * deployed_adjustment\n",
    "print(f'Deployed single antenna + pre-amp (adjusted): mass = {deployed_mass:.3f} kg, inertia = {deployed_inertia:.4} kg/m^2')"
   ]
  },
  {
   "cell_type": "markdown",
   "id": "0c9dc4d1-c470-4965-8f7f-9ff073e41149",
   "metadata": {},
   "source": [
    "### Central shaft and bearings\n",
    "These rotating components are lumped together and approximated as a single tube of metal."
   ]
  },
  {
   "cell_type": "code",
   "execution_count": 15,
   "id": "a2595259-1416-4ffe-b978-af53dbdfef39",
   "metadata": {},
   "outputs": [
    {
     "name": "stdout",
     "output_type": "stream",
     "text": [
      "Central shaft and bearing: mass = 0.188 kg, inertia = 0.0002662 kg/m^2\n"
     ]
    }
   ],
   "source": [
    "central_od = 0.080  # outer diameter\n",
    "central_id = 0.070  # inner diameter\n",
    "central_length = 0.020  # length\n",
    "central_r1, central_r2 = central_id/2, central_od/2  # radii\n",
    "central_rho = rho_ss\n",
    "central_mass = central_rho * central_length * math.pi * (central_r2**2 - central_r1**2)\n",
    "central_inertia = 0.5 * central_mass * (central_r1**2 + central_r2**2)\n",
    "print(f'Central shaft and bearing: mass = {central_mass:.3f} kg, inertia = {central_inertia:.4} kg/m^2')"
   ]
  },
  {
   "cell_type": "markdown",
   "id": "62c718c7-c223-456c-ae88-44e427ce4877",
   "metadata": {},
   "source": [
    "### Parallel-axis transmission"
   ]
  },
  {
   "cell_type": "markdown",
   "id": "90828ad8-2564-42e7-965f-378ba6f0750c",
   "metadata": {},
   "source": [
    "### Motor shaft, gears, bearing\n",
    "In the present study (July 2022), whose initial purpose is to define specifications for the motor, the internal details of the motor are not considered. They could be added to this study at a later date, after we have selected a specific motor model."
   ]
  },
  {
   "cell_type": "markdown",
   "id": "0f6c43c6-cef8-48a2-bf5e-4f4bb1f47b29",
   "metadata": {},
   "source": [
    "## Friction\n",
    "\n",
    "### External dust seal\n",
    "\n",
    "Some dust seal(s) will be required to prevent lunar dust from accessing the bearing and transmission. These impose some friction load on the assembly.\n",
    "\n",
    "Here I assume the seal contact is made against a flat face by annular, thin-walled polyimide. In this approach, there would be one seal at the turntable rotation axis, and another at the motor output, covering the off-axis transmission components. (The motor may additionally have internal seals in its bearing at the output shaft, TBD.)\n",
    "\n",
    "The seal at the central axis will bear either on the rotating turntable, or else be mounted to the turntable and bear on its opposing counterpart (i.e. the top plate or the central shaft support). Preload force will be relatively low, since only dust needs to be excluded.\n",
    "\n",
    "Some comments are offered in another section about the option of alternatively, or additionally, having internal seals integral to the bearing. There are both advantages and disadvantages. It would be necessary for the bearing vendor to fabricate using a seal material with which we are comfortable at the lunar temperature extremes and in vacuum."
   ]
  },
  {
   "cell_type": "code",
   "execution_count": 16,
   "id": "03261aed-7a1a-4a50-94c1-c3fc5722e15a",
   "metadata": {},
   "outputs": [
    {
     "name": "stdout",
     "output_type": "stream",
     "text": [
      "External dust seal at radius 0.080 m: clamping force = 1.5 N\n"
     ]
    }
   ],
   "source": [
    "seal_contact_radius = 0.080  # annulus of contact for the seals\n",
    "seal_contact_width = 0.003  # rough guess as to desirable contact width, will depend on seal design details\n",
    "seal_contact_pressure_millibar = 10  # rough guess as to desirable clamping pressure (per seal)\n",
    "seal_contact_pressure = seal_contact_pressure_millibar * 100\n",
    "seal_contact_area = 2 * math.pi * seal_contact_radius * seal_contact_width\n",
    "seal_clamping_force = seal_contact_pressure * seal_contact_area\n",
    "print(f'External dust seal at radius {seal_contact_radius:.3f} m: clamping force = {seal_clamping_force:.1f} N')"
   ]
  },
  {
   "cell_type": "markdown",
   "id": "d13d6880-f4b8-44b1-8c03-955464fcbfe3",
   "metadata": {},
   "source": [
    "Datasheet values for the static and dynamic friction coefficient of [Vespel SP-1](https://www.curbellplastics.com/Research-Solutions/DuPont-Vespel-SP-1) are listed at 0.29 and 0.35, respectively. I presume a fixed, static value of 0.35 for the purposes of this calculation, and estimate a fixed torque based on the assumed contact annulus."
   ]
  },
  {
   "cell_type": "code",
   "execution_count": 17,
   "id": "fc4ad8f5-3eb5-4c19-9512-f4bdb8e08a29",
   "metadata": {},
   "outputs": [
    {
     "name": "stdout",
     "output_type": "stream",
     "text": [
      "External dust seal static torque = 0.042 N*m = 6.0 oz*in\n"
     ]
    }
   ],
   "source": [
    "seal_mu = 0.35\n",
    "seal_torque = seal_mu * seal_contact_radius * seal_clamping_force\n",
    "print(f'External dust seal static torque = {seal_torque:.3f} N*m = {seal_torque * Nm_per_ozin:.1f} oz*in')"
   ]
  },
  {
   "cell_type": "markdown",
   "id": "7ced7e4c-d8c3-4754-a046-12a16737cc5f",
   "metadata": {},
   "source": [
    "### Bearing friction\n",
    "For the purposes of preliminary overall system torque calculations, I presume a bearing with its own integrated dust seal. This may not be the case, as discussed in more detail in the bearing selection section below. But presently, in sizing the motor and transmission, I assume selection of a single Type-X, nitrile double-sealed, stainless steel bearing, e.g. Kaydon WA025XP0. The vendor provides a static torque value for this bearing, given default lubrication and temperature conditions:"
   ]
  },
  {
   "cell_type": "code",
   "execution_count": 18,
   "id": "4753d731-1d61-49e4-9749-73704ccaad1f",
   "metadata": {},
   "outputs": [
    {
     "name": "stdout",
     "output_type": "stream",
     "text": [
      "Central bearing static torque = 0.056 N*m\n"
     ]
    }
   ],
   "source": [
    "bearing_torque_ozin = 8.0  # oz*in\n",
    "bearing_torque = bearing_torque_ozin / Nm_per_ozin\n",
    "print(f'Central bearing static torque = {bearing_torque:.3f} N*m')"
   ]
  },
  {
   "cell_type": "code",
   "execution_count": 19,
   "id": "2c4ecec4-44e9-4240-b42f-0c9f9b60ba21",
   "metadata": {},
   "outputs": [],
   "source": [
    "\n",
    "\n",
    "\n",
    "payloads = {'motor internal':\n",
    "                {'mass': 0.0,\n",
    "                 'inertia': 0.0,\n",
    "                 'count': 1,\n",
    "                 'ratio': 1.0,\n",
    "                },\n",
    "            \n",
    "            'motor external':\n",
    "                {'mass': 0.0,\n",
    "                 'inertia': 0.0,\n",
    "                 'count': 1,\n",
    "                 'ratio': 1.0,\n",
    "                },\n",
    "            \n",
    "            'main shaft bearing':\n",
    "                {'mass': 0.0,\n",
    "                 'inertia': 0.0,\n",
    "                 'count': 1,\n",
    "                 'ratio': 1.0,\n",
    "                },            \n",
    "            \n",
    "            'main shaft':\n",
    "                {'mass': 0.0,\n",
    "                 'inertia': 0.0,\n",
    "                 'count': 1,\n",
    "                 'ratio': 1.0,\n",
    "                },    \n",
    "            \n",
    "            'plate':\n",
    "                {'mass': plate_mass,\n",
    "                 'inertia': 0.0,\n",
    "                 'count': 1,\n",
    "                 'ratio': 1.0,\n",
    "                },\n",
    "            \n",
    "            'antenna (deployed)':\n",
    "                {'mass': 0.0,\n",
    "                 'inertia': 0.0,\n",
    "                 'count': 4,\n",
    "                 'ratio': 1.0,\n",
    "                },\n",
    "           }"
   ]
  },
  {
   "cell_type": "markdown",
   "id": "e0503c67-b02d-43aa-8f64-fc9413cfb953",
   "metadata": {
    "tags": []
   },
   "source": [
    "## Bearings\n",
    "\n",
    "### Bearing type and size\n",
    "The preliminary design (July 2022) packaging acommodates a pair of Kaydon KA025AR0 bearings:\n",
    "\n",
    "![Kaydon KA0xxAR0](figures/kaydon-KA0xxAR0-open-A-bearings.png)\n",
    "\n",
    "This is a thin section, angular contact, open bearing, with bore 2.5\\\" (63.5 mm), O.D. 3.0\\\" (76.2 mm), and thickness 0.25\\\" (6.35 mm). Mass is low, ~0.12 lbs = 55 g. We utilize the common design pattern of mounting in pairs, to provide tilt resistance.\n",
    "\n",
    "Stainless steel options (may have custom lead-times and will be more expensive) are available. Replace \"K\" with \"S\" in the part number.\n",
    "\n",
    "Kaydon also offers an attractive \"Type X\" four-point contact bearing. We have previously used such a bearing (at a much larger scale) in the Dark Energy Spectroscopic Instrument (DESI) ADC rotator mechanism. The type X controls 5 degrees of freedom in a single unit, rather than the typical angular contact duplex. This has the advantage of fewer parts and less weight, as well as removing the need to control thrust preload in the mounting between the two separate bearing units. A type X unit of similar package size as KA025AR0 would be KA025XP0:\n",
    "\n",
    "![Kaydon KA0xxXP0](figures/kaydon-KA0xxXP0-open-X-bearings.png)\n",
    "\n",
    "Again, replace \"K\" with \"S\" for equivalent stainless option.\n",
    "\n",
    "### External vs internal bearing seals\n",
    "\n",
    "For these open bearings, we would make a dust seal that rides on the shaft and/or flat face. Call this an \"external\" seal. It has the advantages of being:\n",
    "\n",
    "- independent from the bearing selection and procurement\n",
    "- easily replaceable\n",
    "- visible and inspectable\n",
    "- material of our choice (i.e. robust, low cte, temperature tolerant material like polyimide)\n",
    "\n",
    "We can alternatively purchase a bearing with integrated seals. Call this an \"internal\" seal. It has the advantages of:\n",
    "\n",
    "- lower part count\n",
    "- lower mass\n",
    "- more compact packaging\n",
    "\n",
    "Again taking Kaydon as an example bearing manufacturer, their standard seal material is nitrile rubber. This would need to be qualified for our temperature range (100 K - 400 K). Kaydon does offer customization options in alternate seal materials, but we have not yet checked whether polyimide in particular would work for them. Several models Kaydon offers with an integrated double-seal are given in this table:\n",
    "\n",
    "![Kaydon JA0xxXP0](figures/kaydon-JA0xxXP0-sealed-X-bearings.png)\n",
    "\n",
    "The Kaydon line-up does not have sealed bearings in angular contact configurations. \n",
    "\n",
    "For sealed bearings, replace \"J\" with \"W\" in the part number for the stainless option.\n",
    "\n",
    "### Bearing seal materials\n",
    "\n",
    "If we fabricate our own seals, one might consider using [Vespel SP-3](https://www.curbellplastics.com/Research-Solutions/DuPont-Vespel-SP-3). This is a 15% MoS<sub>2</sub>-filled polyimide with a long history of use in space applications, with low creep, high strength, and low coefficient of thermal expansion (for a polymer), and which should survive the temperature extremes.\n",
    "\n",
    "A concern I have is that the friction coefficient of SP-3 in vacuum is reported to be very low (0.03) in the Dupont datasheet. Normally lower friction is \"good\" in a bearing, however in our design, having some consistent friction is helpful, to guarantee stability of the position of the turntable stable when powered off. So we probably rather prefer having a consistent friction whether testing in lab air or operating in vacuum. In this respect, unfilled [Vespel SP-1](https://www.curbellplastics.com/Research-Solutions/DuPont-Vespel-SP-1) may be a simpler and better choice. However, the DuPont datasheet does not specifically list a vacuum friction coefficient, so this bears some further investigation.\n",
    "\n",
    "Graphite-filled polyimide grades would not be chosen, since the graphite lubricant can in fact become abrasive in a moisture-free environment.\n",
    "\n",
    "### Turntable bearings\n",
    "\n",
    "There are some bearings available with more integrated turntable functionality, for example including an external gear profile. An attractive option may be Kaydon T01-00325EAA:\n",
    "\n",
    "![Kaydon turntables - basic](figures/kaydon-turntable-bearings-basic.png)\n",
    "\n",
    "![Kaydon turntables - external gears](figures/kaydon-turntable-bearings-extgear.png)\n",
    "\n",
    "![Kaydon turntables - illustrations](figures/kaydon-turntable-illustrations.png)\n",
    "\n",
    "These turntables are not off-the-shelf parts. Cost and lead-time would be TBD. Performance is not particularly any better than the other options; the attraction here would be the compact packaging. The gearing would need some exterior protection from lunar dust."
   ]
  },
  {
   "cell_type": "markdown",
   "id": "92483b66-7a55-40b5-920a-f93e4ab65a75",
   "metadata": {},
   "source": [
    "## Harness\n",
    "The primary elastic contributor to torque is the cable harness. Its torsional stiffness is estimated here by counting the number of conductors, guessing a gauge and strand count for each conductor, and then adding up their torsional stiffness plus their plastic jackets in parallel."
   ]
  },
  {
   "cell_type": "markdown",
   "id": "53fd5eee-436c-49bb-8e80-f7cd0050f996",
   "metadata": {},
   "source": [
    "## References\n",
    "- [NASA General Environmental Verification Standards (GEVS)](https://standards.nasa.gov/sites/default/files/standards/GSFC/B/0/gsfc-std-7000b_signature_cycle_04_28_2021_fixed_links.pdf)\n",
    "- [Kaydon turntable bearings](https://www.kaydonbearings.com/RealiSlim_TT_bearings.htm)\n",
    "- [Kaydon sealed, slim bearings](https://www.kaydonbearings.com/RealiSlim_sealed_bearings.htm)"
   ]
  },
  {
   "cell_type": "code",
   "execution_count": null,
   "id": "d8adf6b5-c463-4891-8f93-d2d4871d7ead",
   "metadata": {},
   "outputs": [],
   "source": []
  }
 ],
 "metadata": {
  "kernelspec": {
   "display_name": "NERSC Python",
   "language": "python",
   "name": "python3"
  },
  "language_info": {
   "codemirror_mode": {
    "name": "ipython",
    "version": 3
   },
   "file_extension": ".py",
   "mimetype": "text/x-python",
   "name": "python",
   "nbconvert_exporter": "python",
   "pygments_lexer": "ipython3",
   "version": "3.9.7"
  }
 },
 "nbformat": 4,
 "nbformat_minor": 5
}
