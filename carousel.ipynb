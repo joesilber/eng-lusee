{
 "cells": [
  {
   "cell_type": "markdown",
   "id": "33ee4b80-0e2a-484f-9785-889902ffa4ce",
   "metadata": {},
   "source": [
    "# Carousel design torques\n",
    "*LuSEE-Night*\\\n",
    "*Antenna Carousel*\\\n",
    "*Joe Silber, LBNL*\\\n",
    "*2022*\n",
    "\n",
    "Abstract: Assessment of carousel (a.k.a. \"turntable\") actuation torques for the LuSEE-Night lunar instrument. The radio antennas rotate on a platform. Key design parameters for the rotation mechanism are considered here."
   ]
  },
  {
   "cell_type": "markdown",
   "id": "e0503c67-b02d-43aa-8f64-fc9413cfb953",
   "metadata": {},
   "source": [
    "## Bearing type and size\n",
    "The preliminary design (as of 2022-07-07) packaging acommodates a pair of Kaydon KA025AR0 bearings:\n",
    "\n",
    "![Kaydon KA0xxAR0](kaydon-KA0xxAR0-open-A-bearings.png)\n",
    "\n",
    "This is a thin section, angular contact, open bearing, with bore 2.5\\\" (63.5 mm), O.D. 3.0\\\" (76.2 mm), and thickness 0.25\\\" (6.35 mm). Mass is low, ~0.12 lbs = 55 g. We utilize the common design pattern of mounting in pairs, to provides tilt resistance.\n",
    "\n",
    "Kaydon also offers an attractive \"Type X\" four-point contact bearing. We have previously used such a bearing (at a much larger scale) in the Dark Energy Spectroscopic Instrument (DESI) ADC rotator mechanism. The type X controls 5 degrees of freedom in a single unit, rather than the typical angular contact duplex. This has the advantage of fewer parts and less weight, as well as removing the need to control thrust preload in the mounting between the two separate bearing units. A type X unit of similar package size as KA025AR0 would be KA025XP0:\n",
    "\n",
    "![Kaydon KA0xxXP0](kaydon-KA0xxXP0-open-X-bearings.png)\n",
    "\n",
    "## Bearing seals\n",
    "\n",
    "Various seals are available, which we will utilize, to contain lubricant and exclude lunar dust.\n",
    "\n",
    "As of 2022-07-07, the precise seal material is to be determined (TBD).\n",
    "\n",
    "Kaydon's standard seal is nitrile rubber, which we note may need further investigation regarding cryogenic survival temperatures.\n",
    "\n",
    "Seals may be external (between housing and shaft, surrounding the bearing) or integrated in the bearing unit itself. For example, Kaydon offers some models with an integrated double-seal (see table below), but not in angular contact configurations. \n",
    "\n",
    "![Kaydon JA0xxXP0](kaydon-JA0xxXP0-sealed-X-bearings.png)\n",
    "\n",
    "Note that Kaydon can provide this in stainless steel (replace \"J\" with \"W\" in the part number).\n",
    "\n",
    "Below, for the purposes of preliminary overall system torque calculations, we will presume selection of a single Type-X, nitrile double-sealed, stainless steel Kaydon bearing, i.e. WA025XP0."
   ]
  },
  {
   "cell_type": "markdown",
   "id": "53fd5eee-436c-49bb-8e80-f7cd0050f996",
   "metadata": {},
   "source": [
    "## References\n",
    "- [Kaydon turntable bearings](https://www.kaydonbearings.com/RealiSlim_TT_bearings.htm)\n",
    "- [Kaydon sealed, slim bearings](https://www.kaydonbearings.com/RealiSlim_sealed_bearings.htm)"
   ]
  },
  {
   "cell_type": "code",
   "execution_count": 3,
   "id": "4a2aad6a-c505-447d-b04b-cb4963abc9e7",
   "metadata": {},
   "outputs": [
    {
     "data": {
      "text/plain": [
       "0.054545454545454536"
      ]
     },
     "execution_count": 3,
     "metadata": {},
     "output_type": "execute_result"
    }
   ],
   "source": [
    "0.12/2.2\n"
   ]
  },
  {
   "cell_type": "code",
   "execution_count": null,
   "id": "d8adf6b5-c463-4891-8f93-d2d4871d7ead",
   "metadata": {},
   "outputs": [],
   "source": []
  }
 ],
 "metadata": {
  "kernelspec": {
   "display_name": "NERSC Python",
   "language": "python",
   "name": "python3"
  },
  "language_info": {
   "codemirror_mode": {
    "name": "ipython",
    "version": 3
   },
   "file_extension": ".py",
   "mimetype": "text/x-python",
   "name": "python",
   "nbconvert_exporter": "python",
   "pygments_lexer": "ipython3",
   "version": "3.9.7"
  }
 },
 "nbformat": 4,
 "nbformat_minor": 5
}
