{
 "cells": [
  {
   "cell_type": "markdown",
   "id": "33ee4b80-0e2a-484f-9785-889902ffa4ce",
   "metadata": {},
   "source": [
    "# Carousel mechanism design\n",
    "Project: *LuSEE-Night* \\\n",
    "System: *Antenna Carousel* \\\n",
    "Author: *Joe Silber* \\\n",
    "Institution: *Lawrence Berkeley National Lab (LBNL)* \\\n",
    "Date: *July 2022*\n",
    "\n",
    "Abstract: Assessment of carousel (a.k.a. \"turntable\") mechanism and torques for the LuSEE-Night lunar instrument. The radio antennas rotate on a platform. Key design parameters and options for the rotation mechanism are considered here."
   ]
  },
  {
   "cell_type": "markdown",
   "id": "c91bd0ca-2e8a-4621-9755-1838f9b38de8",
   "metadata": {},
   "source": [
    "## Preliminaries"
   ]
  },
  {
   "cell_type": "markdown",
   "id": "3f92e231-3b44-41fe-ab55-9c0f63e953d8",
   "metadata": {},
   "source": [
    "### Units and coordinate systems\n",
    "Except where otherwise specified...\n",
    "- all units are in meters, kilograms, newtons, and seconds\n",
    "- all inertias and positions are with respect to a global coordinate system, with Z axis concentric to rotation axis"
   ]
  },
  {
   "cell_type": "markdown",
   "id": "105ca16c-196e-46d0-8df7-49fe6a409f13",
   "metadata": {},
   "source": [
    "### Python initializations"
   ]
  },
  {
   "cell_type": "code",
   "execution_count": 1,
   "id": "4ef2b04e-c8ed-4299-928c-924ea73206c1",
   "metadata": {
    "tags": []
   },
   "outputs": [],
   "source": [
    "import math"
   ]
  },
  {
   "cell_type": "markdown",
   "id": "afe38c40-8acf-48c2-89bd-15023660f55c",
   "metadata": {},
   "source": [
    "### General material properties"
   ]
  },
  {
   "cell_type": "code",
   "execution_count": 2,
   "id": "cf93fd0a-d327-49d7-92d7-328f7b87b564",
   "metadata": {},
   "outputs": [],
   "source": [
    "rho_ss = 8000  # stainless steel density\n",
    "rho_al = 2700  # aluminm density"
   ]
  },
  {
   "cell_type": "markdown",
   "id": "970b330d-778d-4db2-994e-65f2c9572f6d",
   "metadata": {},
   "source": [
    "### Carbon fiber properties"
   ]
  },
  {
   "cell_type": "code",
   "execution_count": 3,
   "id": "cff310ba-aee8-4342-b9f7-b1e1ad0b55ee",
   "metadata": {
    "tags": []
   },
   "outputs": [
    {
     "name": "stdout",
     "output_type": "stream",
     "text": [
      "Estimated carbon fiber reinforced plastic (CFRP) density = 1695.4 kg/m^3, volume fraction = 53.1%\n"
     ]
    }
   ],
   "source": [
    "rho_f = 2170  # carbon fiber density, e.g. CN-80\n",
    "rho_m = 1170  # resin matrix density, e.g. EX-1515\n",
    "Mm = 0.32  # matrix mass fraction, i.e. prepreg resin content from vendor\n",
    "Vv = 0.005  # as-cured void fraction\n",
    "Vf = (1 - Vv) / (1 + rho_f / rho_m * Mm / (1 - Mm))  # fiber volume fraction, assuming no bleed (conservative)\n",
    "cfrp_density = rho_f * Vf + rho_m * (1 - Vf - Vv)\n",
    "print(f'Estimated carbon fiber reinforced plastic (CFRP) density = {cfrp_density:.1f} kg/m^3, volume fraction = {Vf*100:.1f}%')"
   ]
  },
  {
   "cell_type": "markdown",
   "id": "f1036926-a15a-40b9-b4f7-587d009c6890",
   "metadata": {},
   "source": [
    "## Key mechanical design criteria\n",
    "The design criteria below will be used in sizing components and ensuring sufficient mechanical factors of safey. These criteria are informed by key recommendations in NASA's [General Environmental Verification Standards (GEVS)](https://standards.nasa.gov/sites/default/files/standards/GSFC/B/0/gsfc-std-7000b_signature_cycle_04_28_2021_fixed_links.pdf) (accessed 2022-07-09)."
   ]
  },
  {
   "cell_type": "markdown",
   "id": "f38d541f-7056-4aab-b081-943a439c0680",
   "metadata": {},
   "source": [
    "### Structural load limit\n",
    "The limit loads for the carousel mechanism are derived from GEVS Table 2.4-3,\n",
    "*Generalized Random Vibration Test Levels*. For components weighing less than 22.7 kg, an overall qualification level (in $G_{rms}$) is directly specified. We then apply a proof factor per section 2.4.1.4.1, and a design factor to get the design limit. The design factor accommodated uncertainty in material properties and tolerances in the proof test method. These limits are applied for nominal accelerations in 3 orthogonal axes."
   ]
  },
  {
   "cell_type": "code",
   "execution_count": 14,
   "id": "fabf9d61-61cf-4227-93c4-c70d8dd197bb",
   "metadata": {},
   "outputs": [
    {
     "name": "stdout",
     "output_type": "stream",
     "text": [
      "Design load level = 21.1 G(rms)\n"
     ]
    }
   ],
   "source": [
    "Grms_qual = 14.1\n",
    "proof_factor = 1.25\n",
    "design_factor = 1.2\n",
    "Grms_design = Grms_qual * proof_factor * design_factor\n",
    "print(f'Design load level = {Grms_design:.1f} G(rms)')"
   ]
  },
  {
   "cell_type": "markdown",
   "id": "7b08cf0a-e6be-4690-bca9-2b6ac819638d",
   "metadata": {},
   "source": [
    "### Torque margin\n",
    "Torque margin ($TM$) for the carousel turntable is assessed per GEVS section 2.4.5.3. Two safety factors, $FS_k$ and $FS_v$ are applied to the \"known\" and \"variable\" torques in the system. The available driving torque $T_{avail}$ at the motor (not including gearhead) is compared according to:\n",
    "\n",
    "$$TM = \\frac{T_{avail}}{FS_k \\sum T_{known} + FS_v \\sum T_{variable}} - 1$$\n",
    "\n",
    "These torques are characterized in GEVS as:\n",
    "\n",
    "> **Driving Torques**\n",
    ">\n",
    "> $T_{avail}$ = Minimum Available Torque or Force generated by the mechanism at worst case environmental conditions at any time in its life. If motors are used in the system, $T_{avail}$ shall be determined at the output of the motor, not including gear heads or gear trains at its output based on minimum supplied motor voltage. $T_{avail}$ similarly applies to other actuators such as springs, pyrotechnics, solenoids, heat actuated devices, etc.\n",
    "> \n",
    "> **Resistive Torques**\n",
    ">\n",
    "> $\\sum T_{known}$ = Sum of the fixed torques or forces that are known and quantifiable such as\n",
    "accelerated inertias ($T = I \\alpha$) and not influenced by friction, temperature, life, etc. A constant Safety Factor is applied to the calculated torque.\n",
    ">\n",
    "> $\\sum T_{variable}$ = Sum of the torques or forces that may vary over environmental conditions and life such as static or dynamic friction, alignment effects, latching forces, wire harness\n",
    "loads, damper drag, variations in lubricant effectiveness, including degradation or depletion of lubricant over life, etc.\n",
    "\n",
    "Here we use the highest (PDR phase) torque safety factor values from GEVS:"
   ]
  },
  {
   "cell_type": "code",
   "execution_count": 5,
   "id": "9671e8f4-04a1-4675-a3d1-624596da3af6",
   "metadata": {},
   "outputs": [],
   "source": [
    "FSk = 2.0  # preliminary design review phase\n",
    "           # drops to 1.5 at critical design review\n",
    "           # remains 1.5 at acceptance / qualification testing\n",
    "\n",
    "FSv = 4.0  # preliminary design review phase\n",
    "           # drops to 3.0 at critical design review\n",
    "           # drops to 2.0 at acceptance / qualification testing"
   ]
  },
  {
   "cell_type": "markdown",
   "id": "f5b4734a-91aa-4ee2-87b0-acd144ad5c93",
   "metadata": {},
   "source": [
    "## Payload\n",
    "Total mass budget for the carousel system is 10 kg. Some fraction of this mass (in particular the drive motor and transmission) will be static.\n",
    "\n",
    "As of this writing (July 2022) we have not yet lightweighted many components; the total payload of the items listed below may somewhat exceed that final budget. For the purposes of sizing the drive system components, this is acceptable.\n",
    "\n",
    "For the purposes of this document, we subdivide the rotating payload into the following estimated masses, moments, and transmission ratios:"
   ]
  },
  {
   "cell_type": "markdown",
   "id": "df8c5d60-081e-474a-a6d5-57218310231b",
   "metadata": {},
   "source": [
    "### Turntable plate"
   ]
  },
  {
   "cell_type": "code",
   "execution_count": 6,
   "id": "8f5596ef-bc86-4a03-be07-877458fc0570",
   "metadata": {},
   "outputs": [
    {
     "name": "stdout",
     "output_type": "stream",
     "text": [
      "Turntable: mass = 3.246 kg, inertia = 0.104 kg/m^2\n"
     ]
    }
   ],
   "source": [
    "plate_od = 0.500  # outer diameter\n",
    "plate_id = 0.079  # inner diameter\n",
    "plate_t = 0.010  # thickness\n",
    "plate_rho = cfrp_density  # density\n",
    "plate_r2, plate_r1 = plate_od/2, plate_id/2  # radii\n",
    "plate_mass = plate_rho * plate_t * math.pi * (plate_r2**2 - plate_r1**2)\n",
    "plate_inertia = 0.5 * plate_mass * (plate_r1**2 + plate_r2**2)\n",
    "print(f'Turntable: mass = {plate_mass:.3f} kg, inertia = {plate_inertia:.4} kg/m^2')"
   ]
  },
  {
   "cell_type": "markdown",
   "id": "b1b50a76-b427-473b-a042-a8d89451948e",
   "metadata": {},
   "source": [
    "### Antenna deployer and pre-amp\n",
    "Mass and inertia estimates are based on the CAD preliminary design model (July 2022).\n",
    "\n",
    "#### Stowed configuration:\n",
    "![Stowed mass and inertia](inertia-deployer-and-preamp-stowed.png)\n",
    "\n",
    "#### Deployed configuration (3 m extension):\n",
    "![Deployed mass and inertia](inertia-deployer-and-preamp-deployed3m.png)\n",
    "\n",
    "Note that the masses shown here are not quite identical, due to internal details of the preliminary model. For the conservative purposes of this study, a rough adjustment is made where the larger mass value (stowed) is used to linearly scale up the deployed mass and inertia."
   ]
  },
  {
   "cell_type": "code",
   "execution_count": 7,
   "id": "c86c8042-5e7b-4662-9c39-e1ce175a0e9a",
   "metadata": {},
   "outputs": [
    {
     "name": "stdout",
     "output_type": "stream",
     "text": [
      "Deployed single antenna + pre-amp (adjusted): mass = 3.148 kg, inertia = 4.525 kg/m^2\n"
     ]
    }
   ],
   "source": [
    "stowed_mass = 3.148\n",
    "stowed_inertia = 0.1272\n",
    "deployed_mass_as_modeled = 2.924\n",
    "deployed_inertia_as_modeled = 4.203\n",
    "deployed_adjustment = stowed_mass / deployed_mass_as_modeled\n",
    "deployed_mass = deployed_mass_as_modeled * deployed_adjustment\n",
    "deployed_inertia = deployed_inertia_as_modeled * deployed_adjustment\n",
    "print(f'Deployed single antenna + pre-amp (adjusted): mass = {deployed_mass:.3f} kg, inertia = {deployed_inertia:.4} kg/m^2')"
   ]
  },
  {
   "cell_type": "markdown",
   "id": "0c9dc4d1-c470-4965-8f7f-9ff073e41149",
   "metadata": {},
   "source": [
    "### Central shaft and bearings\n",
    "These rotating components are lumped together and approximated as a single tube of metal."
   ]
  },
  {
   "cell_type": "code",
   "execution_count": 8,
   "id": "a2595259-1416-4ffe-b978-af53dbdfef39",
   "metadata": {},
   "outputs": [
    {
     "name": "stdout",
     "output_type": "stream",
     "text": [
      "Central shaft and bearing: mass = 0.188 kg, inertia = 0.0002662 kg/m^2\n"
     ]
    }
   ],
   "source": [
    "central_od = 0.080  # outer diameter\n",
    "central_id = 0.070  # inner diameter\n",
    "central_length = 0.020  # length\n",
    "central_r1, central_r2 = central_id/2, central_od/2  # radii\n",
    "central_rho = rho_ss\n",
    "central_mass = central_rho * central_length * math.pi * (central_r2**2 - central_r1**2)\n",
    "central_inertia = 0.5 * central_mass * (central_r1**2 + central_r2**2)\n",
    "print(f'Central shaft and bearing: mass = {central_mass:.3f} kg, inertia = {central_inertia:.4} kg/m^2')"
   ]
  },
  {
   "cell_type": "markdown",
   "id": "62c718c7-c223-456c-ae88-44e427ce4877",
   "metadata": {},
   "source": [
    "### Parallel-axis transmission"
   ]
  },
  {
   "cell_type": "markdown",
   "id": "90828ad8-2564-42e7-965f-378ba6f0750c",
   "metadata": {},
   "source": [
    "### Motor"
   ]
  },
  {
   "cell_type": "markdown",
   "id": "0f6c43c6-cef8-48a2-bf5e-4f4bb1f47b29",
   "metadata": {},
   "source": [
    "## Friction\n",
    "\n",
    "### Dust seals\n",
    "\n",
    "Some dust seals will be required to prevent lunar dust from accessing the bearing and transmission. These impose some friction load on the assembly.\n",
    "\n",
    "Here I assume the seal contact is made against a flat face by annular, thin-walled polyimide. In this approach, there would be one seal near the central bearing, and another further out in diameter. These would bear either on the rotating turntable be mounted to the turntable and bear on its opposing counterpart (the top plate or the central shaft support). Preload force would be low, since only dust needs to be excluded."
   ]
  },
  {
   "cell_type": "code",
   "execution_count": 9,
   "id": "03261aed-7a1a-4a50-94c1-c3fc5722e15a",
   "metadata": {},
   "outputs": [
    {
     "name": "stdout",
     "output_type": "stream",
     "text": [
      "Dust seal at radius 0.080 m: clamping force = 1.5 N\n",
      "Dust seal at radius 0.250 m: clamping force = 4.7 N\n"
     ]
    }
   ],
   "source": [
    "seal_contact_radii = [0.080, 0.250]  # annuli of contact for the two seals\n",
    "seal_contact_width = 0.003  # rough guess as to desirable contact width, will depend on seal design details\n",
    "seal_contact_pressure_millibar = 10  # rough guess as to desirable clamping pressure (per seal)\n",
    "seal_contact_pressure = seal_contact_pressure_millibar * 100\n",
    "seal_contact_areas = [2 * math.pi * radius * seal_contact_width for radius in seal_contact_radii]\n",
    "seal_clamping_forces = [seal_contact_pressure * area for area in seal_contact_areas]\n",
    "for i in range(len(seal_contact_radii)):\n",
    "    print(f'Dust seal at radius {seal_contact_radii[i]:.3f} m: clamping force = {seal_clamping_forces[i]:.1f} N')"
   ]
  },
  {
   "cell_type": "markdown",
   "id": "d13d6880-f4b8-44b1-8c03-955464fcbfe3",
   "metadata": {},
   "source": [
    "Datasheet values for the dynamic friction coefficient of [Vespel SP-3](https://www.curbellplastics.com/Research-Solutions/DuPont-Vespel-SP-3) are listed at 0.17 - 0.25 depending on pressure and speed. I presume a fixed, static value of 0.3 for the purposes of this calculation."
   ]
  },
  {
   "cell_type": "code",
   "execution_count": 10,
   "id": "fc4ad8f5-3eb5-4c19-9512-f4bdb8e08a29",
   "metadata": {},
   "outputs": [],
   "source": [
    "seal_mu = 0.3\n"
   ]
  },
  {
   "cell_type": "code",
   "execution_count": 11,
   "id": "2c4ecec4-44e9-4240-b42f-0c9f9b60ba21",
   "metadata": {},
   "outputs": [],
   "source": [
    "\n",
    "\n",
    "\n",
    "payloads = {'motor internal':\n",
    "                {'mass': 0.0,\n",
    "                 'inertia': 0.0,\n",
    "                 'count': 1,\n",
    "                 'ratio': 1.0,\n",
    "                },\n",
    "            \n",
    "            'motor external':\n",
    "                {'mass': 0.0,\n",
    "                 'inertia': 0.0,\n",
    "                 'count': 1,\n",
    "                 'ratio': 1.0,\n",
    "                },\n",
    "            \n",
    "            'main shaft bearing':\n",
    "                {'mass': 0.0,\n",
    "                 'inertia': 0.0,\n",
    "                 'count': 1,\n",
    "                 'ratio': 1.0,\n",
    "                },            \n",
    "            \n",
    "            'main shaft':\n",
    "                {'mass': 0.0,\n",
    "                 'inertia': 0.0,\n",
    "                 'count': 1,\n",
    "                 'ratio': 1.0,\n",
    "                },    \n",
    "            \n",
    "            'plate':\n",
    "                {'mass': plate_mass,\n",
    "                 'inertia': 0.0,\n",
    "                 'count': 1,\n",
    "                 'ratio': 1.0,\n",
    "                },\n",
    "            \n",
    "            'antenna (deployed)':\n",
    "                {'mass': 0.0,\n",
    "                 'inertia': 0.0,\n",
    "                 'count': 4,\n",
    "                 'ratio': 1.0,\n",
    "                },\n",
    "           }"
   ]
  },
  {
   "cell_type": "markdown",
   "id": "e0503c67-b02d-43aa-8f64-fc9413cfb953",
   "metadata": {
    "tags": []
   },
   "source": [
    "## Bearings\n",
    "\n",
    "### Bearing type and size\n",
    "The preliminary design (July 2022) packaging acommodates a pair of Kaydon KA025AR0 bearings:\n",
    "\n",
    "![Kaydon KA0xxAR0](kaydon-KA0xxAR0-open-A-bearings.png)\n",
    "\n",
    "This is a thin section, angular contact, open bearing, with bore 2.5\\\" (63.5 mm), O.D. 3.0\\\" (76.2 mm), and thickness 0.25\\\" (6.35 mm). Mass is low, ~0.12 lbs = 55 g. We utilize the common design pattern of mounting in pairs, to provides tilt resistance.\n",
    "\n",
    "Stainless steel options (may have custom lead-times and will be more expensive) are available. Replace \"K\" with \"S\" in the part number.\n",
    "\n",
    "Kaydon also offers an attractive \"Type X\" four-point contact bearing. We have previously used such a bearing (at a much larger scale) in the Dark Energy Spectroscopic Instrument (DESI) ADC rotator mechanism. The type X controls 5 degrees of freedom in a single unit, rather than the typical angular contact duplex. This has the advantage of fewer parts and less weight, as well as removing the need to control thrust preload in the mounting between the two separate bearing units. A type X unit of similar package size as KA025AR0 would be KA025XP0:\n",
    "\n",
    "![Kaydon KA0xxXP0](kaydon-KA0xxXP0-open-X-bearings.png)\n",
    "\n",
    "Again, replace \"K\" with \"S\" for equivalent stainless option.\n",
    "\n",
    "### Integrated bearing seals\n",
    "\n",
    "Various seals are available, which we will utilize, to contain lubricant and exclude lunar dust.\n",
    "\n",
    "As of July 2022, the precise seal material is to be determined (TBD).\n",
    "\n",
    "Kaydon's standard seal is nitrile rubber, which we note may need further investigation regarding cryogenic survival temperatures. I would feel most comfortable with polyimide, but need to speak with the vendor.\n",
    "\n",
    "Seals may be external (between housing and shaft, surrounding the bearing) or integrated in the bearing unit itself. For example, Kaydon offers some models with an integrated double-seal (see table below).\n",
    "\n",
    "![Kaydon JA0xxXP0](kaydon-JA0xxXP0-sealed-X-bearings.png)\n",
    "\n",
    "However, the Kaydon line-up does not have sealed bearings in angular contact configurations. \n",
    "\n",
    "For sealed bearings, replace \"J\" with \"W\" in the part number for the stainless option.\n",
    "\n",
    "### External bearing seals\n",
    "\n",
    "If the vendor lacks proven experience with integrated bearing seals in our temperature range (100 K - 400 K), then I prefer that we make our own external seals, from a material with which we have confidence. This way we can move directly to the next phases of testing and integration, as well as have flexibility and visibility as to what is happening.\n",
    "\n",
    "If we machine our own seals one might consider using [Vespel SP-3](https://www.curbellplastics.com/Research-Solutions/DuPont-Vespel-SP-3). This is a MoS<sub>2</sub>-filled polyimide with a long history of use in space applications, with low creep, high strength, and low coefficient of thermal expansion (for a polymer), and which should survive the temperature extremes.\n",
    "\n",
    "A concern is that the friction coefficient of SP-3 in vacuum is reported to be very low (0.03) in the Dupont datasheet. We probably in fact desire some consistent friction whether testing in lab air or operating in vacuum. This friction will help keeping the position of the turntable stable when powered off. Also I believe SP-3 may not be available in large enough diameter. Hence it would need to be some polyimide film, presumably.\n",
    "\n",
    "### Turntable bearings\n",
    "\n",
    "There are some bearings available with more integrated turntable functionality, for example including an external gear profile. An attractive option may be Kaydon T01-00325EAA:\n",
    "\n",
    "![Kaydon turntables - basic](kaydon-turntable-bearings-basic.png)\n",
    "\n",
    "![Kaydon turntables - external gears](kaydon-turntable-bearings-extgear.png)\n",
    "\n",
    "![Kaydon turntables - illustrations](kaydon-turntable-illustrations.png)\n",
    "\n",
    "These turntables are not off-the-shelf parts. Cost and lead-time would be TBD. Performance is not particularly any better than the other options; the attraction here would be the compact packaging. The gearing would need some exterior protection from lunar dust.\n",
    "\n",
    "### Bearings conclusion\n",
    "\n",
    "*(?) Below, for the purposes of preliminary overall system torque calculations, we will presume selection of a single Type-X, nitrile double-sealed, stainless steel Kaydon bearing, i.e. WA025XP0. (?)*"
   ]
  },
  {
   "cell_type": "code",
   "execution_count": 12,
   "id": "4753d731-1d61-49e4-9749-73704ccaad1f",
   "metadata": {},
   "outputs": [],
   "source": [
    "# Bearing friction\n",
    "mu_bearing = 0."
   ]
  },
  {
   "cell_type": "markdown",
   "id": "53fd5eee-436c-49bb-8e80-f7cd0050f996",
   "metadata": {},
   "source": [
    "## References\n",
    "- [NASA General Environmental Verification Standards (GEVS)](https://standards.nasa.gov/sites/default/files/standards/GSFC/B/0/gsfc-std-7000b_signature_cycle_04_28_2021_fixed_links.pdf)\n",
    "- [Kaydon turntable bearings](https://www.kaydonbearings.com/RealiSlim_TT_bearings.htm)\n",
    "- [Kaydon sealed, slim bearings](https://www.kaydonbearings.com/RealiSlim_sealed_bearings.htm)"
   ]
  },
  {
   "cell_type": "code",
   "execution_count": null,
   "id": "d8adf6b5-c463-4891-8f93-d2d4871d7ead",
   "metadata": {},
   "outputs": [],
   "source": []
  }
 ],
 "metadata": {
  "kernelspec": {
   "display_name": "NERSC Python",
   "language": "python",
   "name": "python3"
  },
  "language_info": {
   "codemirror_mode": {
    "name": "ipython",
    "version": 3
   },
   "file_extension": ".py",
   "mimetype": "text/x-python",
   "name": "python",
   "nbconvert_exporter": "python",
   "pygments_lexer": "ipython3",
   "version": "3.9.7"
  }
 },
 "nbformat": 4,
 "nbformat_minor": 5
}
