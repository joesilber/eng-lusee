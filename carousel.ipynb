{
 "cells": [
  {
   "cell_type": "markdown",
   "id": "33ee4b80-0e2a-484f-9785-889902ffa4ce",
   "metadata": {},
   "source": [
    "# Carousel mechanism design\n",
    "Project: *LuSEE-Night* <br>\n",
    "System: *Antenna Carousel* <br>\n",
    "Author: *Joe Silber* <br>\n",
    "Institution: *Lawrence Berkeley National Lab (LBNL)* <br>\n",
    "Date: *July 2022* <br>\n",
    "\n",
    "Abstract: Assessment of carousel (a.k.a. \"turntable\") mechanism and torques for the LuSEE-Night lunar instrument. The radio antennas rotate on a platform. Key design parameters and options for the rotation mechanism are considered here."
   ]
  },
  {
   "cell_type": "markdown",
   "id": "c91bd0ca-2e8a-4621-9755-1838f9b38de8",
   "metadata": {},
   "source": [
    "## Preliminaries"
   ]
  },
  {
   "cell_type": "markdown",
   "id": "3f92e231-3b44-41fe-ab55-9c0f63e953d8",
   "metadata": {},
   "source": [
    "### Units and coordinate systems\n",
    "Except where otherwise specified...\n",
    "- all units are in meters, kilograms, newtons, and seconds\n",
    "- all inertias and positions are with respect to a global coordinate system, with Z axis concentric to rotation axis"
   ]
  },
  {
   "cell_type": "markdown",
   "id": "105ca16c-196e-46d0-8df7-49fe6a409f13",
   "metadata": {},
   "source": [
    "### Python initializations and units"
   ]
  },
  {
   "cell_type": "code",
   "execution_count": 1,
   "id": "4ef2b04e-c8ed-4299-928c-924ea73206c1",
   "metadata": {
    "tags": []
   },
   "outputs": [],
   "source": [
    "import math\n",
    "deg = '\\u00b0'\n",
    "tab = f'{\" \":4}'\n",
    "horiz_rule = ''.join(['-']*10)\n",
    "Nm_per_ozin = 1 / 141.61193227806\n",
    "m_per_in = 0.0254 \n",
    "radpersec_per_rpm = 2 * math.pi / 60  # i.e. rad/sec per rev/min\n",
    "K_to_other = {'K': lambda T: T,\n",
    "              'C': lambda T: T - 273.15,\n",
    "              'F': lambda T: (T - 273.15)*9/5 + 32.0,\n",
    "             }"
   ]
  },
  {
   "cell_type": "markdown",
   "id": "afe38c40-8acf-48c2-89bd-15023660f55c",
   "metadata": {},
   "source": [
    "### General material properties"
   ]
  },
  {
   "cell_type": "code",
   "execution_count": 2,
   "id": "cf93fd0a-d327-49d7-92d7-328f7b87b564",
   "metadata": {},
   "outputs": [],
   "source": [
    "rho_SS = 8000  # stainless steel density\n",
    "rho_Ti = 4430  # titanium density\n",
    "rho_Al = 2700  # aluminum density\n",
    "rho_BeCu = 8300  # beryllium copper density\n",
    "rho_Cu = 8900  # copper density\n",
    "rho_plastic = 1300  # generic plastic density\n",
    "E_Cu = 117e9 # copper modulus of elasticity\n",
    "E_plastic = 2e9 # generic plastic modulus of elasticity\n",
    "E_BeCu = 130e9  # beryllium copper modulus of elasticity\n",
    "nu_BeCu = 0.3  # beryllium copper poisson ratio"
   ]
  },
  {
   "cell_type": "markdown",
   "id": "970b330d-778d-4db2-994e-65f2c9572f6d",
   "metadata": {},
   "source": [
    "### Carbon fiber properties"
   ]
  },
  {
   "cell_type": "code",
   "execution_count": 3,
   "id": "cff310ba-aee8-4342-b9f7-b1e1ad0b55ee",
   "metadata": {
    "tags": []
   },
   "outputs": [
    {
     "name": "stdout",
     "output_type": "stream",
     "text": [
      "Estimated carbon fiber reinforced plastic (CFRP) density = 1695.4 kg/m^3, volume fraction = 53.1%\n"
     ]
    }
   ],
   "source": [
    "rho_f = 2170  # carbon fiber density, e.g. CN-80\n",
    "rho_m = 1170  # resin matrix density, e.g. EX-1515\n",
    "Mm = 0.32  # matrix mass fraction, i.e. prepreg resin content from vendor\n",
    "Vv = 0.005  # as-cured void fraction\n",
    "Vf = (1 - Vv) / (1 + rho_f / rho_m * Mm / (1 - Mm))  # fiber volume fraction, assuming no bleed (conservative)\n",
    "cfrp_density = rho_f * Vf + rho_m * (1 - Vf - Vv)\n",
    "print(f'Estimated carbon fiber reinforced plastic (CFRP) density = {cfrp_density:.1f} kg/m^3, volume fraction = {Vf*100:.1f}%')"
   ]
  },
  {
   "cell_type": "markdown",
   "id": "ed878f27-642f-46a3-a1c7-6e91c121004f",
   "metadata": {},
   "source": [
    "### Other basic system properties"
   ]
  },
  {
   "cell_type": "code",
   "execution_count": 4,
   "id": "5e4e1b0c-4332-4bfd-96e6-e9a126f9d4dd",
   "metadata": {},
   "outputs": [],
   "source": [
    "n_ant = 4  # number of antennas\n",
    "rotation_range_deg = [-95, 95]  # degrees\n",
    "rotation_range = [math.radians(x) for x in rotation_range_deg]  # radians\n",
    "total_rotation_range = max(rotation_range) - min(rotation_range)"
   ]
  },
  {
   "cell_type": "markdown",
   "id": "f1036926-a15a-40b9-b4f7-587d009c6890",
   "metadata": {},
   "source": [
    "## Key mechanical design criteria\n",
    "The design criteria below will be used in sizing components and ensuring sufficient mechanical factors of safey. These criteria are informed by key recommendations in NASA's [General Environmental Verification Standards (GEVS)](https://standards.nasa.gov/sites/default/files/standards/GSFC/B/0/gsfc-std-7000b_signature_cycle_04_28_2021_fixed_links.pdf) (accessed 2022-07-09)."
   ]
  },
  {
   "cell_type": "markdown",
   "id": "f38d541f-7056-4aab-b081-943a439c0680",
   "metadata": {},
   "source": [
    "### Structural load limit\n",
    "The limit loads for the carousel mechanism are derived from GEVS Table 2.4-3,\n",
    "*Generalized Random Vibration Test Levels*. For components weighing less than 22.7 kg, an overall qualification level (in $G_{rms}$) is directly specified. We then apply a proof factor per section 2.4.1.4.1, and a design factor to get the design limit. The design factor accommodated uncertainty in material properties and tolerances in the proof test method. These limits are applied for nominal accelerations in 3 orthogonal axes."
   ]
  },
  {
   "cell_type": "code",
   "execution_count": 5,
   "id": "fabf9d61-61cf-4227-93c4-c70d8dd197bb",
   "metadata": {},
   "outputs": [
    {
     "name": "stdout",
     "output_type": "stream",
     "text": [
      "Design load level = 21.1 G(rms)\n"
     ]
    }
   ],
   "source": [
    "Grms_qual = 14.1\n",
    "proof_factor = 1.25\n",
    "design_factor = 1.2\n",
    "Grms_design = Grms_qual * proof_factor * design_factor\n",
    "print(f'Design load level = {Grms_design:.1f} G(rms)')"
   ]
  },
  {
   "cell_type": "markdown",
   "id": "7b08cf0a-e6be-4690-bca9-2b6ac819638d",
   "metadata": {
    "tags": []
   },
   "source": [
    "### Torque margin\n",
    "Torque margin ($TM$) for the carousel turntable is assessed per GEVS section 2.4.5.3. Two safety factors, $FS_k$ and $FS_v$ are applied to the \"known\" and \"variable\" torques in the system. GEVS states:\n",
    "\n",
    "> The minimum available driving torque for the mechanism shall be determined based on the FS listed above. The Torque Margin (TM) shall be greater than zero and shall be calculated using the following formula:\n",
    "\n",
    "$$TM = \\frac{T_{avail}}{FS_k \\sum T_{known} + FS_v \\sum T_{variable}} - 1$$\n",
    "\n",
    "In the present study, the available driving torque $T_{avail}$ is considered at output of the the gearmotor (which is the component whose performance requirements we are aiming to specify). The torques are defined in GEVS as:\n",
    "\n",
    "> **Driving Torques**\n",
    ">\n",
    "> $T_{avail}$ = Minimum Available Torque or Force generated by the mechanism at worst case environmental conditions at any time in its life. If motors are used in the system, $T_{avail}$ shall be determined at the output of the motor, not including gear heads or gear trains at its output based on minimum supplied motor voltage. $T_{avail}$ similarly applies to other actuators such as springs, pyrotechnics, solenoids, heat actuated devices, etc.\n",
    "> \n",
    "> **Resistive Torques**\n",
    ">\n",
    "> $\\sum T_{known}$ = Sum of the fixed torques or forces that are known and quantifiable such as\n",
    "accelerated inertias ($T = I \\alpha$) and not influenced by friction, temperature, life, etc. A constant Safety Factor is applied to the calculated torque.\n",
    ">\n",
    "> $\\sum T_{variable}$ = Sum of the torques or forces that may vary over environmental conditions and life such as static or dynamic friction, alignment effects, latching forces, wire harness\n",
    "loads, damper drag, variations in lubricant effectiveness, including degradation or depletion of lubricant over life, etc.\n",
    "\n",
    "Here we use the highest (PDR phase) torque safety factor values from GEVS:"
   ]
  },
  {
   "cell_type": "code",
   "execution_count": 6,
   "id": "9671e8f4-04a1-4675-a3d1-624596da3af6",
   "metadata": {
    "tags": []
   },
   "outputs": [],
   "source": [
    "FSk = 2.0  # 2.0 at preliminary design review phase\n",
    "           # drops to 1.5 at critical design review\n",
    "           # remains 1.5 at acceptance / qualification testing\n",
    "\n",
    "FSv = 4.0  # 4.0 at preliminary design review phase\n",
    "           # drops to 3.0 at critical design review\n",
    "           # drops to 2.0 at acceptance / qualification testing"
   ]
  },
  {
   "cell_type": "markdown",
   "id": "96b799cc-cd5e-40f2-b158-2a027ba1ceb3",
   "metadata": {
    "tags": []
   },
   "source": [
    "### Thermal criteria\n",
    "The carousel system must survive the lunar day/night cycle. It must operate at intermediate temperatures around dusk/dawn.\n",
    "\n",
    "The plots below, showing lunar temperature as a function of hour and latitude, were retrieved July 2022 from an article (exact reference?) found through citations [here](https://quickmap.lroc.asu.edu/layers):\n",
    "\n",
    "![Lunar temperatures as function of hour and latitude](figures/lunar-temperatures.png)\n",
    "\n",
    "We anticipate LuSEE-Night will land at one of two sites:\n",
    "\n",
    "1. $155^o$ E and $15^o$ S\n",
    "2. $175^o$ E and $22^o$ S\n",
    "\n",
    "These indicate that the lander will experience temperature extrema of:"
   ]
  },
  {
   "cell_type": "code",
   "execution_count": 7,
   "id": "dfae3df6-d1f2-4ee1-9356-954ee91a9016",
   "metadata": {},
   "outputs": [],
   "source": [
    "temp_ranges = {'extrema': [90, 390]}  # Kelvin"
   ]
  },
  {
   "cell_type": "markdown",
   "id": "e26529fe-2756-4f13-b6a0-b869198b1714",
   "metadata": {},
   "source": [
    "#### Survival temperature range\n",
    "For design and testing purposes, the survival temperature range is obtained by increasing the expected lunar range by a margin on either end."
   ]
  },
  {
   "cell_type": "code",
   "execution_count": 8,
   "id": "54e02cca-c26d-4459-a4fe-10358f35399e",
   "metadata": {},
   "outputs": [],
   "source": [
    "temp_margin = 10.0  # deg C\n",
    "temp_ranges['survival'] = [min(temp_ranges['extrema']) - temp_margin,\n",
    "                           max(temp_ranges['extrema']) + temp_margin]"
   ]
  },
  {
   "cell_type": "markdown",
   "id": "2a65e953-7138-4402-98d9-59f0ed421a51",
   "metadata": {},
   "source": [
    "#### Operating temperature range\n",
    "The operating temperature for carousel rotation will be less extreme. We want a range which is moderate enough to includes practical motors, transmissions, and bearings, yet wide enough to allow a significant period in the dusk/dawn time window where ground-based operators can effectively send commands, monitor the response, and make any adjustments if necessary. A good operating temperature range also offers practical conditions for testing in the lab.\n",
    "\n",
    "***? Under the assumption of a perfluoropolyether (PFPE) based lubricant in the gears and bearings ... ?***\n",
    "\n",
    "***? For what temperature range do we have equipment on hand to practically test operation of the motors, bearings, transmissions---the full turntable assembly---in vacuum ?***\n",
    "\n",
    "Considering these factors, we propose an operating temperature range of 280 K - 320 K, which should provide generous time windows ($\\sim$ 1 lunar hour $\\approx$ 30 earth hours each), at lunar dawn and dusk."
   ]
  },
  {
   "cell_type": "code",
   "execution_count": 9,
   "id": "a79837a9-3df0-49b0-81f5-59c59625ee4a",
   "metadata": {},
   "outputs": [],
   "source": [
    "temp_ranges['operating'] = [280, 320]"
   ]
  },
  {
   "cell_type": "markdown",
   "id": "18afd667-26d2-4af5-830b-4fe477700f4e",
   "metadata": {},
   "source": [
    "#### Temperature ranges summary"
   ]
  },
  {
   "cell_type": "code",
   "execution_count": 10,
   "id": "c564fe7b-6822-4bae-a197-813ff2b9b468",
   "metadata": {},
   "outputs": [
    {
     "name": "stdout",
     "output_type": "stream",
     "text": [
      "Temperature range =  +90 to +390 °K (extrema)\n",
      "Temperature range = -183 to +117 °C (extrema)\n",
      "Temperature range = -298 to +242 °F (extrema)\n",
      "\n",
      "Temperature range =  +80 to +400 °K (survival)\n",
      "Temperature range = -193 to +127 °C (survival)\n",
      "Temperature range = -316 to +260 °F (survival)\n",
      "\n",
      "Temperature range = +280 to +320 °K (operating)\n",
      "Temperature range =   +7 to  +47 °C (operating)\n",
      "Temperature range =  +44 to +116 °F (operating)\n",
      "\n"
     ]
    }
   ],
   "source": [
    "for name, temp_range in temp_ranges.items():\n",
    "    for unit, func in K_to_other.items():\n",
    "        converted = [func(T) for T in temp_range]\n",
    "        print(f'Temperature range = {min(converted):+4.0f} to {max(converted):+4.0f} {deg}{unit} ({name})')\n",
    "    print('')"
   ]
  },
  {
   "cell_type": "markdown",
   "id": "b1eb88dc-02a0-4f98-b53a-224653cd87d5",
   "metadata": {},
   "source": [
    "## Loads\n",
    "Total mass budget for the carousel system is:"
   ]
  },
  {
   "cell_type": "code",
   "execution_count": 11,
   "id": "99a6d49f-b47f-4520-9b6a-266ba26e728b",
   "metadata": {},
   "outputs": [],
   "source": [
    "mass_budget_total = 7.8  # kg"
   ]
  },
  {
   "cell_type": "markdown",
   "id": "5f03ff38-1e21-483a-964b-b67feaf41439",
   "metadata": {},
   "source": [
    "Some fraction of this mass (in particular the drive motor and transmission) will be static.\n",
    "\n",
    "For the purposes of this document, we subdivide the rotating payload into the following estimated masses, moments, and transmission ratios."
   ]
  },
  {
   "cell_type": "markdown",
   "id": "d4bcf83b-c218-4c8a-837e-a1eb13a9d87c",
   "metadata": {},
   "source": [
    "### Turntable plate\n",
    "Three common engineering materials are being considered for the turntable platter: aluminum, titanium, or carbon fiber reinforced plastic (CFRP)."
   ]
  },
  {
   "cell_type": "code",
   "execution_count": 12,
   "id": "f3c2ff67-215a-427a-b2ad-a88546621515",
   "metadata": {},
   "outputs": [],
   "source": [
    "plate_od = 0.500  # outer diameter\n",
    "plate_id = 0.079  # inner diameter\n",
    "plate_t = 0.010  # thickness\n",
    "plate_r2, plate_r1 = plate_od/2, plate_id/2  # radii\n",
    "plate_area = math.pi * (plate_r2**2 - plate_r1**2)\n",
    "uniform_plate_inertia_over_mass = 0.5 * (plate_r1**2 + plate_r2**2)"
   ]
  },
  {
   "cell_type": "markdown",
   "id": "e8f06ffe-0e2a-4e7c-81be-8388163d7043",
   "metadata": {},
   "source": [
    "Bending stiffness is achieved either through a honeycomb core or ribs (of which a nominal design might look like that illustrated here:\n",
    "![Nominal ribs for a turntable](figures/nominal-turntable-ribs.png)"
   ]
  },
  {
   "cell_type": "code",
   "execution_count": 13,
   "id": "97c45d87-bc6b-472d-908b-5fa5895323dc",
   "metadata": {},
   "outputs": [],
   "source": [
    "core_vf = 0.15 # honeycomb core volume fraction, typically about 8-32% depending on design\n",
    "ribs_af = 0.20 # approx area fraction of some nominal ribs stiffening design for turntable plate"
   ]
  },
  {
   "cell_type": "markdown",
   "id": "89b467e0-a712-414f-9644-7b99e1266572",
   "metadata": {},
   "source": [
    "#### CFRP sandwich construction\n",
    "CFRP would have a higher stiffness per unit mass than the metals, as well as some natural structural damping. We would likely use an intermediate modulus fiber in a quasi-isotropic, balanced, symmetric layup. Matrix would be 350$^o$F (450 K) cured resin such as Toray RS-3C, commonly used in spacecraft. The design would need to be sufficiently low-strain such that the total temperature change from processing (450 K) down to lunar night (100 K) does not exceed fiber strain limits. A honeycomb sandwich construction would be most mass-efficient, with titanium or aluminum inserts at bolted connections. Thermal expansion effects would be low, several parts per million (ppm) per degree K. Low out-of-plane thermal conductivity would be of some benefit in reducing the heat transfer rate from the turntable to the rest of the spacecraft below it. The main detractions of CFRP are the higher design and fabrication costs."
   ]
  },
  {
   "cell_type": "code",
   "execution_count": 14,
   "id": "8f5596ef-bc86-4a03-be07-877458fc0570",
   "metadata": {},
   "outputs": [],
   "source": [
    "plate_sandwich_skin_t = 0.0016\n",
    "plate_sandwich_core_t = plate_t - 2 * plate_sandwich_skin_t\n",
    "plate_sandwich_skin_rho = cfrp_density\n",
    "plate_sandwich_core_rho = rho_Al * core_vf\n",
    "plate_sandwich_mass = (2*plate_sandwich_skin_rho*plate_sandwich_skin_t + plate_sandwich_core_rho*plate_sandwich_core_t) * plate_area\n",
    "plate_masses = {'CFRP sandwich': plate_sandwich_mass}"
   ]
  },
  {
   "cell_type": "markdown",
   "id": "6489de58-6fec-4089-a1bf-93c6381178ce",
   "metadata": {},
   "source": [
    "#### Metal ribbed plate construction\n",
    "Material would be either titanium or aluminum.\n",
    "\n",
    "A machined aluminum plate would be the least expensive to fabricate. Detractions are the higher CTE ($\\sim$12-25 ppm/K over the 100K-400K temperature range) and reduced stress allowables at sustained high temperature (7075-T651 aluminum, for example, may have yield strength reduction from $\\sim$ 500 MPa at room temperature to $\\sim$ 180 MPa when sustained at 150$^o$C (423 K). The high thermal conductivity of aluminum allows faster heat transfer toward the spacecraft. All these detractions can likely be mitigated with use of appropriate design allowables and thermal breaks.\n",
    "\n",
    "Grade 5 titanium would be a robust solution. Material cost would be comparable to CFRP, though fabrication complexity would be simpler. CTE is relatively low and stable ($\\sim$5-9 ppm/K over range 100K-400K), strength is high, and the very low thermal conductivity ($\\sim$5-8 W/m*K) would provide some natural insulation of the rest of the spacecraft from the exposed turntable's temperature. For cost and ease of manufacturing we would probably not machine the plate out of thick titanium, but rather screw together a thinner face sheet with stiffening ribs."
   ]
  },
  {
   "cell_type": "code",
   "execution_count": 15,
   "id": "b2cedf0b-3084-46a0-a8ef-eb62b4a028ac",
   "metadata": {},
   "outputs": [],
   "source": [
    "plate_rhos = {'aluminum': rho_Al,\n",
    "              'titanium': rho_Ti,\n",
    "             }  # density\n",
    "plate_face_t = 0.0016  # face plate thickness\n",
    "plate_ribs_t = plate_t - plate_face_t\n",
    "plate_volume = (plate_face_t + plate_ribs_t * ribs_af) * plate_area\n",
    "for name, rho in plate_rhos.items():\n",
    "    plate_masses[name] = rho * plate_volume"
   ]
  },
  {
   "cell_type": "markdown",
   "id": "254eba80-88a1-4aba-9356-31a4cf19944d",
   "metadata": {},
   "source": [
    "#### Plate construction options summary"
   ]
  },
  {
   "cell_type": "code",
   "execution_count": 16,
   "id": "ebe6cd02-ba98-46eb-a8e6-ec6967b87d1f",
   "metadata": {},
   "outputs": [
    {
     "name": "stdout",
     "output_type": "stream",
     "text": [
      "Turntable mass = 1.566 kg, inertia = 0.0502 kg/m^2 (CFRP sandwich)\n",
      "Turntable mass = 1.695 kg, inertia = 0.0543 kg/m^2 (aluminum)\n",
      "Turntable mass = 2.782 kg, inertia = 0.0891 kg/m^2 (titanium)\n"
     ]
    }
   ],
   "source": [
    "plate_inertias = {}\n",
    "for name, mass in plate_masses.items():\n",
    "    plate_inertias[name] = mass * uniform_plate_inertia_over_mass  # note this uniform assumption is good for a typical evenly-spaced rib pattern\n",
    "    print(f'Turntable mass = {plate_masses[name]:.3f} kg, inertia = {plate_inertias[name]:.4f} kg/m^2 ({name})')"
   ]
  },
  {
   "cell_type": "code",
   "execution_count": 17,
   "id": "cbf16b46-ab03-4517-9fc0-a41fc07b691c",
   "metadata": {},
   "outputs": [],
   "source": [
    "# For purposes of motor sizing, select the heaviest option.\n",
    "plate_mass = max(plate_masses.values())\n",
    "plate_inertia = max(plate_inertias.values())"
   ]
  },
  {
   "cell_type": "markdown",
   "id": "f345db6c-62ff-40cc-9c74-32008e3f9167",
   "metadata": {},
   "source": [
    "### Antennas\n",
    "The four antennas will be stacer tubes, equally spaced around the turntable. Deployed length is 3 m for all antennas. Deployment angle is slightly above horizontal, counteracting gravity sag. Here this slight bend is neglected, and treated as purely horizontal."
   ]
  },
  {
   "cell_type": "code",
   "execution_count": 18,
   "id": "987871c6-f468-4487-b128-fa599abab595",
   "metadata": {},
   "outputs": [
    {
     "name": "stdout",
     "output_type": "stream",
     "text": [
      "Antenna boom mass = 0.088 kg each\n"
     ]
    }
   ],
   "source": [
    "boom_deployed_wall_in = 0.005  # inches, antenna approx wall thickness when deployed\n",
    "boom_deployed_diam_in = 0.35  # inches, antenna approx diameter when deployed\n",
    "boom_wall, boom_diam, boom_area, boom_length, boom_inertia = {}, {}, {}, {}, {}\n",
    "boom_wall['deployed'] = boom_deployed_wall_in * m_per_in\n",
    "boom_diam['deployed'] = boom_deployed_diam_in * m_per_in\n",
    "boom_area['deployed'] = math.pi * boom_diam['deployed'] * boom_wall['deployed']\n",
    "boom_length['deployed'] = 3.0\n",
    "boom_volume = boom_length['deployed'] * boom_area['deployed']\n",
    "boom_rho = rho_BeCu  # select material for antenna\n",
    "boom_mass = boom_volume * boom_rho\n",
    "print(f'Antenna boom mass = {boom_mass:.3f} kg each')"
   ]
  },
  {
   "cell_type": "code",
   "execution_count": 19,
   "id": "cd526453-0c30-4d44-a58b-64632da819b2",
   "metadata": {},
   "outputs": [],
   "source": [
    "boom_length['stowed'] = 0.105  # assumption based on July 2022 CAD model\n",
    "boom_area['stowed'] = boom_volume / boom_length['stowed']\n",
    "boom_diam['stowed'] = boom_diam['deployed']  # approx guess\n",
    "boom_wall['stowed'] = boom_area['stowed'] / (math.pi * boom_diam['stowed'])"
   ]
  },
  {
   "cell_type": "markdown",
   "id": "2f89c029-cef7-4825-8693-56c039b2e066",
   "metadata": {},
   "source": [
    "Each antenna also has a tip piece. The mass and size are estimated here from the July 2022 CAD model."
   ]
  },
  {
   "cell_type": "code",
   "execution_count": 20,
   "id": "fc915d40-13f6-45f4-8af4-b9fb5f4c7911",
   "metadata": {},
   "outputs": [
    {
     "name": "stdout",
     "output_type": "stream",
     "text": [
      "Antenna mass (boom + tip) = 0.117 kg each\n"
     ]
    }
   ],
   "source": [
    "ant_tip_mass = 0.029\n",
    "ant_tip_length = 0.156\n",
    "ant_tip_diam = boom_diam['deployed'] - boom_wall['deployed']\n",
    "ant_tip_inertia_about_cg = ant_tip_mass/48 * (3*ant_tip_diam**2 + 4*ant_tip_length**2)\n",
    "print(f'Antenna mass (boom + tip) = {boom_mass + ant_tip_mass:.3f} kg each')"
   ]
  },
  {
   "cell_type": "code",
   "execution_count": 21,
   "id": "3a0c9440-79cd-4a36-a0a9-1f57b2f7ada1",
   "metadata": {},
   "outputs": [
    {
     "name": "stdout",
     "output_type": "stream",
     "text": [
      "Antenna inertia (boom + tip) = 0.5781 kg/m^2 each (deployed)\n",
      "Antenna inertia (boom + tip) = 0.0044 kg/m^2 each (stowed)\n"
     ]
    }
   ],
   "source": [
    "boom_root_radial_position = plate_od/2 - boom_length['stowed'] # where the antenna base end is, radially on the turntable\n",
    "ant_inertia = {}\n",
    "for k in ('deployed', 'stowed'):\n",
    "    boom_OD = boom_diam[k] + boom_wall[k] / 2\n",
    "    boom_ID = boom_diam[k] - boom_wall[k] / 2\n",
    "    boom_inertia_about_cg = boom_mass/48 * (3*boom_OD**2 + 3*boom_ID**2 + 4*boom_length[k]**2)\n",
    "    boom_offset = boom_root_radial_position + boom_length[k] / 2\n",
    "    ant_tip_offset = boom_root_radial_position + boom_length[k] - ant_tip_length/2\n",
    "    boom_inertia = boom_inertia_about_cg + boom_mass * boom_offset**2\n",
    "    ant_tip_inertia = ant_tip_inertia_about_cg + ant_tip_mass * ant_tip_offset**2\n",
    "    ant_inertia[k] = boom_inertia + ant_tip_inertia\n",
    "    print(f'Antenna inertia (boom + tip) = {ant_inertia[k]:.4f} kg/m^2 each ({k})')"
   ]
  },
  {
   "cell_type": "markdown",
   "id": "b1b50a76-b427-473b-a042-a8d89451948e",
   "metadata": {},
   "source": [
    "### Antenna deployers\n",
    "As of July 2022, the deployers and attached hardware (including pre-amp?) are assumed to be $\\sim$ 0.75 kg per antenna. This value will change somewhat as the design is refined.\n",
    "\n",
    "For the purposes of this calculation, the deployer geometry is treated as a cuboid with side lengths estimated based on the stowed antenna length."
   ]
  },
  {
   "cell_type": "code",
   "execution_count": 22,
   "id": "c86c8042-5e7b-4662-9c39-e1ce175a0e9a",
   "metadata": {},
   "outputs": [
    {
     "name": "stdout",
     "output_type": "stream",
     "text": [
      "Deployer mass = 0.750 kg (each)\n",
      "Deployer inertia = 0.05377 kg/m^2 (each)\n"
     ]
    }
   ],
   "source": [
    "deployer_mass = 0.75\n",
    "deployer_length = boom_length['stowed'] * 3\n",
    "deployer_width = boom_length['stowed']\n",
    "deployer_radial_position = plate_od / 2\n",
    "deployer_inertia_about_cg = deployer_mass / 12 * (deployer_width**2 + deployer_length**2)\n",
    "deployer_inertia = deployer_inertia_about_cg + deployer_mass * deployer_radial_position**2\n",
    "print(f'Deployer mass = {deployer_mass:.3f} kg (each)')\n",
    "print(f'Deployer inertia = {deployer_inertia:.4} kg/m^2 (each)')"
   ]
  },
  {
   "cell_type": "markdown",
   "id": "0c9dc4d1-c470-4965-8f7f-9ff073e41149",
   "metadata": {},
   "source": [
    "### Central shaft and bearings\n",
    "These rotating components are lumped together and approximated as a single tube of metal."
   ]
  },
  {
   "cell_type": "code",
   "execution_count": 23,
   "id": "a2595259-1416-4ffe-b978-af53dbdfef39",
   "metadata": {},
   "outputs": [
    {
     "name": "stdout",
     "output_type": "stream",
     "text": [
      "Central shaft and bearing mass = 0.188 kg\n",
      "Central shaft and bearing inertia = 0.0002662 kg/m^2\n"
     ]
    }
   ],
   "source": [
    "central_od = 0.080  # outer diameter\n",
    "central_id = 0.070  # inner diameter\n",
    "central_length = 0.020  # length\n",
    "central_r1, central_r2 = central_id/2, central_od/2  # radii\n",
    "central_rho = rho_SS\n",
    "central_mass = central_rho * central_length * math.pi * (central_r2**2 - central_r1**2)\n",
    "central_inertia = 0.5 * central_mass * (central_r1**2 + central_r2**2)\n",
    "print(f'Central shaft and bearing mass = {central_mass:.3f} kg')\n",
    "print(f'Central shaft and bearing inertia = {central_inertia:.4} kg/m^2')"
   ]
  },
  {
   "cell_type": "markdown",
   "id": "62c718c7-c223-456c-ae88-44e427ce4877",
   "metadata": {},
   "source": [
    "### Parallel-axis transmission\n",
    "The motor will be mounted off-axis and parallel to the central bearing.\n",
    "\n",
    "In the present study (July 2022), details of this transmission are not considered. For code completeness, a gear ratio is included, but here set to 1:1. A simple torque reduction factor is assumed, accounting for frictional loss in this transmission."
   ]
  },
  {
   "cell_type": "code",
   "execution_count": 24,
   "id": "8614ff39-def0-4857-9ce8-e66f08a7c369",
   "metadata": {},
   "outputs": [],
   "source": [
    "# Note: The transmission ratio here does *not* include the internal gearing of the motor.\n",
    "# This value is only about the transmission between it and the turntable.\n",
    "transmission_ratio = 1.0 / 1.0  # gearmotor output revolutions per turntable revolution\n",
    "transmission_efficiency = 0.90  # assumption based on typical roller chain drives"
   ]
  },
  {
   "cell_type": "markdown",
   "id": "90828ad8-2564-42e7-965f-378ba6f0750c",
   "metadata": {},
   "source": [
    "### Motor shaft, gearhead, bearing\n",
    "In the present study (July 2022), whose initial purpose is to define specifications for the motor, the internal details of the motor are not considered. They could be added to this study at a later date, after we have selected a specific motor model."
   ]
  },
  {
   "cell_type": "markdown",
   "id": "0f6c43c6-cef8-48a2-bf5e-4f4bb1f47b29",
   "metadata": {},
   "source": [
    "### External dust seal\n",
    "\n",
    "Some dust seal(s) will be required to prevent lunar dust from accessing the bearing and transmission. These impose some friction load on the assembly.\n",
    "\n",
    "Here I assume the seal contact is made against a flat face by annular, thin-walled polyimide. In this approach, there would be one seal at the turntable rotation axis, and another at the motor output, covering the off-axis transmission components. (The motor may additionally have internal seals in its bearing at the output shaft, TBD.)\n",
    "\n",
    "The seal at the central axis will bear either on the rotating turntable, or else be mounted to the turntable and bear on its opposing counterpart (i.e. the top plate or the central shaft support). Preload force will be relatively low, since only dust needs to be excluded.\n",
    "\n",
    "Some comments are offered in another section about the option of alternatively, or additionally, having internal seals integral to the bearing. There are both advantages and disadvantages. It would be necessary for the bearing vendor to fabricate using a seal material with which we are comfortable at the lunar temperature extremes and in vacuum."
   ]
  },
  {
   "cell_type": "code",
   "execution_count": 25,
   "id": "03261aed-7a1a-4a50-94c1-c3fc5722e15a",
   "metadata": {},
   "outputs": [
    {
     "name": "stdout",
     "output_type": "stream",
     "text": [
      "External dust seal at radius 0.080 m: clamping force = 1.5 N\n"
     ]
    }
   ],
   "source": [
    "seal_contact_radius = 0.080  # annulus of contact for the seals\n",
    "seal_contact_width = 0.003  # rough guess as to desirable contact width, will depend on seal design details\n",
    "seal_contact_pressure_millibar = 10  # rough guess as to desirable clamping pressure (per seal)\n",
    "seal_contact_pressure = seal_contact_pressure_millibar * 100\n",
    "seal_contact_area = 2 * math.pi * seal_contact_radius * seal_contact_width\n",
    "seal_clamping_force = seal_contact_pressure * seal_contact_area\n",
    "print(f'External dust seal at radius {seal_contact_radius:.3f} m: clamping force = {seal_clamping_force:.1f} N')"
   ]
  },
  {
   "cell_type": "markdown",
   "id": "d13d6880-f4b8-44b1-8c03-955464fcbfe3",
   "metadata": {},
   "source": [
    "Datasheet values for the static and dynamic friction coefficient of [Vespel SP-1](https://www.curbellplastics.com/Research-Solutions/DuPont-Vespel-SP-1) are listed at 0.29 and 0.35, respectively. I presume a fixed, static value of 0.35 for the purposes of this calculation, and estimate a fixed torque based on the assumed contact annulus."
   ]
  },
  {
   "cell_type": "code",
   "execution_count": 26,
   "id": "fc4ad8f5-3eb5-4c19-9512-f4bdb8e08a29",
   "metadata": {},
   "outputs": [
    {
     "name": "stdout",
     "output_type": "stream",
     "text": [
      "External dust seal static torque = 0.042 N*m = 6.0 oz*in\n"
     ]
    }
   ],
   "source": [
    "seal_mu = 0.35\n",
    "seal_torque = seal_mu * seal_contact_radius * seal_clamping_force\n",
    "print(f'External dust seal static torque = {seal_torque:.3f} N*m = {seal_torque / Nm_per_ozin:.1f} oz*in')"
   ]
  },
  {
   "cell_type": "markdown",
   "id": "7ced7e4c-d8c3-4754-a046-12a16737cc5f",
   "metadata": {},
   "source": [
    "### Bearing friction\n",
    "For the purposes of preliminary overall system torque calculations, I presume a bearing with its own integrated dust seal. This may not be the case, as discussed in more detail in the bearing selection section below. But presently, in sizing the motor and transmission, I assume selection of a single Type-X, nitrile double-sealed, stainless steel bearing, e.g. Kaydon WA025XP0. The vendor provides a static torque value for this bearing, given default lubrication and temperature conditions:"
   ]
  },
  {
   "cell_type": "code",
   "execution_count": 27,
   "id": "4753d731-1d61-49e4-9749-73704ccaad1f",
   "metadata": {},
   "outputs": [
    {
     "name": "stdout",
     "output_type": "stream",
     "text": [
      "Central bearing static torque = 0.056 N*m\n"
     ]
    }
   ],
   "source": [
    "bearing_torque_ozin = 8.0  # oz*in\n",
    "bearing_torque = bearing_torque_ozin * Nm_per_ozin\n",
    "print(f'Central bearing static torque = {bearing_torque:.3f} N*m')"
   ]
  },
  {
   "cell_type": "markdown",
   "id": "92483b66-7a55-40b5-920a-f93e4ab65a75",
   "metadata": {},
   "source": [
    "### Harness\n",
    "The primary elastic contributor to motor driving torque is the cable harness. Its torsional stiffness is estimated here by counting the number of conductors, assuming a diameter for each conductor, and then adding up their torsional stiffness plus their insulating coatings in parallel. The individual conductors are here treated as solid core, though in reality they would be stranded."
   ]
  },
  {
   "cell_type": "code",
   "execution_count": 28,
   "id": "3974ef0c-4051-4428-a33b-2971a0e4a8d5",
   "metadata": {},
   "outputs": [
    {
     "name": "stdout",
     "output_type": "stream",
     "text": [
      "Harness approx torsional stiffness = 0.02097 N*m/rad\n",
      "Harness approx torsional stiffness = 1202 N*mm/deg\n",
      "Harness approx torsional stiffness = 170.2 oz*in/deg\n",
      "Harness max torque resistance = 0.03477 N*m\n",
      "Harness max torque resistance = 34.77 N*mm\n",
      "Harness max torque resistance = 4.924 oz*in\n"
     ]
    }
   ],
   "source": [
    "wires_per_antenna = 20\n",
    "n_wires = n_ant * wires_per_antenna\n",
    "wire_diam_mm = 0.35\n",
    "wire_insul_wall_mm = 0.15  # wall thickness of insulator on wire\n",
    "wire_diam = wire_diam_mm / 1000\n",
    "wire_insul_wall = wire_insul_wall_mm / 1000\n",
    "J_wire = math.pi/32 * wire_diam**4  # wire polar moment of inertia\n",
    "J_insul = math.pi/32 * ((wire_diam + 2*wire_insul_wall)**4 - wire_diam**4)  # insulation polar moment of inertia\n",
    "harness_length = 0.3  # estimated from July 2022 CAD model\n",
    "shear_modulus = lambda E: E / (2*(1 + 0.3))  # approx shear modulus for typical poisson ratio\n",
    "insulated_wire_stiffness = (shear_modulus(E_Cu) * J_wire + shear_modulus(E_plastic) * J_insul) / harness_length  # N*m / rad\n",
    "harness_stiffness = n_wires * insulated_wire_stiffness\n",
    "harness_max_torque = harness_stiffness * max(rotation_range)\n",
    "for unit, scale in {'N*m/rad': 1.0, 'N*mm/deg': 180/math.pi*1000, 'oz*in/deg': 180/math.pi/Nm_per_ozin}.items():\n",
    "    print(f'Harness approx torsional stiffness = {harness_stiffness*scale:.4g} {unit}')\n",
    "for unit, scale in {'N*m': 1.0, 'N*mm': 1000., 'oz*in': 1/Nm_per_ozin}.items():\n",
    "    print(f'Harness max torque resistance = {harness_max_torque*scale:.4g} {unit}')\n"
   ]
  },
  {
   "cell_type": "markdown",
   "id": "59c3ee28-49b4-49cc-84c9-a088a67485d2",
   "metadata": {},
   "source": [
    "### Gear inertia\n",
    "The vendor datasheet for Globe Motors A-1430, as an example, indicates a maximum gear inertia. While included here for completeness, in practice this value is negligible with respect to the overall system. (This fact is displayed further down, see printout in the \"Known\" torques calculation below.)"
   ]
  },
  {
   "cell_type": "code",
   "execution_count": 29,
   "id": "69b34cdd-e90f-40cb-ac78-8e6f49a57cfd",
   "metadata": {},
   "outputs": [],
   "source": [
    "max_gear_inertia_ozinsec2 = 1.8e-6  # oz*in*sec^2, Globe A-1430\n",
    "max_gear_inertia = max_gear_inertia_ozinsec2 * Nm_per_ozin  # kg*m^2"
   ]
  },
  {
   "cell_type": "markdown",
   "id": "2f70a51b-be53-4c2a-bbf4-ea18cce1ca7e",
   "metadata": {},
   "source": [
    "## Performance\n",
    "Our needs for rotational speed and acceleration are relatively low. \n",
    "\n",
    "### Speed\n",
    "Repositioning will take on the order of minutes. We base the speed on the anticipated control feedback loop speed provided by the CD&H computer, and on our desired positioning precision."
   ]
  },
  {
   "cell_type": "code",
   "execution_count": 30,
   "id": "88cd3de8-917f-4f4f-ae19-657488cdf19f",
   "metadata": {},
   "outputs": [
    {
     "name": "stdout",
     "output_type": "stream",
     "text": [
      "Max slew time = 321.7 sec =  5.4 min at nominal operating speed (0.1 rpm = 0.60 deg/s).\n",
      "Maximum allowable speed = 0.167 rpm = 1.0 deg/s.\n"
     ]
    }
   ],
   "source": [
    "feedback_rate = 1.0  # Hz\n",
    "precision_deg = 1.0  # deg\n",
    "precision = math.radians(precision_deg)\n",
    "max_allowable_speed = precision * feedback_rate\n",
    "nom_operating_speed_rpm = 0.1\n",
    "nom_operating_speed = nom_operating_speed_rpm * radpersec_per_rpm\n",
    "antibacklash_move_deg = 3.0\n",
    "antibacklash_move = math.radians(antibacklash_move_deg)\n",
    "max_slew_distance = total_rotation_range + antibacklash_move\n",
    "max_slew_time = max_slew_distance / nom_operating_speed\n",
    "print(f'Max slew time = {max_slew_time:5.1f} sec = {max_slew_time/60:4.1f} min at nominal operating speed '\n",
    "      f'({nom_operating_speed_rpm:.3g} rpm = {math.degrees(nom_operating_speed):.2f} deg/s).')\n",
    "print(f'Maximum allowable speed = {max_allowable_speed/radpersec_per_rpm:.3g} rpm = {math.degrees(max_allowable_speed):.1f} deg/s.')\n",
    "assert max_allowable_speed >= nom_operating_speed, f'Must define a nominal operating speed lower than max_allowable_speed'"
   ]
  },
  {
   "cell_type": "markdown",
   "id": "f2972406-7970-4d3a-961c-8b69c1e36b8e",
   "metadata": {},
   "source": [
    "### Acceleration\n",
    "Acceleration must not exceed the buckling strength of the extended antenna. Here we estimate the buckling critical load per Roark's 7th Edition:\n",
    "\n",
    "![Transverse buckling of thin-walled tube](figures/roarks_7th_tube_transverse_buckling.png)"
   ]
  },
  {
   "cell_type": "code",
   "execution_count": 31,
   "id": "8e30ac78-4012-41bd-afca-a78627b00838",
   "metadata": {},
   "outputs": [
    {
     "name": "stdout",
     "output_type": "stream",
     "text": [
      "Antenna critical buckling moment = 4976.9 N*m\n",
      "Applying safety factor of 100 --> allowable moment = 49.8 N*m\n",
      "--> max allowable acceleration = 86.1 rad/s^2 = 4932.8 deg/s^2 = 13.7 rev/s^2\n",
      "--> min allowable period of acceleration = 0.000122 sec\n"
     ]
    }
   ],
   "source": [
    "buckling_design_safety_factor = 100  # stay conservative, since this is both Euler instability and since inertias / motor details not yet fully defined\n",
    "tube_transverse_buckling_K = 0.72  # using minimum value here, to stay on conservative side\n",
    "boom_root_radial_position = plate_od\n",
    "boom_critical_moment = tube_transverse_buckling_K * E_BeCu / (1 - nu_BeCu**2) * boom_length['deployed'] * boom_wall['deployed']**2\n",
    "boom_allowable_moment = boom_critical_moment / buckling_design_safety_factor\n",
    "boom_allowable_accel = boom_allowable_moment / ant_inertia['deployed']\n",
    "boom_allowable_accel_period = nom_operating_speed / boom_allowable_accel\n",
    "print(f'Antenna critical buckling moment = {boom_critical_moment:.1f} N*m')\n",
    "print(f'Applying safety factor of {buckling_design_safety_factor} --> allowable moment = {boom_allowable_moment:.1f} N*m')\n",
    "print(f'--> max allowable acceleration = {boom_allowable_accel:.1f} rad/s^2 = {math.degrees(boom_allowable_accel):.1f} deg/s^2 = {boom_allowable_accel/(2*math.pi):.1f} rev/s^2')\n",
    "print(f'--> min allowable period of acceleration = {boom_allowable_accel_period:.3g} sec')"
   ]
  },
  {
   "cell_type": "markdown",
   "id": "c409987b-fc09-412e-a1b4-ce8723971a91",
   "metadata": {},
   "source": [
    "We assert a minimum nominal acceleration based on assuring a practical spin-up time. For completeness, the buckling criterion acceleration is displayed here as well. It would in principle be a limit on maximum acceleration."
   ]
  },
  {
   "cell_type": "code",
   "execution_count": 32,
   "id": "602e2da1-e90f-45e8-956d-744a157304a2",
   "metadata": {},
   "outputs": [
    {
     "name": "stdout",
     "output_type": "stream",
     "text": [
      "Nominal bounds on system acceleration rate = (0.00105, 86.1) rad/s^2\n"
     ]
    }
   ],
   "source": [
    "nom_accel_period_max = 10.0  # sec, slow end of practical performance\n",
    "nom_accel_period_min = boom_allowable_accel_period\n",
    "nom_accel = [nom_operating_speed / t for t in [nom_accel_period_max, nom_accel_period_min]]\n",
    "print(f'Nominal bounds on system acceleration rate = ({min(nom_accel):.3g}, {max(nom_accel):.3g}) rad/s^2')\n",
    "assert max(nom_accel) <= boom_allowable_accel, f'nominal acceleration is higher than boom can tolerate'"
   ]
  },
  {
   "cell_type": "markdown",
   "id": "bad140af-3343-4454-8da0-aa3b8230fc3e",
   "metadata": {},
   "source": [
    "The boom buckling-limited acceleration is indeed many orders of magnitude faster than we expect any practical real-world system to perform, and hence is ignored for the remainder of the calculations."
   ]
  },
  {
   "cell_type": "markdown",
   "id": "329d8d47-3bce-4f5c-94c3-6f0164868b18",
   "metadata": {},
   "source": [
    "## Torque margin calculation\n",
    "\n",
    "### Resistive known torques"
   ]
  },
  {
   "cell_type": "code",
   "execution_count": 33,
   "id": "c5aacd5a-9d32-46ad-b3b0-7be67da858fd",
   "metadata": {},
   "outputs": [
    {
     "name": "stdout",
     "output_type": "stream",
     "text": [
      "Total payload inertia (i.e. not including motor) = 2.617 kg*m^2\n",
      "(Note: max gear inertia 1.27e-08 kg*m^2 represents a fraction 4.9e-09 of total.)\n",
      "Total \"known\" resistive torque (at min specified acceleration rate) = 0.00274 N*m = 0.388 oz*in\n"
     ]
    }
   ],
   "source": [
    "total_inertia = plate_inertia + n_ant * (ant_inertia['deployed'] + deployer_inertia) + central_inertia + max_gear_inertia\n",
    "T_known = total_inertia * min(nom_accel)\n",
    "T_known_ozin = T_known / Nm_per_ozin\n",
    "print(f'Total payload inertia (i.e. not including motor) = {total_inertia:.4g} kg*m^2')\n",
    "print(f'(Note: max gear inertia {max_gear_inertia:.3g} kg*m^2 represents a fraction {max_gear_inertia/total_inertia:.2g} of total.)')\n",
    "print(f'Total \"known\" resistive torque (at min specified acceleration rate) = {T_known:.3g} N*m = {T_known_ozin:.3g} oz*in')"
   ]
  },
  {
   "cell_type": "markdown",
   "id": "4810360e-f655-4bb1-a3ce-5205c4b32fb2",
   "metadata": {},
   "source": [
    "### Resistive variable torques"
   ]
  },
  {
   "cell_type": "code",
   "execution_count": 34,
   "id": "144e6ef2-20b3-49fb-9349-0612d5f644b2",
   "metadata": {},
   "outputs": [
    {
     "name": "stdout",
     "output_type": "stream",
     "text": [
      "Range for static friction torque = (0.056, 0.099) N*m\n",
      "Range for transmission loss = (0.006, 0.010) N*m\n",
      "Range for \"variable\" resistive torque = (0.062, 0.144) N*m = (8.8, 20.3) oz*in\n"
     ]
    }
   ],
   "source": [
    "T_static_friction = [bearing_torque, seal_torque + bearing_torque]  # range of options, since final sealing config not yet determined\n",
    "T_friction_transmission_loss = [T * (1 - transmission_efficiency) for T in T_static_friction]\n",
    "T_known_transmission_loss = (1 - transmission_efficiency) * T_known\n",
    "T_transmission_loss = [T_known_transmission_loss + T for T in T_friction_transmission_loss]\n",
    "T_variable = [min(T_static_friction) + min(T_transmission_loss),\n",
    "              max(T_static_friction) + max(T_transmission_loss) + harness_max_torque]\n",
    "print(f'Range for static friction torque = ({min(T_static_friction):.3f}, {max(T_static_friction):.3f}) N*m')\n",
    "print(f'Range for transmission loss = ({min(T_transmission_loss):.3f}, {max(T_transmission_loss):.3f}) N*m')\n",
    "print(f'Range for \"variable\" resistive torque = ({min(T_variable):.3f}, {max(T_variable):.3f}) N*m = ({min(T_variable)/Nm_per_ozin:.1f}, {max(T_variable)/Nm_per_ozin:.1f}) oz*in')"
   ]
  },
  {
   "cell_type": "markdown",
   "id": "c9626845-9f91-474d-8154-41bc6d17345d",
   "metadata": {},
   "source": [
    "### Minimum driving torque\n",
    "We use the resistive known and variable torques, in combination with the GEVS safety factors, to determine the minimum allowable motor torque."
   ]
  },
  {
   "cell_type": "code",
   "execution_count": 35,
   "id": "4e4a1fd4-25af-4751-9da8-39ffffb5e199",
   "metadata": {},
   "outputs": [
    {
     "name": "stdout",
     "output_type": "stream",
     "text": [
      "For positive torque margin, with safety factors FSk = 2.0 and FSv = 4.0,\n",
      "minimum gearmotor torque shall be T_avail = 0.58 N*m = 82.1 oz*in\n"
     ]
    }
   ],
   "source": [
    "TM = 0.0  # set to 0 for minimum allowable, i.e. positive torque margin\n",
    "T_avail_min = (TM + 1) * (FSk * T_known + FSv * max(T_variable))\n",
    "print(f'For positive torque margin, with safety factors FSk = {FSk} and FSv = {FSv},\\n'\n",
    "      f'minimum gearmotor torque shall be T_avail = {T_avail_min:.3g} N*m = {T_avail_min/Nm_per_ozin:.3g} oz*in')"
   ]
  },
  {
   "cell_type": "markdown",
   "id": "fd4486f6-3d66-4fda-8427-c6fb0ebd9222",
   "metadata": {},
   "source": [
    "### Maximum driving torque (buckling constraint)\n",
    "As discussed above, the acceleration rate to cause antenna boom buckling is many orders of magnitude outside what any practical motor in this application will achieve. This is confirmed below, by a simple scaling argument:"
   ]
  },
  {
   "cell_type": "code",
   "execution_count": 36,
   "id": "3903fa57-659b-483b-910a-e9eab31d9c49",
   "metadata": {},
   "outputs": [
    {
     "name": "stdout",
     "output_type": "stream",
     "text": [
      "To buckle the boom, available motor driving torque would have to be >= 225.4 N*m = 31912.3 oz*in\n"
     ]
    }
   ],
   "source": [
    "scaled_buckling_torque = max(nom_accel)/min(nom_accel) * T_known + min(T_variable)\n",
    "print(f'To buckle the boom, available motor driving torque would have to be >= {scaled_buckling_torque:.1f} N*m = {scaled_buckling_torque/Nm_per_ozin:.1f} oz*in')"
   ]
  },
  {
   "cell_type": "markdown",
   "id": "0581078f-e832-46ff-848a-e9da5fae595d",
   "metadata": {
    "tags": []
   },
   "source": [
    "## Appendix: Motor selection\n",
    "As of July 2022, we have been presuming usage of Globe Motor A-1430. This model indeed is offered with reduction ratios that deliver 300 oz-in of torque. Therefore we can proceed further with this motor family.\n",
    "\n",
    "At the nominal operating voltage, the Globe Motors have two armature winding options:"
   ]
  },
  {
   "cell_type": "code",
   "execution_count": 37,
   "id": "d2fa2317-187a-4f67-8934-2c953a2b0d0d",
   "metadata": {},
   "outputs": [],
   "source": [
    "motor_voltage = 12.  # VDC\n",
    "globe_armature = {'-15': {'no load speed (rpm)': [13500, 17000],\n",
    "                          'max rated torque (oz*in)': 0.22,\n",
    "                          'theoretical stall (oz*in)': 2.60,\n",
    "                          'Kt (oz*in/A)': 0.95,\n",
    "                          'R': 3.70,  # ohms\n",
    "                         },\n",
    "                  '-14': {'no load speed (rpm)': [10000, 13000],\n",
    "                          'max rated torque (oz*in)': 0.33,\n",
    "                          'theoretical stall (oz*in)': 2.00,\n",
    "                          'Kt (oz*in/A)': 1.32,\n",
    "                          'R': 6.46,  # ohms\n",
    "                         },\n",
    "                 }"
   ]
  },
  {
   "cell_type": "markdown",
   "id": "a08d75d9-190c-4d1d-a8ee-eb4fc4750119",
   "metadata": {
    "tags": []
   },
   "source": [
    "Among enclosed type motors, the family includes numerous options. The 12 gearhead configurations with max continous torque >= 45 oz\\*in are tested below:"
   ]
  },
  {
   "cell_type": "code",
   "execution_count": 38,
   "id": "50e04ab9-d068-4396-a609-073e88ba0266",
   "metadata": {},
   "outputs": [],
   "source": [
    "globe_gear = {'43A147': {'speed reduction ratio': 321,\n",
    "                         'torque multiplier ratio': 130,\n",
    "                         'length (in)': 3.11,\n",
    "                         'max continuous torque (oz*in)': 45., \n",
    "                        },\n",
    "              '43A148': {'speed reduction ratio': 485,\n",
    "                         'torque multiplier ratio': 200,\n",
    "                         'length (in)': 3.11,\n",
    "                         'max continuous torque (oz*in)': 70., \n",
    "                        },\n",
    "              '43A149': {'speed reduction ratio': 733,\n",
    "                         'torque multiplier ratio': 300,\n",
    "                         'length (in)': 3.11,\n",
    "                         'max continuous torque (oz*in)': 100., \n",
    "                        },\n",
    "              '43A150': {'speed reduction ratio': 1108,\n",
    "                         'torque multiplier ratio': 450,\n",
    "                         'length (in)': 3.11,\n",
    "                         'max continuous torque (oz*in)': 150., \n",
    "                        },\n",
    "              '43A151': {'speed reduction ratio': 1853,\n",
    "                         'torque multiplier ratio': 600,\n",
    "                         'length (in)': 3.28,\n",
    "                         'max continuous torque (oz*in)': 200., \n",
    "                        },\n",
    "              '43A152': {'speed reduction ratio': 2799,\n",
    "                         'torque multiplier ratio': 900,\n",
    "                         'length (in)': 3.28,\n",
    "                         'max continuous torque (oz*in)': 300., \n",
    "                        },\n",
    "              '43A153': {'speed reduction ratio': 4230,\n",
    "                         'torque multiplier ratio': 1400,\n",
    "                         'length (in)': 3.28,\n",
    "                         'max continuous torque (oz*in)': 300., \n",
    "                        },\n",
    "              '43A154': {'speed reduction ratio': 6391,\n",
    "                         'torque multiplier ratio': 2100,\n",
    "                         'length (in)': 3.28,\n",
    "                         'max continuous torque (oz*in)': 300., \n",
    "                        },\n",
    "              '43A155': {'speed reduction ratio': 10689,\n",
    "                         'torque multiplier ratio': 2800,\n",
    "                         'length (in)': 3.45,\n",
    "                         'max continuous torque (oz*in)': 300., \n",
    "                        },\n",
    "              '43A156': {'speed reduction ratio': 16150,\n",
    "                         'torque multiplier ratio': 4200,\n",
    "                         'length (in)': 3.45,\n",
    "                         'max continuous torque (oz*in)': 300., \n",
    "                        },\n",
    "              '43A157': {'speed reduction ratio': 24403,\n",
    "                         'torque multiplier ratio': 6400,\n",
    "                         'length (in)': 3.45,\n",
    "                         'max continuous torque (oz*in)': 300., \n",
    "                        },\n",
    "              '43A158': {'speed reduction ratio': 36873,\n",
    "                         'torque multiplier ratio': 9700,\n",
    "                         'length (in)': 3.45,\n",
    "                         'max continuous torque (oz*in)': 300., \n",
    "                        },\n",
    "             }"
   ]
  },
  {
   "cell_type": "markdown",
   "id": "c8277135-cdde-4618-8dbf-e917e0992b1f",
   "metadata": {},
   "source": [
    "Speed is calculated by equating power, i.e. $P_{supplied} = V I$ is set equal to $P_{consumed} = P_{mech} + (copper~loss) = \\tau \\omega + I^2 R$, where:\n",
    "\n",
    "$V$ = voltage\n",
    "\n",
    "$I$ = current\n",
    "\n",
    "$\\tau$ = torque\n",
    "\n",
    "$\\omega$ = angular speed\n",
    "\n",
    "$R$ = electrical resistance\n",
    "\n",
    "Hence,\n",
    "\n",
    "$$\\omega = \\frac{V I - I^2 R}{\\tau}$$\n",
    "\n",
    "where the current can be calculated with the motor torque constant $K_T$ like $\\tau = K_T I$.\n",
    "\n",
    "Efficiency is calculated with similar terms, letting $P_{mech} = \\tau \\omega = \\tau (1 - \\frac{\\tau}{\\tau_o}) \\omega_o$ and $P_{supplied} = V I = V \\frac{\\tau}{K_T}$, where:\n",
    "\n",
    "$\\tau_o$ = stall torque\n",
    "\n",
    "$\\omega_o$ = no load speed\n",
    "\n",
    "Hence,\n",
    "\n",
    "$$\\eta_1 = \\frac{P_{mech}}{P_{supplied}} = \\frac{(1-\\frac{\\tau}{\\tau_o})\\omega_o  K_T}{V}$$\n",
    "\n",
    "As a check, efficiency is also calculated in the other direction of the parameters provided by the vendor, i.e. according to the ratio of electrical loss to supplied power:\n",
    "\n",
    "$$\\eta_2 = 1 - \\frac{I^2 R}{V I} = 1 - \\frac{\\tau R}{K_T V}$$"
   ]
  },
  {
   "cell_type": "code",
   "execution_count": 39,
   "id": "8ed0b35b-5423-4d96-ab52-5389a2535f43",
   "metadata": {},
   "outputs": [],
   "source": [
    "gearmotor = []\n",
    "for a, arm in globe_armature.items():\n",
    "    tau0_ozin = arm['theoretical stall (oz*in)']\n",
    "    w0_rpm = sum(arm['no load speed (rpm)']) / len(arm['no load speed (rpm)'])  # use the mean value for simplicity\n",
    "    w0 = w0_rpm * radpersec_per_rpm\n",
    "    KT_ozinperA = arm['Kt (oz*in/A)']\n",
    "    KT_NmperA = KT_ozinperA * Nm_per_ozin\n",
    "    R = arm['R']\n",
    "    for g, gear in globe_gear.items():\n",
    "        gear['min gear efficiency'] = gear['torque multiplier ratio'] / gear['speed reduction ratio']\n",
    "        gearmotor += [{'part': f'{g}{a}'}]\n",
    "        gearmotor[-1].update(arm)\n",
    "        gearmotor[-1].update(gear)\n",
    "        gearmotor[-1]['rated rotor torque (oz*in)'] = arm['max rated torque (oz*in)']  # practical assumption\n",
    "        gearmotor[-1]['rated output torque (oz*in)'] = gearmotor[-1][f'rated rotor torque (oz*in)'] * gear['torque multiplier ratio']\n",
    "        \n",
    "        # harness torque treated as an average\n",
    "        gearmotor[-1]['min est continuous output torque (oz*in)'] = (min(T_static_friction) + min(T_friction_transmission_loss) + harness_max_torque/2) / Nm_per_ozin\n",
    "        gearmotor[-1]['max est continuous output torque (oz*in)'] = (max(T_static_friction) + max(T_friction_transmission_loss) + harness_max_torque/2) / Nm_per_ozin\n",
    "        \n",
    "        gearmotor[-1]['min est intermittent output torque (oz*in)'] = (T_known + min(T_variable)) / Nm_per_ozin\n",
    "        gearmotor[-1]['max est intermittent output torque (oz*in)'] = (T_known + max(T_variable)) / Nm_per_ozin\n",
    "        for prefix in ['rated'] + ['min est continuous', 'max est continuous', 'min est intermittent', 'max est intermittent']:\n",
    "            tau_rotor_ozin = gearmotor[-1][f'{prefix} output torque (oz*in)'] / gear['torque multiplier ratio']\n",
    "            tau_rotor = tau_rotor_ozin * Nm_per_ozin\n",
    "            I = tau_rotor_ozin / KT_ozinperA\n",
    "            VI = I * motor_voltage\n",
    "            w_rotor = (VI - I**2*R) / tau_rotor\n",
    "            w_rotor_rpm = w_rotor / radpersec_per_rpm\n",
    "            gearmotor[-1][f'{prefix} rotor torque (oz*in)'] = tau_rotor_ozin\n",
    "            gearmotor[-1][f'{prefix} current'] = I\n",
    "            gearmotor[-1][f'{prefix} power consumption'] = VI\n",
    "            gearmotor[-1][f'{prefix} rotor speed (rpm)'] = w_rotor_rpm\n",
    "            gearmotor[-1][f'{prefix} output speed (rpm)'] = w_rotor_rpm / gear['speed reduction ratio']\n",
    "            gearmotor[-1][f'{prefix} efficiency 1'] = (1 - tau_rotor_ozin / tau0_ozin) * w0 * KT_NmperA / motor_voltage\n",
    "            gearmotor[-1][f'{prefix} efficiency 2'] = 1 - tau_rotor * R / (KT_NmperA * motor_voltage)\n",
    "        gearmotor[-1]['gearhead continuous torque safety factor'] = gear['max continuous torque (oz*in)'] / gearmotor[-1]['rated output torque (oz*in)']\n",
    "        gearmotor[-1]['gearhead intermittent torque safety factor'] = 2 * gear['max continuous torque (oz*in)'] / gearmotor[-1]['max est intermittent output torque (oz*in)']"
   ]
  },
  {
   "cell_type": "markdown",
   "id": "2abc76c4-73f3-416f-8b25-d1a3f9be63d4",
   "metadata": {},
   "source": [
    "From this list, we select those motors which pass requirements on:\n",
    "- continuous torque limit (per vendor datasheet)\n",
    "- intermittent torque (per vendor datasheet)\n",
    "- positioning precision (see below)\n",
    "\n",
    "***Max driving torque (positioning precision constraint)***: Because we may not be allowed speed control by the provided electronics in the LuSEE-Night system, we wish to design for a torque in hardware which is not only too small, but also not too large. We need the turntable to not spin faster than we can arrest it upon reaching its target. (In a fallback case, some calibrated prediction of this might be possible, but direct feedback control is generally preferable.)"
   ]
  },
  {
   "cell_type": "code",
   "execution_count": 45,
   "id": "4f57c13a-2cce-453a-b716-616470c9f854",
   "metadata": {},
   "outputs": [
    {
     "data": {
      "text/plain": [
       "[50.84371312134661,\n",
       " 34.20021690588869,\n",
       " 22.85394412542877,\n",
       " 15.218259573100005,\n",
       " 9.129399292240995,\n",
       " 6.063494880332375,\n",
       " 4.021505626409693,\n",
       " 2.6653914532171203,\n",
       " 1.5947507499681373,\n",
       " 1.0562269198333267,\n",
       " 0.6993467759159184,\n",
       " 0.46297878397423936,\n",
       " 36.154463944236944,\n",
       " 24.425533246409778,\n",
       " 16.3648713827062,\n",
       " 10.91591045986785,\n",
       " 6.5539761589522625,\n",
       " 4.356629816199896,\n",
       " 2.891181801885491,\n",
       " 1.9169135224276173,\n",
       " 1.1471271374089749,\n",
       " 0.7598940942225492,\n",
       " 0.503200831087194,\n",
       " 0.3331533717422925]"
      ]
     },
     "execution_count": 45,
     "metadata": {},
     "output_type": "execute_result"
    }
   ],
   "source": [
    "torque_sf_tol = 0.1  # allow a bit of tolerance here for borderline cases, since in practice our continous torques are going to be much lower than rating\n",
    "continuous_torque_ok = {i for i, g in enumerate(gearmotor) if g['gearhead continuous torque safety factor'] >= (1.0 - torque_sf_tol)}  \n",
    "intermittent_torque_ok = {i for i, g in enumerate(gearmotor) if g['gearhead intermittent torque safety factor'] >= (1.0 - torque_sf_tol)}\n",
    "positioning_precision_ok = {i for i, g in enumerate(gearmotor) if g['max est continuous output speed (rpm)'] <= max_allowable_speed / radpersec_per_rpm}\n",
    "selected_idxs = continuous_torque_ok & intermittent_torque_ok & positioning_precision_ok\n",
    "[g['max est continuous output speed (rpm)'] <= max_allowable_speed / radpersec_per_rpm for g in gearmotor]\n",
    "[g['max est continuous output speed (rpm)'] for g in gearmotor]"
   ]
  },
  {
   "cell_type": "markdown",
   "id": "3a31bef7-f9b0-4dfe-a05a-5dc84c67e154",
   "metadata": {
    "tags": []
   },
   "source": [
    "T_avail_max = max(T_known) + min(T_variable['max accel'])\n",
    "print(f'To keep acceleration within limits specified above,\\n'\n",
    "      f'maximum allowable gearmotor torque shall be T_avail = {T_avail_max:.3g} N*m = {T_avail_max/Nm_per_ozin:.3g} oz*in')\n",
    "assert T_avail_max > T_avail_min, 'Non-possible motor torque range'"
   ]
  },
  {
   "cell_type": "markdown",
   "id": "009fc366-ead6-4c36-8ee9-b2eb4604ec3c",
   "metadata": {},
   "source": [
    "Selected gearmotor summaries:"
   ]
  },
  {
   "cell_type": "code",
   "execution_count": 41,
   "id": "8c5dff86-40a8-4e25-9cde-039c73a60a4f",
   "metadata": {},
   "outputs": [
    {
     "name": "stdout",
     "output_type": "stream",
     "text": [
      "\n",
      "----------\n",
      "\n",
      "Part: 43A147-15\n",
      "Gearhead continuous torque safety factor = 1.57 (must be >= 1)\n",
      "Gearhead intermittent torque safety factor = 4.34 (must be >= 1)\n",
      "\n",
      "Rated:\n",
      "    Output torque = 0.202 N*m = 28.6 oz*in\n",
      "    Output speed = 49.414 rpm = 296.48 deg/sec\n",
      "    Power consumption = 2.779 W\n",
      "\n",
      "Estimated minimums (continuous operation):\n",
      "    Output torque = 0.080 N*m = 11.3 oz*in\n",
      "    Output speed = 51.718 rpm = 310.31 deg/sec\n",
      "    Power consumption = 1.094 W\n",
      "\n",
      "Estimated maximums (continuous operation):\n",
      "    Output torque = 0.126 N*m = 17.8 oz*in\n",
      "    Output speed = 50.844 rpm = 305.06 deg/sec\n",
      "    Power consumption = 1.733 W\n",
      "\n",
      "Estimated minimums (intermittent operation):\n",
      "    Output torque = 0.065 N*m = 9.2 oz*in\n",
      "    Output speed = 51.988 rpm = 311.93 deg/sec\n",
      "    Power consumption = 0.897 W\n",
      "\n",
      "Estimated maximums (intermittent operation):\n",
      "    Output torque = 0.146 N*m = 20.7 oz*in\n",
      "    Output speed = 50.460 rpm = 302.76 deg/sec\n",
      "    Power consumption = 2.014 W\n",
      "\n",
      "Max slew (193.0°) at MIN speed:\n"
     ]
    },
    {
     "ename": "KeyError",
     "evalue": "'min est intermittent accel'",
     "output_type": "error",
     "traceback": [
      "\u001b[0;31m---------------------------------------------------------------------------\u001b[0m",
      "\u001b[0;31mKeyError\u001b[0m                                  Traceback (most recent call last)",
      "\u001b[0;32m/tmp/ipykernel_4817/2948190802.py\u001b[0m in \u001b[0;36m<module>\u001b[0;34m\u001b[0m\n\u001b[1;32m     20\u001b[0m         \u001b[0mprint\u001b[0m\u001b[0;34m(\u001b[0m\u001b[0;34m''\u001b[0m\u001b[0;34m)\u001b[0m\u001b[0;34m\u001b[0m\u001b[0;34m\u001b[0m\u001b[0m\n\u001b[1;32m     21\u001b[0m         \u001b[0mprint\u001b[0m\u001b[0;34m(\u001b[0m\u001b[0;34mf'Max slew ({math.degrees(max_slew_distance):.1f}{deg}) at {prefix.upper()} speed:'\u001b[0m\u001b[0;34m)\u001b[0m\u001b[0;34m\u001b[0m\u001b[0;34m\u001b[0m\u001b[0m\n\u001b[0;32m---> 22\u001b[0;31m         \u001b[0maccel_time\u001b[0m \u001b[0;34m=\u001b[0m \u001b[0mgm\u001b[0m\u001b[0;34m[\u001b[0m\u001b[0;34mf'{prefix} est intermittent output speed (rpm)'\u001b[0m\u001b[0;34m]\u001b[0m \u001b[0;34m*\u001b[0m \u001b[0mradpersec_per_rpm\u001b[0m \u001b[0;34m/\u001b[0m \u001b[0mgm\u001b[0m\u001b[0;34m[\u001b[0m\u001b[0;34mf'{prefix} est intermittent accel'\u001b[0m\u001b[0;34m]\u001b[0m\u001b[0;34m\u001b[0m\u001b[0;34m\u001b[0m\u001b[0m\n\u001b[0m\u001b[1;32m     23\u001b[0m         \u001b[0maccel_energy\u001b[0m \u001b[0;34m=\u001b[0m \u001b[0maccel_time\u001b[0m \u001b[0;34m*\u001b[0m \u001b[0mgm\u001b[0m\u001b[0;34m[\u001b[0m\u001b[0;34mf'{prefix} est intermittent power consumption'\u001b[0m\u001b[0;34m]\u001b[0m\u001b[0;34m\u001b[0m\u001b[0;34m\u001b[0m\u001b[0m\n\u001b[1;32m     24\u001b[0m         \u001b[0maccel_distance\u001b[0m \u001b[0;34m=\u001b[0m \u001b[0;36m0.5\u001b[0m \u001b[0;34m*\u001b[0m \u001b[0mgm\u001b[0m\u001b[0;34m[\u001b[0m\u001b[0;34mf'{prefix} est intermittent accel'\u001b[0m\u001b[0;34m]\u001b[0m \u001b[0;34m*\u001b[0m \u001b[0maccel_time\u001b[0m\u001b[0;34m**\u001b[0m\u001b[0;36m2\u001b[0m\u001b[0;34m\u001b[0m\u001b[0;34m\u001b[0m\u001b[0m\n",
      "\u001b[0;31mKeyError\u001b[0m: 'min est intermittent accel'"
     ]
    }
   ],
   "source": [
    "for idx in selected_idxs:\n",
    "    gm = gearmotor[idx]\n",
    "    print(f'\\n{horiz_rule}\\n')\n",
    "    print(f'Part: {gm[\"part\"]}')\n",
    "    for kind in ['continuous', 'intermittent']:\n",
    "        print(f'Gearhead {kind} torque safety factor = {gm[f\"gearhead {kind} torque safety factor\"]:.2f} (must be >= 1)')\n",
    "    for prefix, description in {'rated': 'Rated',\n",
    "                         'min est continuous': 'Estimated minimums (continuous operation)',\n",
    "                         'max est continuous': 'Estimated maximums (continuous operation)',\n",
    "                         'min est intermittent': 'Estimated minimums (intermittent operation)',\n",
    "                         'max est intermittent': 'Estimated maximums (intermittent operation)',\n",
    "                        }.items():\n",
    "        print('')\n",
    "        print(f'{description}:')\n",
    "        print(f'{tab}Output torque = {gm[f\"{prefix} output torque (oz*in)\"]*Nm_per_ozin:.3f} N*m = {gm[f\"{prefix} output torque (oz*in)\"]:.1f} oz*in')\n",
    "        print(f'{tab}Output speed = {gm[f\"{prefix} output speed (rpm)\"]:.3f} rpm = {math.degrees(gm[f\"{prefix} output speed (rpm)\"]*radpersec_per_rpm):.2f} deg/sec')\n",
    "        print(f'{tab}Power consumption = {gm[f\"{prefix} power consumption\"]:.3f} W')\n",
    "\n",
    "    for prefix in ['min', 'max']:\n",
    "        print('')\n",
    "        print(f'Max slew ({math.degrees(max_slew_distance):.1f}{deg}) at {prefix.upper()} speed:')\n",
    "        accel_time = gm[f'{prefix} est intermittent output speed (rpm)'] * radpersec_per_rpm / gm[f'{prefix} est intermittent accel']\n",
    "        accel_energy = accel_time * gm[f'{prefix} est intermittent power consumption']\n",
    "        accel_distance = 0.5 * gm[f'{prefix} est intermittent accel'] * accel_time**2\n",
    "        coast_distance = max_slew_distance - accel_distance  # ignoring decel distance here, which is conservative, and in line with the intended control scheme (i.e. cut power near final target)\n",
    "        coast_time = coast_distance / (gm[f'{prefix} est continuous output speed (rpm)'] * radpersec_per_rpm)\n",
    "        coast_energy = coast_time * gm[f'{prefix} est continuous power consumption']\n",
    "        total_est_time = coast_time + accel_time\n",
    "        print(f'{tab}total time = {total_est_time:.1f} sec = {total_est_time/60:.1f} min')\n",
    "        print(f'{tab}total energy = {coast_energy + accel_energy:.1f} J')"
   ]
  },
  {
   "cell_type": "markdown",
   "id": "e0503c67-b02d-43aa-8f64-fc9413cfb953",
   "metadata": {
    "tags": []
   },
   "source": [
    "## Appendix: Bearings selection\n",
    "\n",
    "### Bearing type and size\n",
    "The preliminary design (July 2022) packaging acommodates a pair of Kaydon KA025AR0 bearings:\n",
    "\n",
    "![Kaydon KA0xxAR0](figures/kaydon-KA0xxAR0-open-A-bearings.png)\n",
    "\n",
    "This is a thin section, angular contact, open bearing, with bore 2.5\\\" (63.5 mm), O.D. 3.0\\\" (76.2 mm), and thickness 0.25\\\" (6.35 mm). Mass is low, ~0.12 lbs = 55 g. We utilize the common design pattern of mounting in pairs, to provide tilt resistance.\n",
    "\n",
    "Stainless steel options (may have custom lead-times and will be more expensive) are available. Replace \"K\" with \"S\" in the part number.\n",
    "\n",
    "Kaydon also offers an attractive \"Type X\" four-point contact bearing. We have previously used such a bearing (at a much larger scale) in the Dark Energy Spectroscopic Instrument (DESI) ADC rotator mechanism. The type X controls 5 degrees of freedom in a single unit, rather than the typical angular contact duplex. This has the advantage of fewer parts and less weight, as well as removing the need to control thrust preload in the mounting between the two separate bearing units. A type X unit of similar package size as KA025AR0 would be KA025XP0:\n",
    "\n",
    "![Kaydon KA0xxXP0](figures/kaydon-KA0xxXP0-open-X-bearings.png)\n",
    "\n",
    "Again, replace \"K\" with \"S\" for equivalent stainless option.\n",
    "\n",
    "### External vs internal bearing seals\n",
    "\n",
    "For these open bearings, we would make a dust seal that rides on the shaft and/or flat face. Call this an \"external\" seal. It has the advantages of being:\n",
    "\n",
    "- independent from the bearing selection and procurement\n",
    "- easily replaceable\n",
    "- visible and inspectable\n",
    "- material of our choice (i.e. robust, low cte, temperature tolerant material like polyimide)\n",
    "\n",
    "We can alternatively purchase a bearing with integrated seals. Call this an \"internal\" seal. It has the advantages of:\n",
    "\n",
    "- lower part count\n",
    "- lower mass\n",
    "- more compact packaging\n",
    "\n",
    "Again taking Kaydon as an example bearing manufacturer, their standard seal material is nitrile rubber. This would need to be qualified for our temperature range (100 K - 400 K). Kaydon does offer customization options in alternate seal materials, but we have not yet checked whether polyimide in particular would work for them. Several models Kaydon offers with an integrated double-seal are given in this table:\n",
    "\n",
    "![Kaydon JA0xxXP0](figures/kaydon-JA0xxXP0-sealed-X-bearings.png)\n",
    "\n",
    "The Kaydon line-up does not have sealed bearings in angular contact configurations. \n",
    "\n",
    "For sealed bearings, replace \"J\" with \"W\" in the part number for the stainless option.\n",
    "\n",
    "### Bearing seal materials\n",
    "\n",
    "If we fabricate our own seals, one might consider using [Vespel SP-3](https://www.curbellplastics.com/Research-Solutions/DuPont-Vespel-SP-3). This is a 15% MoS<sub>2</sub>-filled polyimide with a long history of use in space applications, with low creep, high strength, and low coefficient of thermal expansion (for a polymer), and which should survive the temperature extremes.\n",
    "\n",
    "A concern I have is that the friction coefficient of SP-3 in vacuum is reported to be very low (0.03) in the Dupont datasheet. Normally lower friction is \"good\" in a bearing, however in our design, having some consistent friction is helpful, to guarantee stability of the position of the turntable stable when powered off. So we probably rather prefer having a consistent friction whether testing in lab air or operating in vacuum. In this respect, unfilled [Vespel SP-1](https://www.curbellplastics.com/Research-Solutions/DuPont-Vespel-SP-1) may be a simpler and better choice. However, the DuPont datasheet does not specifically list a vacuum friction coefficient, so this bears some further investigation.\n",
    "\n",
    "Graphite-filled polyimide grades would not be chosen, since the graphite lubricant can in fact become abrasive in a moisture-free environment.\n",
    "\n",
    "### Turntable bearings\n",
    "\n",
    "There are some bearings available with more integrated turntable functionality, for example including an external gear profile. An attractive option may be Kaydon T01-00325EAA:\n",
    "\n",
    "![Kaydon turntables - basic](figures/kaydon-turntable-bearings-basic.png)\n",
    "\n",
    "![Kaydon turntables - external gears](figures/kaydon-turntable-bearings-extgear.png)\n",
    "\n",
    "![Kaydon turntables - illustrations](figures/kaydon-turntable-illustrations.png)\n",
    "\n",
    "These turntables are not off-the-shelf parts. Cost and lead-time would be TBD. Performance is not particularly any better than the other options; the attraction here would be the compact packaging. The gearing would need some exterior protection from lunar dust."
   ]
  },
  {
   "cell_type": "markdown",
   "id": "53fd5eee-436c-49bb-8e80-f7cd0050f996",
   "metadata": {},
   "source": [
    "## References\n",
    "- [NASA General Environmental Verification Standards (GEVS)](https://standards.nasa.gov/sites/default/files/standards/GSFC/B/0/gsfc-std-7000b_signature_cycle_04_28_2021_fixed_links.pdf)\n",
    "- [Kaydon turntable bearings](https://www.kaydonbearings.com/RealiSlim_TT_bearings.htm)\n",
    "- [Kaydon sealed, slim bearings](https://www.kaydonbearings.com/RealiSlim_sealed_bearings.htm)"
   ]
  }
 ],
 "metadata": {
  "kernelspec": {
   "display_name": "NERSC Python",
   "language": "python",
   "name": "python3"
  },
  "language_info": {
   "codemirror_mode": {
    "name": "ipython",
    "version": 3
   },
   "file_extension": ".py",
   "mimetype": "text/x-python",
   "name": "python",
   "nbconvert_exporter": "python",
   "pygments_lexer": "ipython3",
   "version": "3.9.7"
  }
 },
 "nbformat": 4,
 "nbformat_minor": 5
}
