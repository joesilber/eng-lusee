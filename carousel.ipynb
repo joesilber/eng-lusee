{
 "cells": [
  {
   "cell_type": "markdown",
   "id": "33ee4b80-0e2a-484f-9785-889902ffa4ce",
   "metadata": {},
   "source": [
    "# Carousel mechanism design\n",
    "*LuSEE-Night*\\\n",
    "*Antenna Carousel*\\\n",
    "*Joe Silber, LBNL*\\\n",
    "*2022*\n",
    "\n",
    "Abstract: Assessment of carousel (a.k.a. \"turntable\") mechanism and torques for the LuSEE-Night lunar instrument. The radio antennas rotate on a platform. Key design parameters and options for the rotation mechanism are considered here."
   ]
  },
  {
   "cell_type": "markdown",
   "id": "479efe1d-c3ae-4089-aec5-140a1fcbc793",
   "metadata": {},
   "source": [
    "Except where otherwise specified, all units are in meters, kilograms, and seconds."
   ]
  },
  {
   "cell_type": "markdown",
   "id": "f5b4734a-91aa-4ee2-87b0-acd144ad5c93",
   "metadata": {},
   "source": [
    "## Payload\n",
    "Total mass budget for the carousel system is 10 kg. Some fraction of this mass (in particular the drive motor and transmission) will be static.\n",
    "\n",
    "For the purposes of this document, we subdivide the rotating payload into the following estimated masses, moments, and transmission ratios:"
   ]
  },
  {
   "cell_type": "code",
   "execution_count": 1,
   "id": "2c4ecec4-44e9-4240-b42f-0c9f9b60ba21",
   "metadata": {},
   "outputs": [
    {
     "ename": "SyntaxError",
     "evalue": "invalid syntax (3107269786.py, line 8)",
     "output_type": "error",
     "traceback": [
      "\u001b[0;36m  File \u001b[0;32m\"/tmp/ipykernel_32774/3107269786.py\"\u001b[0;36m, line \u001b[0;32m8\u001b[0m\n\u001b[0;31m    plate_inertia =\u001b[0m\n\u001b[0m                    ^\u001b[0m\n\u001b[0;31mSyntaxError\u001b[0m\u001b[0;31m:\u001b[0m invalid syntax\n"
     ]
    }
   ],
   "source": [
    "import math\n",
    "\n",
    "plate_outer_diameter = 0.400  # m\n",
    "plate_inner_diameter = 0.075  # m\n",
    "plate_thickness = 0.010  # m\n",
    "plate_density = 2700  # kg/m^3, i.e. aluminum\n",
    "plate_mass = plate_density * plate_thickness * math.pi/4 * (plate_outer_diameter**2 - plate_inner_diameter**2)\n",
    "plate_inertia = \n",
    "\n",
    "payloads = {'motor internal':\n",
    "                {'mass': 0.0,\n",
    "                 'inertia': 0.0,\n",
    "                 'count': 1,\n",
    "                 'ratio': 1.0,\n",
    "                },\n",
    "            \n",
    "            'motor external':\n",
    "                {'mass': 0.0,\n",
    "                 'inertia': 0.0,\n",
    "                 'count': 1,\n",
    "                 'ratio': 1.0,\n",
    "                },\n",
    "            \n",
    "            'main shaft bearing':\n",
    "                {'mass': 0.0,\n",
    "                 'inertia': 0.0,\n",
    "                 'count': 1,\n",
    "                 'ratio': 1.0,\n",
    "                },            \n",
    "            \n",
    "            'main shaft':\n",
    "                {'mass': 0.0,\n",
    "                 'inertia': 0.0,\n",
    "                 'count': 1,\n",
    "                 'ratio': 1.0,\n",
    "                },    \n",
    "            \n",
    "            'plate':\n",
    "                {'mass': plate_mass,\n",
    "                 'inertia': 0.0,\n",
    "                 'count': 1,\n",
    "                 'ratio': 1.0,\n",
    "                },\n",
    "            \n",
    "            'antenna (deployed)':\n",
    "                {'mass': 0.0,\n",
    "                 'inertia': 0.0,\n",
    "                 'count': 4,\n",
    "                 'ratio': 1.0,\n",
    "                },\n",
    "           }"
   ]
  },
  {
   "cell_type": "markdown",
   "id": "e0503c67-b02d-43aa-8f64-fc9413cfb953",
   "metadata": {
    "tags": []
   },
   "source": [
    "## Bearings\n",
    "\n",
    "### Bearing type and size\n",
    "The preliminary design (as of 2022-07-07) packaging acommodates a pair of Kaydon KA025AR0 bearings:\n",
    "\n",
    "![Kaydon KA0xxAR0](kaydon-KA0xxAR0-open-A-bearings.png)\n",
    "\n",
    "This is a thin section, angular contact, open bearing, with bore 2.5\\\" (63.5 mm), O.D. 3.0\\\" (76.2 mm), and thickness 0.25\\\" (6.35 mm). Mass is low, ~0.12 lbs = 55 g. We utilize the common design pattern of mounting in pairs, to provides tilt resistance.\n",
    "\n",
    "Stainless steel options (may have custom lead-times and will be more expensive) are available. Replace \"K\" with \"S\" in the part number.\n",
    "\n",
    "Kaydon also offers an attractive \"Type X\" four-point contact bearing. We have previously used such a bearing (at a much larger scale) in the Dark Energy Spectroscopic Instrument (DESI) ADC rotator mechanism. The type X controls 5 degrees of freedom in a single unit, rather than the typical angular contact duplex. This has the advantage of fewer parts and less weight, as well as removing the need to control thrust preload in the mounting between the two separate bearing units. A type X unit of similar package size as KA025AR0 would be KA025XP0:\n",
    "\n",
    "![Kaydon KA0xxXP0](kaydon-KA0xxXP0-open-X-bearings.png)\n",
    "\n",
    "Again, replace \"K\" with \"S\" for equivalent stainless option.\n",
    "\n",
    "### Integrated bearing seals\n",
    "\n",
    "Various seals are available, which we will utilize, to contain lubricant and exclude lunar dust.\n",
    "\n",
    "As of 2022-07-07, the precise seal material is to be determined (TBD).\n",
    "\n",
    "Kaydon's standard seal is nitrile rubber, which we note may need further investigation regarding cryogenic survival temperatures. I would feel most comfortable with polyimide, but need to speak with the vendor.\n",
    "\n",
    "Seals may be external (between housing and shaft, surrounding the bearing) or integrated in the bearing unit itself. For example, Kaydon offers some models with an integrated double-seal (see table below).\n",
    "\n",
    "![Kaydon JA0xxXP0](kaydon-JA0xxXP0-sealed-X-bearings.png)\n",
    "\n",
    "However, the Kaydon line-up does not have sealed bearings in angular contact configurations. \n",
    "\n",
    "For sealed bearings, replace \"J\" with \"W\" in the part number for the stainless option.\n",
    "\n",
    "### External bearing seals\n",
    "\n",
    "If the vendor lacks proven experience with integrated bearing seals in our temperature range (100 K - 400 K), then I prefer that we make our own external seals, from a material with which we have confidence. This way we can move directly to the next phases of testing and integration, as well as have flexibility and visibility as to what is happening.\n",
    "\n",
    "If we machine our own seals I would use [Vespel SP-3](https://www.curbellplastics.com/Research-Solutions/DuPont-Vespel-SP-3). This is a MoS<sub>2</sub>-filled polyimide with a long history of use in space applications, with low creep, high strength, and low coefficient of thermal expansion (for a polymer), and which should survive the temperature extremes. I would fix the seal to the housing and have thin, flexible flanges which bear against the shaft. These seals would be riding on the shaft on each side of the bearing.\n",
    "\n",
    "### Turntable bearings\n",
    "\n",
    "There are some bearings available with more integrated turntable functionality, for example including an external gear profile. An attractive option may be Kaydon T01-00325EAA:\n",
    "\n",
    "![Kaydon turntables - basic](kaydon-turntable-bearings-basic.png)\n",
    "\n",
    "![Kaydon turntables - external gears](kaydon-turntable-bearings-extgear.png)\n",
    "\n",
    "![Kaydon turntables - illustrations](kaydon-turntable-illustrations.png)\n",
    "\n",
    "These turntables are not off-the-shelf parts. Cost and lead-time would be TBD. Performance is not particularly any better than the other options; the attraction here would be the compact packaging. The gearing would need some exterior protection from lunar dust.\n",
    "\n",
    "### Bearings conclusion\n",
    "\n",
    "*(?) Below, for the purposes of preliminary overall system torque calculations, we will presume selection of a single Type-X, nitrile double-sealed, stainless steel Kaydon bearing, i.e. WA025XP0. (?)*"
   ]
  },
  {
   "cell_type": "code",
   "execution_count": null,
   "id": "4753d731-1d61-49e4-9749-73704ccaad1f",
   "metadata": {},
   "outputs": [],
   "source": [
    "# Bearing friction\n",
    "mu_bearing = 0."
   ]
  },
  {
   "cell_type": "markdown",
   "id": "53fd5eee-436c-49bb-8e80-f7cd0050f996",
   "metadata": {},
   "source": [
    "## References\n",
    "- [Kaydon turntable bearings](https://www.kaydonbearings.com/RealiSlim_TT_bearings.htm)\n",
    "- [Kaydon sealed, slim bearings](https://www.kaydonbearings.com/RealiSlim_sealed_bearings.htm)"
   ]
  },
  {
   "cell_type": "code",
   "execution_count": null,
   "id": "d8adf6b5-c463-4891-8f93-d2d4871d7ead",
   "metadata": {},
   "outputs": [],
   "source": []
  }
 ],
 "metadata": {
  "kernelspec": {
   "display_name": "NERSC Python",
   "language": "python",
   "name": "python3"
  },
  "language_info": {
   "codemirror_mode": {
    "name": "ipython",
    "version": 3
   },
   "file_extension": ".py",
   "mimetype": "text/x-python",
   "name": "python",
   "nbconvert_exporter": "python",
   "pygments_lexer": "ipython3",
   "version": "3.9.7"
  }
 },
 "nbformat": 4,
 "nbformat_minor": 5
}
