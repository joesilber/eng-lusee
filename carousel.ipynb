{
 "cells": [
  {
   "cell_type": "markdown",
   "id": "33ee4b80-0e2a-484f-9785-889902ffa4ce",
   "metadata": {},
   "source": [
    "# Carousel mechanism design\n",
    "Project: *LuSEE-Night* <br>\n",
    "System: *Antenna Carousel* <br>\n",
    "Author: *Joe Silber* <br>\n",
    "Institution: *Lawrence Berkeley National Lab (LBNL)* <br>\n",
    "Date: *September 2022* <br>\n",
    "\n",
    "Abstract: Assessment of carousel (a.k.a. \"turntable\") mechanism and torques for the LuSEE-Night lunar instrument. The radio antennas rotate on a platform. Key design parameters and options for the rotation mechanism are considered here."
   ]
  },
  {
   "cell_type": "markdown",
   "id": "c91bd0ca-2e8a-4621-9755-1838f9b38de8",
   "metadata": {},
   "source": [
    "## Preliminaries"
   ]
  },
  {
   "cell_type": "markdown",
   "id": "3f92e231-3b44-41fe-ab55-9c0f63e953d8",
   "metadata": {},
   "source": [
    "### Units and coordinate systems\n",
    "Except where otherwise specified...\n",
    "- all units are in meters, kilograms, newtons, and seconds\n",
    "- all inertias and positions are with respect to a global coordinate system, with Z axis concentric to rotation axis"
   ]
  },
  {
   "cell_type": "markdown",
   "id": "105ca16c-196e-46d0-8df7-49fe6a409f13",
   "metadata": {},
   "source": [
    "### Python initializations and units"
   ]
  },
  {
   "cell_type": "code",
   "execution_count": 1,
   "id": "4ef2b04e-c8ed-4299-928c-924ea73206c1",
   "metadata": {
    "tags": []
   },
   "outputs": [],
   "source": [
    "import math\n",
    "import numpy as np\n",
    "deg = '\\u00b0'\n",
    "tab = f'{\" \":4}'\n",
    "horiz_rule = ''.join(['-']*10)\n",
    "Nm_per_ozin = 1 / 141.61193227806\n",
    "Nm_per_inlb = Nm_per_ozin * 16\n",
    "m_per_in = 0.0254 \n",
    "radpersec_per_rpm = 2 * math.pi / 60  # i.e. rad/sec per rev/min\n",
    "K_to_other = {'K': lambda T: T,\n",
    "              'C': lambda T: T - 273.15,\n",
    "              'F': lambda T: (T - 273.15)*9/5 + 32.0,\n",
    "             }\n",
    "N_per_lbf = 4.448\n",
    "ksi_per_Pa = 1.450377377E-7\n",
    "G_earth = 9.81  # m/s^2\n",
    "G_moon = 0.166 * G_earth"
   ]
  },
  {
   "cell_type": "markdown",
   "id": "ed878f27-642f-46a3-a1c7-6e91c121004f",
   "metadata": {},
   "source": [
    "### Basic system properties"
   ]
  },
  {
   "cell_type": "code",
   "execution_count": 2,
   "id": "5e4e1b0c-4332-4bfd-96e6-e9a126f9d4dd",
   "metadata": {},
   "outputs": [
    {
     "name": "stdout",
     "output_type": "stream",
     "text": [
      "Total rotation range = 3.316 rad = 190.0 deg\n"
     ]
    }
   ],
   "source": [
    "n_ant = 4  # number of antennas\n",
    "operating_range_deg = 180  # degrees, within which the turntable needs to be able to position\n",
    "rotation_range_margin_deg = 5  # degrees, extra mechanical positioning range for antibacklash moves, etc\n",
    "rotation_range_margin = math.radians(rotation_range_margin_deg)\n",
    "rotation_range = [math.radians(operating_range_deg)/2 + rotation_range_margin,\n",
    "                 -math.radians(operating_range_deg)/2 - rotation_range_margin]  # radians\n",
    "total_rotation_range = max(rotation_range) - min(rotation_range)\n",
    "print(f'Total rotation range = {total_rotation_range:.3f} rad = {math.degrees(total_rotation_range):.1f} deg')"
   ]
  },
  {
   "cell_type": "markdown",
   "id": "f1036926-a15a-40b9-b4f7-587d009c6890",
   "metadata": {},
   "source": [
    "## Key mechanical design criteria\n",
    "The design criteria below will be used in sizing components and ensuring sufficient mechanical factors of safey. These criteria are informed by key recommendations in NASA's [General Environmental Verification Standards (GEVS)](https://standards.nasa.gov/sites/default/files/standards/GSFC/B/0/gsfc-std-7000b_signature_cycle_04_28_2021_fixed_links.pdf) (accessed 2022-07-09)."
   ]
  },
  {
   "cell_type": "markdown",
   "id": "f38d541f-7056-4aab-b081-943a439c0680",
   "metadata": {},
   "source": [
    "### Structural load limit\n",
    "The limit loads for the carousel mechanism are derived from GEVS Table 2.4-3,\n",
    "*Generalized Random Vibration Test Levels*. For components weighing less than 22.7 kg, an overall qualification level (in $G_{rms}$) is directly specified. We then apply a proof factor per section 2.4.1.4.1, a peak acceleration factor, and a design factor to get the design limit. The design factor accommodates uncertainty in material properties and tolerances in the proof test method. These limits are applied for nominal accelerations in 3 orthogonal axes."
   ]
  },
  {
   "cell_type": "code",
   "execution_count": 3,
   "id": "fabf9d61-61cf-4227-93c4-c70d8dd197bb",
   "metadata": {},
   "outputs": [
    {
     "name": "stdout",
     "output_type": "stream",
     "text": [
      "Design mean load level = 21.1 G(rms)\n",
      "Design peak load level = 105.8 G\n"
     ]
    }
   ],
   "source": [
    "Grms_qual = 14.1  # per GEVs Table 2.4-3\n",
    "proof_factor = 1.25  # per GEVs section 2.4.1.4.1\n",
    "design_factor = 1.2  # covers uncertainties in matl props and test methods\n",
    "peak_accel_factor = 5.0  # meant to represent ~ 5-sigma events\n",
    "Grms_design = Grms_qual * proof_factor * design_factor\n",
    "Gpeak_design = Grms_design * peak_accel_factor\n",
    "print(f'Design mean load level = {Grms_design:.1f} G(rms)')\n",
    "print(f'Design peak load level = {Gpeak_design:.1f} G')"
   ]
  },
  {
   "cell_type": "markdown",
   "id": "7b08cf0a-e6be-4690-bca9-2b6ac819638d",
   "metadata": {
    "tags": []
   },
   "source": [
    "### Torque margin\n",
    "Torque margin ($TM$) for the carousel turntable is assessed per GEVS section 2.4.5.3. Two safety factors, $FS_k$ and $FS_v$ are applied to the \"known\" and \"variable\" torques in the system. GEVS states:\n",
    "\n",
    "> The minimum available driving torque for the mechanism shall be determined based on the FS listed above. The Torque Margin (TM) shall be greater than zero and shall be calculated using the following formula:\n",
    "\n",
    "$$TM = \\frac{T_{avail}}{FS_k \\sum T_{known} + FS_v \\sum T_{variable}} - 1$$\n",
    "\n",
    "In the present study, the available driving torque $T_{avail}$ is considered at output of the the gearmotor (which is the component whose performance requirements we are aiming to specify). The torques are defined in GEVS as:\n",
    "\n",
    "> **Driving Torques**\n",
    ">\n",
    "> $T_{avail}$ = Minimum Available Torque or Force generated by the mechanism at worst case environmental conditions at any time in its life. If motors are used in the system, $T_{avail}$ shall be determined at the output of the motor, not including gear heads or gear trains at its output based on minimum supplied motor voltage. $T_{avail}$ similarly applies to other actuators such as springs, pyrotechnics, solenoids, heat actuated devices, etc.\n",
    "> \n",
    "> **Resistive Torques**\n",
    ">\n",
    "> $\\sum T_{known}$ = Sum of the fixed torques or forces that are known and quantifiable such as\n",
    "accelerated inertias ($T = I \\alpha$) and not influenced by friction, temperature, life, etc. A constant Safety Factor is applied to the calculated torque.\n",
    ">\n",
    "> $\\sum T_{variable}$ = Sum of the torques or forces that may vary over environmental conditions and life such as static or dynamic friction, alignment effects, latching forces, wire harness\n",
    "loads, damper drag, variations in lubricant effectiveness, including degradation or depletion of lubricant over life, etc.\n",
    "\n",
    "Here we use the highest (PDR phase) torque safety factor values from GEVS:"
   ]
  },
  {
   "cell_type": "code",
   "execution_count": 4,
   "id": "9671e8f4-04a1-4675-a3d1-624596da3af6",
   "metadata": {
    "tags": []
   },
   "outputs": [],
   "source": [
    "FSk = 2.0  # 2.0 at preliminary design review phase\n",
    "           # drops to 1.5 at critical design review\n",
    "           # remains 1.5 at acceptance / qualification testing\n",
    "\n",
    "FSv = 4.0  # 4.0 at preliminary design review phase\n",
    "           # drops to 3.0 at critical design review\n",
    "           # drops to 2.0 at acceptance / qualification testing"
   ]
  },
  {
   "cell_type": "markdown",
   "id": "96b799cc-cd5e-40f2-b158-2a027ba1ceb3",
   "metadata": {
    "tags": []
   },
   "source": [
    "### Thermal criteria\n",
    "The carousel system must survive the lunar day/night cycle. It must operate at intermediate temperatures around dusk/dawn.\n",
    "\n",
    "The plots below, showing lunar temperature as a function of hour and latitude, were retrieved July 2022 from an article (exact reference?) found through citations [here](https://quickmap.lroc.asu.edu/layers):\n",
    "\n",
    "![Lunar temperatures as function of hour and latitude](figures/lunar-temperatures.png)\n",
    "\n",
    "We anticipate LuSEE-Night will land at one of two sites:\n",
    "\n",
    "1. $155^o$ E and $15^o$ S\n",
    "2. $175^o$ E and $22^o$ S\n",
    "\n",
    "These indicate that the lander will experience temperature extrema of:"
   ]
  },
  {
   "cell_type": "code",
   "execution_count": 5,
   "id": "dfae3df6-d1f2-4ee1-9356-954ee91a9016",
   "metadata": {},
   "outputs": [],
   "source": [
    "temp_ranges = {'extrema': [90, 390]}  # Kelvin"
   ]
  },
  {
   "cell_type": "markdown",
   "id": "e26529fe-2756-4f13-b6a0-b869198b1714",
   "metadata": {},
   "source": [
    "#### Survival temperature range\n",
    "For design and testing purposes, the survival temperature range is obtained by increasing the expected lunar range by a margin on either end."
   ]
  },
  {
   "cell_type": "code",
   "execution_count": 6,
   "id": "54e02cca-c26d-4459-a4fe-10358f35399e",
   "metadata": {},
   "outputs": [],
   "source": [
    "temp_margin = 10.0  # deg C\n",
    "temp_ranges['survival'] = [min(temp_ranges['extrema']) - temp_margin,\n",
    "                           max(temp_ranges['extrema']) + temp_margin]\n",
    "max_temp_survival = max(temp_ranges['survival'])  # for less verbose usage below\n",
    "min_temp_survival = min(temp_ranges['survival'])  # for less verbose usage below"
   ]
  },
  {
   "cell_type": "markdown",
   "id": "2a65e953-7138-4402-98d9-59f0ed421a51",
   "metadata": {},
   "source": [
    "#### Operating temperature range\n",
    "The operating temperature for carousel rotation will be less extreme. We want a range which is moderate enough to includes practical motors, transmissions, and bearings, yet wide enough to allow a significant period in the dusk/dawn time window where ground-based operators can effectively send commands, monitor the response, and make any adjustments if necessary. A good operating temperature range also offers practical conditions for testing in the lab.\n",
    "\n",
    "***? Under the assumption of a perfluoropolyether (PFPE) based lubricant in the gears and bearings ... ?***\n",
    "\n",
    "***? For what temperature range do we have equipment on hand to practically test operation of the motors, bearings, transmissions---the full turntable assembly---in vacuum ?***\n",
    "\n",
    "Considering these factors, we propose an operating temperature range of 243 K - 323 K, which should provide generous time windows ($\\sim$ 1 lunar hour $\\approx$ 30 earth hours each), at lunar dawn and dusk."
   ]
  },
  {
   "cell_type": "code",
   "execution_count": 7,
   "id": "a79837a9-3df0-49b0-81f5-59c59625ee4a",
   "metadata": {},
   "outputs": [],
   "source": [
    "temp_ranges['operating'] = [243, 323]"
   ]
  },
  {
   "cell_type": "markdown",
   "id": "18afd667-26d2-4af5-830b-4fe477700f4e",
   "metadata": {
    "tags": []
   },
   "source": [
    "#### Temperature ranges summary"
   ]
  },
  {
   "cell_type": "code",
   "execution_count": 8,
   "id": "c564fe7b-6822-4bae-a197-813ff2b9b468",
   "metadata": {
    "tags": []
   },
   "outputs": [
    {
     "name": "stdout",
     "output_type": "stream",
     "text": [
      "Temperature range =  +90 to +390 °K (extrema)\n",
      "Temperature range = -183 to +117 °C (extrema)\n",
      "Temperature range = -298 to +242 °F (extrema)\n",
      "\n",
      "Temperature range =  +80 to +400 °K (survival)\n",
      "Temperature range = -193 to +127 °C (survival)\n",
      "Temperature range = -316 to +260 °F (survival)\n",
      "\n",
      "Temperature range = +243 to +323 °K (operating)\n",
      "Temperature range =  -30 to  +50 °C (operating)\n",
      "Temperature range =  -22 to +122 °F (operating)\n",
      "\n"
     ]
    }
   ],
   "source": [
    "for name, temp_range in temp_ranges.items():\n",
    "    for unit, func in K_to_other.items():\n",
    "        converted = [func(T) for T in temp_range]\n",
    "        print(f'Temperature range = {min(converted):+4.0f} to {max(converted):+4.0f} {deg}{unit} ({name})')\n",
    "    print('')"
   ]
  },
  {
   "cell_type": "markdown",
   "id": "afe38c40-8acf-48c2-89bd-15023660f55c",
   "metadata": {},
   "source": [
    "### General material properties"
   ]
  },
  {
   "cell_type": "code",
   "execution_count": 9,
   "id": "cf93fd0a-d327-49d7-92d7-328f7b87b564",
   "metadata": {},
   "outputs": [
    {
     "name": "stdout",
     "output_type": "stream",
     "text": [
      "Yield strength for aluminum interpolated at temperature  80 K --> 323.1 MPa = 46.9 ksi\n",
      "Yield strength for aluminum interpolated at temperature 400 K --> 235.6 MPa = 34.2 ksi\n"
     ]
    }
   ],
   "source": [
    "rho_Ti = 4430  # titanium density\n",
    "rho_Al = 2700  # aluminum density\n",
    "rho_BeCu = 8300  # beryllium copper density\n",
    "rho_Cu = 8900  # copper density\n",
    "rho_SS = 7800  # stainless steel density - note *martensitic* 440C stainless is used here, which is the hard material in stainless bearings from Kaydon (not austenitic)\n",
    "rho_plastic = 1300  # generic plastic density\n",
    "E_Cu = 117e9 # copper modulus of elasticity\n",
    "E_plastic = 2.5e9 # generic plastic modulus of elasticity\n",
    "E_BeCu = 130e9  # beryllium copper modulus of elasticity\n",
    "E_Al = 70e9  # aluminum modulus of elasticity\n",
    "E_SS = 215e9  # 440C stainless modulus of elasticity\n",
    "E_Ti = 113.8e9  # Ti grade 5 stainless modulus of elasticity\n",
    "nu_SS = 0.28  # 440C stainless poisson ratio\n",
    "nu_Al = 0.33   # aluminum poisson ratio\n",
    "nu_BeCu = 0.3  # beryllium copper poisson ratio\n",
    "nu_PI = 0.41  # polyimide (Vespel SP1) poisson ratio\n",
    "nu_Ti = 0.342  # # Ti grade 5 poisson ratio\n",
    "CTE_Al = 23.6e-6  # aluminum coeff of thermal expansion per K\n",
    "CTE_SS = 10.2e-6  # 440C stainless coeff of thermal expansion per K\n",
    "CTE_PI = 50e-6  # approx CTE of polyimide per K\n",
    "CTE_Ti = 8.6e-6  # approx CTE of grade 5 titanium per K\n",
    "Sy_SS = 1660e6  # 440C yield strength, see comments below\n",
    "Sy_Al_vs_temp = np.transpose([[-196, 324], [-80, 290], [-28, 283], [24, 276], [100, 262], [149, 214], [204, 103]])  # aluminum yield strength vs temperature, units (degC, MPa), see comments below\n",
    "Sy_Al = lambda T: np.interp(T, Sy_Al_vs_temp[0]+273, Sy_Al_vs_temp[1]*1e6)  # interpolation function for yield strength (Pa) vs temperature (K)\n",
    "Sy_Ti_Gr9annealed = 517e6  # grade 9 annealed titanium yield stress\n",
    "for T in [min_temp_survival, max_temp_survival]:\n",
    "    print(f'Yield strength for aluminum interpolated at temperature {T:3.0f} K --> {Sy_Al(T)/1e6:.1f} MPa = {Sy_Al(T)*ksi_per_Pa:.1f} ksi')"
   ]
  },
  {
   "cell_type": "markdown",
   "id": "7d8225fc-c1a5-44c7-8449-66c852dd4401",
   "metadata": {},
   "source": [
    "### Strength comments\n",
    "Aluminum alloy and temper is assumed to be 6061-T651, for which yield strength varies from 324 MPa @ -196°C to 214 MPa @ +149°C.\n",
    "\n",
    "Annealed yield strength of 440C martensitic stainless steel is [448 MPa](https://www.pennstainless.com/resources/product-information/stainless-grades/400-series/440c-stainless-steel), but certainly it will have been hardened for use in bearings. Hardening will be something more on the order of 1660-1900 MPa, depending on the tempering temperature (1900 MPa @ 204°C to 1660 MPa @ 371°C). Here we assume the low end of the tempered yield strength will be the minimum.\n",
    "\n",
    "It is well known that the toughness of martensitic alloys is much reduced at cryogenic temperatures (below the martensitic transition point). However in our use case of a bearing, there will be no loads other than the thermal contraction of the turntable plate toward the bearing (assuming an aluminum plate), which will apply uniform compression to the bearing, opposing rather than promoting any potential for crack growth."
   ]
  },
  {
   "cell_type": "markdown",
   "id": "970b330d-778d-4db2-994e-65f2c9572f6d",
   "metadata": {},
   "source": [
    "### Carbon fiber properties"
   ]
  },
  {
   "cell_type": "code",
   "execution_count": 10,
   "id": "cff310ba-aee8-4342-b9f7-b1e1ad0b55ee",
   "metadata": {
    "tags": []
   },
   "outputs": [
    {
     "name": "stdout",
     "output_type": "stream",
     "text": [
      "Estimated carbon fiber reinforced plastic (CFRP) density = 1695.4 kg/m^3, volume fraction = 53.1%\n"
     ]
    }
   ],
   "source": [
    "rho_f = 2170  # carbon fiber density, e.g. CN-80\n",
    "rho_m = 1170  # resin matrix density, e.g. EX-1515\n",
    "Mm = 0.32  # matrix mass fraction, i.e. prepreg resin content from vendor\n",
    "Vv = 0.005  # as-cured void fraction\n",
    "Vf = (1 - Vv) / (1 + rho_f / rho_m * Mm / (1 - Mm))  # fiber volume fraction, assuming no bleed (conservative)\n",
    "cfrp_density = rho_f * Vf + rho_m * (1 - Vf - Vv)\n",
    "print(f'Estimated carbon fiber reinforced plastic (CFRP) density = {cfrp_density:.1f} kg/m^3, volume fraction = {Vf*100:.1f}%')"
   ]
  },
  {
   "cell_type": "markdown",
   "id": "b1eb88dc-02a0-4f98-b53a-224653cd87d5",
   "metadata": {},
   "source": [
    "## Loads\n",
    "Total mass budget for the carousel system is:"
   ]
  },
  {
   "cell_type": "code",
   "execution_count": 11,
   "id": "99a6d49f-b47f-4520-9b6a-266ba26e728b",
   "metadata": {},
   "outputs": [],
   "source": [
    "mass_budget_total = 7.8  # kg"
   ]
  },
  {
   "cell_type": "markdown",
   "id": "5f03ff38-1e21-483a-964b-b67feaf41439",
   "metadata": {},
   "source": [
    "Some fraction of this mass (in particular the drive motor and transmission) will be static.\n",
    "\n",
    "For the purposes of this document, we subdivide the rotating payload into the following estimated masses, moments, and transmission ratios."
   ]
  },
  {
   "cell_type": "markdown",
   "id": "d4bcf83b-c218-4c8a-837e-a1eb13a9d87c",
   "metadata": {},
   "source": [
    "### Turntable plate\n",
    "Three common engineering materials are being considered for the turntable platter: aluminum, titanium, or carbon fiber reinforced plastic (CFRP)."
   ]
  },
  {
   "cell_type": "code",
   "execution_count": 12,
   "id": "f3c2ff67-215a-427a-b2ad-a88546621515",
   "metadata": {},
   "outputs": [],
   "source": [
    "plate_od = 0.400  # outer diameter\n",
    "plate_id = 0.079  # inner diameter\n",
    "plate_t = 0.010  # thickness\n",
    "plate_z = 0.016  # position along bearing axis of plate c.g.\n",
    "plate_r2, plate_r1 = plate_od/2, plate_id/2  # radii\n",
    "plate_area = math.pi * (plate_r2**2 - plate_r1**2)\n",
    "uniform_plate_inertia_over_mass = 0.5 * (plate_r1**2 + plate_r2**2)"
   ]
  },
  {
   "cell_type": "markdown",
   "id": "e8f06ffe-0e2a-4e7c-81be-8388163d7043",
   "metadata": {},
   "source": [
    "Bending stiffness is achieved either through a honeycomb core or ribs (of which a nominal design might look like that illustrated here:\n",
    "![Nominal ribs for a turntable](figures/nominal-turntable-ribs.png)"
   ]
  },
  {
   "cell_type": "code",
   "execution_count": 13,
   "id": "97c45d87-bc6b-472d-908b-5fa5895323dc",
   "metadata": {},
   "outputs": [],
   "source": [
    "core_vf = 0.15 # honeycomb core volume fraction, typically about 8-32% depending on design\n",
    "ribs_af = 0.20 # approx area fraction of some nominal ribs stiffening design for turntable plate"
   ]
  },
  {
   "cell_type": "markdown",
   "id": "89b467e0-a712-414f-9644-7b99e1266572",
   "metadata": {},
   "source": [
    "#### CFRP sandwich construction\n",
    "CFRP would have a higher stiffness per unit mass than the metals, as well as some natural structural damping. We would likely use an intermediate modulus fiber in a quasi-isotropic, balanced, symmetric layup. Matrix would be 350$^o$F (450 K) cured resin such as Toray RS-3C, commonly used in spacecraft. The design would need to be sufficiently low-strain such that the total temperature change from processing (450 K) down to lunar night (100 K) does not exceed fiber strain limits. A honeycomb sandwich construction would be most mass-efficient, with titanium or aluminum inserts at bolted connections. Thermal expansion effects would be low, several parts per million (ppm) per degree K. Low out-of-plane thermal conductivity would be of some benefit in reducing the heat transfer rate from the turntable to the rest of the spacecraft below it. The main detractions of CFRP are the higher design and fabrication costs."
   ]
  },
  {
   "cell_type": "code",
   "execution_count": 14,
   "id": "8f5596ef-bc86-4a03-be07-877458fc0570",
   "metadata": {},
   "outputs": [],
   "source": [
    "plate_sandwich_skin_t = 0.0016\n",
    "plate_sandwich_core_t = plate_t - 2 * plate_sandwich_skin_t\n",
    "plate_sandwich_skin_rho = cfrp_density\n",
    "plate_sandwich_core_rho = rho_Al * core_vf\n",
    "plate_sandwich_mass = (2*plate_sandwich_skin_rho*plate_sandwich_skin_t + plate_sandwich_core_rho*plate_sandwich_core_t) * plate_area\n",
    "plate_masses = {'CFRP sandwich': plate_sandwich_mass}"
   ]
  },
  {
   "cell_type": "markdown",
   "id": "6489de58-6fec-4089-a1bf-93c6381178ce",
   "metadata": {},
   "source": [
    "#### Metal ribbed plate construction\n",
    "Material would be either titanium or aluminum.\n",
    "\n",
    "A machined aluminum plate would be the least expensive to fabricate. Detractions are the higher CTE ($\\sim$12-25 ppm/K over the 100K-400K temperature range) and reduced stress allowables at sustained high temperature (7075-T651 aluminum, for example, may have yield strength reduction from $\\sim$ 500 MPa at room temperature to $\\sim$ 180 MPa when sustained at 150$^o$C (423 K). The high thermal conductivity of aluminum allows faster heat transfer toward the spacecraft. All these detractions can likely be mitigated with use of appropriate design allowables and thermal breaks.\n",
    "\n",
    "It is noted that the higher temperatures would only be experienced by the plate at the moon, where gravity loads are 1/6.\n",
    "\n",
    "Grade 5 titanium would be a robust solution. Material cost would be comparable to CFRP, though fabrication complexity would be simpler. CTE is relatively low and stable ($\\sim$5-9 ppm/K over range 100K-400K), strength is high, and the very low thermal conductivity ($\\sim$5-8 W/m*K) would provide some natural insulation of the rest of the spacecraft from the exposed turntable's temperature. For cost and ease of manufacturing we would probably not machine the plate out of thick titanium, but rather screw together a thinner face sheet with stiffening ribs."
   ]
  },
  {
   "cell_type": "code",
   "execution_count": 15,
   "id": "b2cedf0b-3084-46a0-a8ef-eb62b4a028ac",
   "metadata": {
    "tags": []
   },
   "outputs": [],
   "source": [
    "plate_rhos = {'aluminum': rho_Al,\n",
    "              'titanium': rho_Ti,\n",
    "             }  # density\n",
    "plate_face_t = 0.0015  # face plate thickness\n",
    "plate_ribs_t = plate_t - plate_face_t\n",
    "plate_volume = (plate_face_t + plate_ribs_t * ribs_af) * plate_area\n",
    "for name, rho in plate_rhos.items():\n",
    "    plate_masses[name] = rho * plate_volume"
   ]
  },
  {
   "cell_type": "markdown",
   "id": "254eba80-88a1-4aba-9356-31a4cf19944d",
   "metadata": {
    "tags": []
   },
   "source": [
    "#### Plate construction options summary"
   ]
  },
  {
   "cell_type": "code",
   "execution_count": 16,
   "id": "ebe6cd02-ba98-46eb-a8e6-ec6967b87d1f",
   "metadata": {},
   "outputs": [
    {
     "name": "stdout",
     "output_type": "stream",
     "text": [
      "Turntable mass = 0.988 kg, inertia = 0.0205 kg/m^2 (CFRP sandwich)\n",
      "Turntable mass = 1.043 kg, inertia = 0.0217 kg/m^2 (aluminum)\n",
      "Turntable mass = 1.712 kg, inertia = 0.0356 kg/m^2 (titanium)\n"
     ]
    }
   ],
   "source": [
    "plate_inertias = {}\n",
    "for name, mass in plate_masses.items():\n",
    "    plate_inertias[name] = mass * uniform_plate_inertia_over_mass  # note this uniform assumption is good for a typical evenly-spaced rib pattern\n",
    "    print(f'Turntable mass = {plate_masses[name]:.3f} kg, inertia = {plate_inertias[name]:.4f} kg/m^2 ({name})')"
   ]
  },
  {
   "cell_type": "code",
   "execution_count": 17,
   "id": "cbf16b46-ab03-4517-9fc0-a41fc07b691c",
   "metadata": {},
   "outputs": [
    {
     "name": "stdout",
     "output_type": "stream",
     "text": [
      "Selected the aluminum option for this study.\n"
     ]
    }
   ],
   "source": [
    "# Select material for this study.\n",
    "plate_material = 'aluminum'\n",
    "plate_mass = plate_masses[plate_material]\n",
    "plate_inertia = plate_inertias[plate_material]\n",
    "print(f'Selected the {plate_material} option for this study.')"
   ]
  },
  {
   "cell_type": "markdown",
   "id": "f345db6c-62ff-40cc-9c74-32008e3f9167",
   "metadata": {},
   "source": [
    "### Antennas\n",
    "The four antennas will be stacer tubes, equally spaced around the turntable. Deployed length is 3 m for all antennas. Deployment angle is slightly above horizontal, counteracting gravity sag. Here this slight bend is neglected, and treated as purely horizontal."
   ]
  },
  {
   "cell_type": "code",
   "execution_count": 18,
   "id": "987871c6-f468-4487-b128-fa599abab595",
   "metadata": {},
   "outputs": [
    {
     "name": "stdout",
     "output_type": "stream",
     "text": [
      "Antenna boom mass = 0.088 kg each\n"
     ]
    }
   ],
   "source": [
    "boom_deployed_wall_in = 0.005  # inches, antenna approx wall thickness when deployed\n",
    "boom_deployed_diam_in = 0.35  # inches, antenna approx diameter when deployed\n",
    "boom_wall, boom_diam, boom_area, boom_length, boom_inertia = {}, {}, {}, {}, {}\n",
    "boom_wall['deployed'] = boom_deployed_wall_in * m_per_in\n",
    "boom_diam['deployed'] = boom_deployed_diam_in * m_per_in\n",
    "boom_area['deployed'] = math.pi * boom_diam['deployed'] * boom_wall['deployed']\n",
    "boom_length['deployed'] = 3.0\n",
    "boom_volume = boom_length['deployed'] * boom_area['deployed']\n",
    "boom_rho = rho_BeCu  # select material for antenna\n",
    "boom_mass = boom_volume * boom_rho\n",
    "print(f'Antenna boom mass = {boom_mass:.3f} kg each')"
   ]
  },
  {
   "cell_type": "code",
   "execution_count": 19,
   "id": "cd526453-0c30-4d44-a58b-64632da819b2",
   "metadata": {},
   "outputs": [],
   "source": [
    "boom_length['stowed'] = 0.105  # assumption based on July 2022 CAD model\n",
    "boom_area['stowed'] = boom_volume / boom_length['stowed']\n",
    "boom_diam['stowed'] = boom_diam['deployed']  # approx guess\n",
    "boom_wall['stowed'] = boom_area['stowed'] / (math.pi * boom_diam['stowed'])\n",
    "boom_z = 0.077  # approx position along bearing axis of boom c.g."
   ]
  },
  {
   "cell_type": "markdown",
   "id": "2f89c029-cef7-4825-8693-56c039b2e066",
   "metadata": {},
   "source": [
    "Each antenna also has a tip piece. The mass and size are estimated here from the July 2022 CAD model."
   ]
  },
  {
   "cell_type": "code",
   "execution_count": 20,
   "id": "fc915d40-13f6-45f4-8af4-b9fb5f4c7911",
   "metadata": {},
   "outputs": [
    {
     "name": "stdout",
     "output_type": "stream",
     "text": [
      "Antenna mass (boom + tip) = 0.117 kg each\n"
     ]
    }
   ],
   "source": [
    "ant_tip_mass = 0.029\n",
    "ant_tip_length = 0.156\n",
    "ant_tip_diam = boom_diam['deployed'] - boom_wall['deployed']\n",
    "ant_tip_inertia_about_cg = ant_tip_mass/48 * (3*ant_tip_diam**2 + 4*ant_tip_length**2)\n",
    "ant_tip_z = boom_z  # approx position along bearing axis of antenna tip c.g. (deflected)\n",
    "print(f'Antenna mass (boom + tip) = {boom_mass + ant_tip_mass:.3f} kg each')"
   ]
  },
  {
   "cell_type": "code",
   "execution_count": 21,
   "id": "3a0c9440-79cd-4a36-a0a9-1f57b2f7ada1",
   "metadata": {},
   "outputs": [
    {
     "name": "stdout",
     "output_type": "stream",
     "text": [
      "Antenna inertia (boom + tip) = 0.5550 kg/m^2 each (deployed)\n",
      "Antenna inertia (boom + tip) = 0.0025 kg/m^2 each (stowed)\n"
     ]
    }
   ],
   "source": [
    "boom_root_radial_position = plate_od/2 - boom_length['stowed'] # where the antenna base end is, radially on the turntable\n",
    "ant_inertia = {}\n",
    "for k in ('deployed', 'stowed'):\n",
    "    boom_OD = boom_diam[k] + boom_wall[k] / 2\n",
    "    boom_ID = boom_diam[k] - boom_wall[k] / 2\n",
    "    boom_inertia_about_cg = boom_mass/48 * (3*boom_OD**2 + 3*boom_ID**2 + 4*boom_length[k]**2)\n",
    "    boom_offset = boom_root_radial_position + boom_length[k] / 2\n",
    "    ant_tip_offset = boom_root_radial_position + boom_length[k] - ant_tip_length/2\n",
    "    boom_inertia = boom_inertia_about_cg + boom_mass * boom_offset**2\n",
    "    ant_tip_inertia = ant_tip_inertia_about_cg + ant_tip_mass * ant_tip_offset**2\n",
    "    ant_inertia[k] = boom_inertia + ant_tip_inertia\n",
    "    print(f'Antenna inertia (boom + tip) = {ant_inertia[k]:.4f} kg/m^2 each ({k})')"
   ]
  },
  {
   "cell_type": "markdown",
   "id": "b1b50a76-b427-473b-a042-a8d89451948e",
   "metadata": {},
   "source": [
    "### Antenna deployers\n",
    "As of July 2022, the deployers and attached hardware (including pre-amp?) are assumed to be $\\sim$ 0.75 kg per antenna. This value will change somewhat as the design is refined.\n",
    "\n",
    "For the purposes of this calculation, the deployer geometry is treated as a cuboid with side lengths estimated based on the stowed antenna length."
   ]
  },
  {
   "cell_type": "code",
   "execution_count": 22,
   "id": "c86c8042-5e7b-4662-9c39-e1ce175a0e9a",
   "metadata": {},
   "outputs": [
    {
     "name": "stdout",
     "output_type": "stream",
     "text": [
      "Deployer mass = 0.750 kg (each)\n",
      "Deployer inertia = 0.03689 kg/m^2 (each)\n"
     ]
    }
   ],
   "source": [
    "deployer_mass = 0.75\n",
    "deployer_z = 0.070  # position along bearing axis of deployer c.g.\n",
    "deployer_length = boom_length['stowed'] * 3\n",
    "deployer_width = boom_length['stowed']\n",
    "deployer_radial_position = plate_od / 2\n",
    "deployer_inertia_about_cg = deployer_mass / 12 * (deployer_width**2 + deployer_length**2)\n",
    "deployer_inertia = deployer_inertia_about_cg + deployer_mass * deployer_radial_position**2\n",
    "print(f'Deployer mass = {deployer_mass:.3f} kg (each)')\n",
    "print(f'Deployer inertia = {deployer_inertia:.4} kg/m^2 (each)')"
   ]
  },
  {
   "cell_type": "markdown",
   "id": "0c9dc4d1-c470-4965-8f7f-9ff073e41149",
   "metadata": {},
   "source": [
    "### Central bearing\n",
    "The central bearing and its associated clamping hardware are approximated as a solid tube of metal."
   ]
  },
  {
   "cell_type": "code",
   "execution_count": 23,
   "id": "a2595259-1416-4ffe-b978-af53dbdfef39",
   "metadata": {},
   "outputs": [
    {
     "name": "stdout",
     "output_type": "stream",
     "text": [
      "Central bearing mass = 0.392 kg\n",
      "Central bearing inertia = 0.0006371 kg/m^2\n"
     ]
    }
   ],
   "source": [
    "central_od = 0.090  # outer diameter\n",
    "central_id = 0.070  # inner diameter\n",
    "central_length = 0.020  # length\n",
    "central_r1, central_r2 = central_id/2, central_od/2  # radii\n",
    "central_rho = rho_SS\n",
    "central_mass = central_rho * central_length * math.pi * (central_r2**2 - central_r1**2)\n",
    "central_inertia = 0.5 * central_mass * (central_r1**2 + central_r2**2)\n",
    "print(f'Central bearing mass = {central_mass:.3f} kg')\n",
    "print(f'Central bearing inertia = {central_inertia:.4} kg/m^2')"
   ]
  },
  {
   "cell_type": "markdown",
   "id": "62c718c7-c223-456c-ae88-44e427ce4877",
   "metadata": {},
   "source": [
    "### Transmission\n",
    "The motor will be mounted off-axis to the central bearing, connected via a titanium drive shaft, axially flexible coupling, and a universal joint."
   ]
  },
  {
   "cell_type": "code",
   "execution_count": 24,
   "id": "8614ff39-def0-4857-9ce8-e66f08a7c369",
   "metadata": {},
   "outputs": [
    {
     "name": "stdout",
     "output_type": "stream",
     "text": [
      "For drive shaft with...\n",
      "    ... outer diameter = 12.70 mm\n",
      "    ... inner diameter = 11.38 mm\n",
      "    ... yield stress = 517.0 MPa = 75.0 ksi\n",
      " --> yield torque = 42.7 N*m = 377.7 in*lb\n"
     ]
    }
   ],
   "source": [
    "transmission_efficiency = 0.90  # assumed value, probably conservative, considering friction in u-joint\n",
    "flex_coupling_mass = 0.\n",
    "ujoint_mass = 0.\n",
    "shaft_od = 0.5 * m_per_in  # outer diameter\n",
    "shaft_wall = 0.026 * m_per_in  # wall thickness\n",
    "shaft_id = shaft_od - 2 * shaft_wall  # inner diameter\n",
    "shaft_J = math.pi / 2 * ((shaft_od/2)**4 - (shaft_id/2)**4)  # second moment of area\n",
    "shaft_yield_stress = Sy_Ti_Gr9annealed\n",
    "shear_yield_stress = shaft_yield_stress / 3**0.5  # von Mises criterion: 1/3**0.5, Tresca: 1/2\n",
    "shaft_yield_torque = shear_yield_stress * shaft_J / (shaft_od/2)\n",
    "print(f'For drive shaft with...'\n",
    "      f'\\n{tab}... outer diameter = {shaft_od*1000:.2f} mm'\n",
    "      f'\\n{tab}... inner diameter = {shaft_id*1000:.2f} mm'\n",
    "      f'\\n{tab}... yield stress = {shaft_yield_stress/1e6:.1f} MPa = {shaft_yield_stress*ksi_per_Pa:.1f} ksi'\n",
    "      f'\\n --> yield torque = {shaft_yield_torque:.1f} N*m = {shaft_yield_torque/Nm_per_inlb:.1f} in*lb')"
   ]
  },
  {
   "cell_type": "markdown",
   "id": "90828ad8-2564-42e7-965f-378ba6f0750c",
   "metadata": {},
   "source": [
    "### Motor shaft, motor gearhead, and motor bearing\n",
    "In the present study (July 2022), whose initial purpose is to define specifications for the motor, the internal details of the motor are not considered. They could be added to this study at a later date, after we have selected a specific motor model."
   ]
  },
  {
   "cell_type": "markdown",
   "id": "0f6c43c6-cef8-48a2-bf5e-4f4bb1f47b29",
   "metadata": {},
   "source": [
    "### External dust seal\n",
    "\n",
    "Some dust seal(s) will be required to prevent lunar dust from accessing the bearing and transmission. These impose some friction load on the assembly.\n",
    "\n",
    "Here I assume the seal contact is made against a flat face by annular, thin-walled polyimide. In this approach, there would be one seal at the turntable rotation axis, and another at the motor output, covering the off-axis transmission components. (The motor may additionally have internal seals in its bearing at the output shaft, TBD.)\n",
    "\n",
    "The seal at the central axis will bear either on the rotating turntable, or else be mounted to the turntable and bear on its opposing counterpart (i.e. the top plate or the central shaft support). Preload force will be relatively low, since only dust needs to be excluded.\n",
    "\n",
    "Some comments are offered in another section about the option of alternatively, or additionally, having internal seals integral to the bearing. There are both advantages and disadvantages. It would be necessary for the bearing vendor to fabricate using a seal material with which we are comfortable at the lunar temperature extremes and in vacuum."
   ]
  },
  {
   "cell_type": "code",
   "execution_count": 25,
   "id": "03261aed-7a1a-4a50-94c1-c3fc5722e15a",
   "metadata": {},
   "outputs": [
    {
     "name": "stdout",
     "output_type": "stream",
     "text": [
      "External dust seal at radius 0.080 m: clamping force = 7.5 N\n"
     ]
    }
   ],
   "source": [
    "seal_contact_radius = 0.080  # annulus of contact for the seals\n",
    "seal_contact_width = 0.003  # rough guess as to desirable contact width, will depend on seal design details\n",
    "seal_contact_pressure_millibar = 5  # rough guess as to desirable clamping pressure (per seal)\n",
    "seal_contact_pressure = seal_contact_pressure_millibar * 1000\n",
    "seal_contact_area = 2 * math.pi * seal_contact_radius * seal_contact_width\n",
    "seal_clamping_force = seal_contact_pressure * seal_contact_area\n",
    "print(f'External dust seal at radius {seal_contact_radius:.3f} m: clamping force = {seal_clamping_force:.1f} N')"
   ]
  },
  {
   "cell_type": "markdown",
   "id": "d13d6880-f4b8-44b1-8c03-955464fcbfe3",
   "metadata": {},
   "source": [
    "Datasheet values for the static and dynamic friction coefficient of [Vespel SP-1](https://www.curbellplastics.com/Research-Solutions/DuPont-Vespel-SP-1) are listed at 0.29 and 0.35, respectively. I presume a fixed, static value of 0.35 for the purposes of this calculation, and estimate a fixed torque based on the assumed contact annulus."
   ]
  },
  {
   "cell_type": "code",
   "execution_count": 26,
   "id": "fc4ad8f5-3eb5-4c19-9512-f4bdb8e08a29",
   "metadata": {},
   "outputs": [
    {
     "name": "stdout",
     "output_type": "stream",
     "text": [
      "External dust seal static torque = 0.211 N*m = 29.9 oz*in\n"
     ]
    }
   ],
   "source": [
    "seal_mu = 0.35\n",
    "seal_torque = seal_mu * seal_contact_radius * seal_clamping_force\n",
    "print(f'External dust seal static torque = {seal_torque:.3f} N*m = {seal_torque / Nm_per_ozin:.1f} oz*in')"
   ]
  },
  {
   "cell_type": "markdown",
   "id": "7ced7e4c-d8c3-4754-a046-12a16737cc5f",
   "metadata": {},
   "source": [
    "### Bearing friction\n",
    "For the purposes of preliminary overall system torque calculations, I presume a bearing with its own integrated dust seal. This may not be the case, as discussed in more detail in the bearing selection section below. But presently, in sizing the motor and transmission, I assume selection of a single Type-X, nitrile double-sealed, stainless steel bearing, e.g. Kaydon WA025XP0. The vendor provides a static torque value for this bearing, given default lubrication and temperature conditions:"
   ]
  },
  {
   "cell_type": "code",
   "execution_count": 27,
   "id": "4753d731-1d61-49e4-9749-73704ccaad1f",
   "metadata": {},
   "outputs": [
    {
     "name": "stdout",
     "output_type": "stream",
     "text": [
      "Central bearing static torque = 0.056 N*m\n"
     ]
    }
   ],
   "source": [
    "bearing_torque_ozin = 8.0  # oz*in\n",
    "bearing_torque = bearing_torque_ozin * Nm_per_ozin\n",
    "print(f'Central bearing static torque = {bearing_torque:.3f} N*m')"
   ]
  },
  {
   "cell_type": "markdown",
   "id": "92483b66-7a55-40b5-920a-f93e4ab65a75",
   "metadata": {},
   "source": [
    "### Harness\n",
    "The primary elastic contributor to motor driving torque is the cable harness. Its torsional stiffness is estimated here by counting the number of conductors, assuming a diameter for each conductor, and then adding up their torsional stiffness plus their insulating coatings in parallel. The individual conductors are here treated as solid core, though in reality they would be stranded."
   ]
  },
  {
   "cell_type": "code",
   "execution_count": 28,
   "id": "3974ef0c-4051-4428-a33b-2971a0e4a8d5",
   "metadata": {},
   "outputs": [
    {
     "name": "stdout",
     "output_type": "stream",
     "text": [
      "Harness approx torsional stiffness = 0.02179 N*m/rad\n",
      "Harness approx torsional stiffness = 1249 N*mm/deg\n",
      "Harness approx torsional stiffness = 176.8 oz*in/deg\n",
      "Harness max torque resistance = 0.03614 N*m\n",
      "Harness max torque resistance = 36.14 N*mm\n",
      "Harness max torque resistance = 5.117 oz*in\n"
     ]
    }
   ],
   "source": [
    "wires_per_antenna = 20\n",
    "n_wires = n_ant * wires_per_antenna\n",
    "wire_diam_mm = 0.35\n",
    "wire_insul_wall_mm = 0.15  # wall thickness of insulator on wire\n",
    "wire_diam = wire_diam_mm / 1000\n",
    "wire_insul_wall = wire_insul_wall_mm / 1000\n",
    "J_wire = math.pi/32 * wire_diam**4  # wire polar moment of inertia\n",
    "J_insul = math.pi/32 * ((wire_diam + 2*wire_insul_wall)**4 - wire_diam**4)  # insulation polar moment of inertia\n",
    "harness_length = 0.3  # estimated from July 2022 CAD model\n",
    "shear_modulus = lambda E: E / (2*(1 + 0.3))  # approx shear modulus for typical poisson ratio\n",
    "insulated_wire_stiffness = (shear_modulus(E_Cu) * J_wire + shear_modulus(E_plastic) * J_insul) / harness_length  # N*m / rad\n",
    "harness_stiffness = n_wires * insulated_wire_stiffness\n",
    "harness_max_torque = harness_stiffness * max(rotation_range)\n",
    "for unit, scale in {'N*m/rad': 1.0, 'N*mm/deg': 180/math.pi*1000, 'oz*in/deg': 180/math.pi/Nm_per_ozin}.items():\n",
    "    print(f'Harness approx torsional stiffness = {harness_stiffness*scale:.4g} {unit}')\n",
    "for unit, scale in {'N*m': 1.0, 'N*mm': 1000., 'oz*in': 1/Nm_per_ozin}.items():\n",
    "    print(f'Harness max torque resistance = {harness_max_torque*scale:.4g} {unit}')"
   ]
  },
  {
   "cell_type": "markdown",
   "id": "59c3ee28-49b4-49cc-84c9-a088a67485d2",
   "metadata": {},
   "source": [
    "### Gear inertia\n",
    "The vendor datasheet for Globe Motors A-1430, as an example, indicates a maximum gear inertia. While included here for completeness, in practice this value is negligible with respect to the overall system. (This fact is displayed further down, see printout in the \"Known\" torques calculation below.)"
   ]
  },
  {
   "cell_type": "code",
   "execution_count": 29,
   "id": "69b34cdd-e90f-40cb-ac78-8e6f49a57cfd",
   "metadata": {},
   "outputs": [],
   "source": [
    "max_gear_inertia_ozinsec2 = 1.8e-6  # oz*in*sec^2, Globe A-1430\n",
    "max_gear_inertia = max_gear_inertia_ozinsec2 * Nm_per_ozin  # kg*m^2"
   ]
  },
  {
   "cell_type": "markdown",
   "id": "2f70a51b-be53-4c2a-bbf4-ea18cce1ca7e",
   "metadata": {},
   "source": [
    "## Performance\n",
    "Our needs for rotational speed and acceleration are relatively low. \n",
    "\n",
    "### Speed\n",
    "Repositioning will take on the order of minutes. The constraints imposed here are generally based on rough practical assumptions. There are no strong constraints at either the too-slow or too-fast ends of this range."
   ]
  },
  {
   "cell_type": "code",
   "execution_count": 30,
   "id": "88cd3de8-917f-4f4f-ae19-657488cdf19f",
   "metadata": {},
   "outputs": [
    {
     "name": "stdout",
     "output_type": "stream",
     "text": [
      "Min allowable speed = 0.107 rpm = 0.6 deg/s.\n",
      "Max allowable speed = 16.1 rpm = 96.5 deg/s.\n"
     ]
    }
   ],
   "source": [
    "min_slew_time = 2.  # when going the maximum slew distance\n",
    "max_slew_time = 300.  # when going the maximum slew distance\n",
    "antibacklash_move_deg = 3.0\n",
    "antibacklash_move = math.radians(antibacklash_move_deg)\n",
    "max_slew_distance = total_rotation_range + antibacklash_move\n",
    "min_allowable_speed = max_slew_distance / (max_slew_time)\n",
    "max_allowable_speed = max_slew_distance / (min_slew_time)\n",
    "print(f'Min allowable speed = {min_allowable_speed/radpersec_per_rpm:.3g} rpm = {math.degrees(min_allowable_speed):.1f} deg/s.')\n",
    "print(f'Max allowable speed = {max_allowable_speed/radpersec_per_rpm:.3g} rpm = {math.degrees(max_allowable_speed):.1f} deg/s.')"
   ]
  },
  {
   "cell_type": "markdown",
   "id": "f2972406-7970-4d3a-961c-8b69c1e36b8e",
   "metadata": {},
   "source": [
    "### Acceleration\n",
    "Acceleration must not exceed the buckling strength of the extended antenna. Here we estimate the buckling critical load per Roark's 7th Edition:\n",
    "\n",
    "![Transverse buckling of thin-walled tube](figures/roarks_7th_tube_transverse_buckling.png)"
   ]
  },
  {
   "cell_type": "code",
   "execution_count": 31,
   "id": "8e30ac78-4012-41bd-afca-a78627b00838",
   "metadata": {},
   "outputs": [
    {
     "name": "stdout",
     "output_type": "stream",
     "text": [
      "Antenna critical buckling moment = 4976.9 N*m\n",
      "Applying safety factor of 100 --> allowable moment = 49.8 N*m\n",
      "--> max allowable acceleration = 89.7 rad/s^2 = 5138.4 deg/s^2 = 14.3 rev/s^2\n",
      "--> min allowable period of acceleration = 0.0188 sec\n"
     ]
    }
   ],
   "source": [
    "buckling_design_safety_factor = 100  # stay conservative, since this is both Euler instability and since inertias / motor details not yet fully defined\n",
    "tube_transverse_buckling_K = 0.72  # using minimum value here, to stay on conservative side\n",
    "boom_root_radial_position = plate_od\n",
    "boom_critical_moment = tube_transverse_buckling_K * E_BeCu / (1 - nu_BeCu**2) * boom_length['deployed'] * boom_wall['deployed']**2\n",
    "boom_allowable_moment = boom_critical_moment / buckling_design_safety_factor\n",
    "boom_allowable_accel = boom_allowable_moment / ant_inertia['deployed']\n",
    "boom_allowable_accel_period = max_allowable_speed / boom_allowable_accel\n",
    "print(f'Antenna critical buckling moment = {boom_critical_moment:.1f} N*m')\n",
    "print(f'Applying safety factor of {buckling_design_safety_factor} --> allowable moment = {boom_allowable_moment:.1f} N*m')\n",
    "print(f'--> max allowable acceleration = {boom_allowable_accel:.1f} rad/s^2 = {math.degrees(boom_allowable_accel):.1f} deg/s^2 = {boom_allowable_accel/(2*math.pi):.1f} rev/s^2')\n",
    "print(f'--> min allowable period of acceleration = {boom_allowable_accel_period:.3g} sec')"
   ]
  },
  {
   "cell_type": "markdown",
   "id": "8115c978-cecf-4f6a-a9db-eaf45d52b334",
   "metadata": {},
   "source": [
    "The boom buckling-limited acceleration is indeed many orders of magnitude faster than we expect any practical real-world system to perform, and hence is ignored for the remainder of the calculations.\n",
    "\n",
    "We assert limits on nominal acceleration based on the margin of extra mechanical range we are mechanically providing the turntable. We prefer the system to be capable of fully accelerating within about twice that angular distance. This is not a hard physical constraint, just a practical consideration."
   ]
  },
  {
   "cell_type": "code",
   "execution_count": 32,
   "id": "bae15fa2-c99f-47de-afc8-e9189d0e0640",
   "metadata": {},
   "outputs": [
    {
     "name": "stdout",
     "output_type": "stream",
     "text": [
      "Nominal bounds on system acceleration rate = (0.000361, 8.13) rad/s^2 = (0.0207, 465.6) °/s^2\n"
     ]
    }
   ],
   "source": [
    "accel_dist = rotation_range_margin * 2.0\n",
    "nom_accel = [v**2 / (2 * accel_dist) for v in [min_allowable_speed, max_allowable_speed]]\n",
    "print(f'Nominal bounds on system acceleration rate = ({min(nom_accel):.3g}, {max(nom_accel):.3g}) rad/s^2 = ({math.degrees(min(nom_accel)):.3g}, {math.degrees(max(nom_accel)):.1f}) {deg}/s^2')\n",
    "assert max(nom_accel) <= boom_allowable_accel, f'max nominal acceleration is higher than boom can tolerate'"
   ]
  },
  {
   "cell_type": "markdown",
   "id": "329d8d47-3bce-4f5c-94c3-6f0164868b18",
   "metadata": {},
   "source": [
    "## Torque margin calculation\n",
    "\n",
    "### Resistive known torques"
   ]
  },
  {
   "cell_type": "code",
   "execution_count": 33,
   "id": "1e18ee06-51c3-4315-85e2-428924ee0a83",
   "metadata": {},
   "outputs": [
    {
     "name": "stdout",
     "output_type": "stream",
     "text": [
      "Total payload inertia (i.e. not including motor) = 2.39 kg*m^2\n",
      "(Note: max gear inertia 1.27e-08 kg*m^2 represents a fraction 5.3e-09 of total.)\n",
      "Possible range for total \"known\" resistive torque @ min accel = 0.000863 N*m = 0.122 oz*in\n",
      "                                              ... @ max accel = 19.4 N*m = 2.75e+03 oz*in\n",
      "\n",
      "Nominal design value selected for total \"known\" resistive torque = 0.195 N*m = 27.6 oz*in\n"
     ]
    }
   ],
   "source": [
    "total_inertia = plate_inertia + n_ant * (ant_inertia['deployed'] + deployer_inertia) + central_inertia + max_gear_inertia\n",
    "T_known_range = [total_inertia * a for a in nom_accel]\n",
    "T_known_range_ozin = [T / Nm_per_ozin for T in T_known_range]\n",
    "print(f'Total payload inertia (i.e. not including motor) = {total_inertia:.4g} kg*m^2')\n",
    "print(f'(Note: max gear inertia {max_gear_inertia:.3g} kg*m^2 represents a fraction {max_gear_inertia/total_inertia:.2g} of total.)')\n",
    "print(f'Possible range for total \"known\" resistive torque @ min accel = {min(T_known_range):.3g} N*m = {min(T_known_range_ozin):.3g} oz*in')\n",
    "print(f'                                              ... @ max accel = {max(T_known_range):.3g} N*m = {max(T_known_range_ozin):.3g} oz*in')\n",
    "\n",
    "# Select a single nominal T_known\n",
    "# Note that GEVS torque margins, applied later below, will add significant torque to the system.\n",
    "# In other words, this is not the place to apply large margin.\n",
    "T_known_margin = 0.01  # small, arbitrary fraction between the (wide-ranging) min and max at which to set nominal T_known\n",
    "T_known = T_known_margin * (max(T_known_range) - min(T_known_range)) + min(T_known_range)\n",
    "T_known_ozin = T_known / Nm_per_ozin\n",
    "print(f'\\nNominal design value selected for total \"known\" resistive torque = {T_known:.3g} N*m = {T_known_ozin:.3g} oz*in')"
   ]
  },
  {
   "cell_type": "markdown",
   "id": "4810360e-f655-4bb1-a3ce-5205c4b32fb2",
   "metadata": {},
   "source": [
    "### Resistive variable torques"
   ]
  },
  {
   "cell_type": "raw",
   "id": "b7cc427f-3197-4d2d-9762-a06bb66d61be",
   "metadata": {},
   "source": []
  },
  {
   "cell_type": "code",
   "execution_count": 46,
   "id": "144e6ef2-20b3-49fb-9349-0612d5f644b2",
   "metadata": {},
   "outputs": [
    {
     "name": "stdout",
     "output_type": "stream",
     "text": [
      "Range for static friction torque = (0.056, 0.268) N*m = (8.0, 37.9) oz*in\n",
      "Range for transmission loss = (0.025, 0.046) N*m = (3.6, 6.6) oz*in\n",
      "Range for \"variable\" resistive torque = (0.082, 0.350) N*m = (11.6, 49.6) oz*in\n"
     ]
    }
   ],
   "source": [
    "T_static_friction = [bearing_torque, seal_torque + bearing_torque]  # range of options, since final sealing config not yet determined\n",
    "T_friction_transmission_loss = [T * (1 - transmission_efficiency) for T in T_static_friction]\n",
    "T_known_transmission_loss = (1 - transmission_efficiency) * T_known\n",
    "T_transmission_loss = [T_known_transmission_loss + T for T in T_friction_transmission_loss]\n",
    "T_variable = [min(T_static_friction) + min(T_transmission_loss),\n",
    "              max(T_static_friction) + max(T_transmission_loss) + harness_max_torque]\n",
    "print(f'Range for static friction torque = ({min(T_static_friction):.3f}, {max(T_static_friction):.3f}) N*m = ({min(T_static_friction)/Nm_per_ozin:.1f}, {max(T_static_friction)/Nm_per_ozin:.1f}) oz*in')\n",
    "print(f'Range for transmission loss = ({min(T_transmission_loss):.3f}, {max(T_transmission_loss):.3f}) N*m = ({min(T_transmission_loss)/Nm_per_ozin:.1f}, {max(T_transmission_loss)/Nm_per_ozin:.1f}) oz*in')\n",
    "print(f'Range for \"variable\" resistive torque = ({min(T_variable):.3f}, {max(T_variable):.3f}) N*m = ({min(T_variable)/Nm_per_ozin:.1f}, {max(T_variable)/Nm_per_ozin:.1f}) oz*in')"
   ]
  },
  {
   "cell_type": "markdown",
   "id": "c9626845-9f91-474d-8154-41bc6d17345d",
   "metadata": {},
   "source": [
    "### Minimum driving torque\n",
    "We use the resistive known and variable torques, in combination with the GEVS safety factors, to determine the minimum allowable motor torque."
   ]
  },
  {
   "cell_type": "code",
   "execution_count": 35,
   "id": "4e4a1fd4-25af-4751-9da8-39ffffb5e199",
   "metadata": {},
   "outputs": [
    {
     "name": "stdout",
     "output_type": "stream",
     "text": [
      "For positive torque margin, with safety factors FSk = 2.0 and FSv = 4.0,\n",
      "minimum gearmotor torque shall be T_avail = 1.79 N*m = 254 oz*in\n"
     ]
    }
   ],
   "source": [
    "TM = 0.0  # set to 0 for minimum allowable, i.e. positive torque margin\n",
    "T_avail_min = (TM + 1) * (FSk * T_known + FSv * max(T_variable))\n",
    "print(f'For positive torque margin, with safety factors FSk = {FSk} and FSv = {FSv},\\n'\n",
    "      f'minimum gearmotor torque shall be T_avail = {T_avail_min:.3g} N*m = {T_avail_min/Nm_per_ozin:.3g} oz*in')"
   ]
  },
  {
   "cell_type": "markdown",
   "id": "fd4486f6-3d66-4fda-8427-c6fb0ebd9222",
   "metadata": {},
   "source": [
    "### Maximum driving torque (buckling constraint)\n",
    "As discussed above, the acceleration rate to cause antenna boom buckling is many orders of magnitude outside what any practical motor in this application will achieve. This is confirmed below, by a simple scaling argument:"
   ]
  },
  {
   "cell_type": "code",
   "execution_count": 36,
   "id": "3903fa57-659b-483b-910a-e9eab31d9c49",
   "metadata": {},
   "outputs": [
    {
     "name": "stdout",
     "output_type": "stream",
     "text": [
      "To even approach the boom buckling safety factor 100, available motor driving\n",
      "torque would have to be >= 1098.8 N*m = 155607.8 oz*in\n"
     ]
    }
   ],
   "source": [
    "scaled_buckling_torque = boom_allowable_accel / (T_known / total_inertia) + min(T_variable)\n",
    "print(f'To even approach the boom buckling safety factor {buckling_design_safety_factor}, available motor driving'\n",
    "      f'\\ntorque would have to be >= {scaled_buckling_torque:.1f} N*m = {scaled_buckling_torque/Nm_per_ozin:.1f} oz*in')"
   ]
  },
  {
   "cell_type": "markdown",
   "id": "9c9c7a97-e1bb-4a63-b457-0b4e44a3024c",
   "metadata": {},
   "source": [
    "## Central bearing loads\n",
    "\n",
    "Loads are evaluated in three dimensions (radial, thrust, and moment) independently. The independence assumption is based on the presumption that our very high and conservative design loading levels (e.g. the peak acceleration allowables above) would only be encountered essentially monodirectional, one time, brief events.\n",
    "\n",
    "Additional conservatism in the mass estimates above carry into these loads."
   ]
  },
  {
   "cell_type": "code",
   "execution_count": 62,
   "id": "786697fe-3d8d-4a3c-aa12-c034117c4ad2",
   "metadata": {},
   "outputs": [
    {
     "name": "stdout",
     "output_type": "stream",
     "text": [
      "Fa / (Z * D^2) ~ {FaZD2_lbperin2:.1f} lbf/in^2, hence here using\n",
      "approximations found in NHBB / Minebea catalog for 750 lbf/in^2 case:\n",
      "    radial deep groove    ... X = 0.56, Y = 1.04\n",
      "    angular contact (5°)  ... X = 0.56, Y = 1.04\n",
      "    angular contact (10°) ... X = 0.46, Y = 1.01\n",
      "    angular contact (15°) ... X = 0.44, Y = 1.00\n",
      "    angular contact (20°) ... X = 0.43, Y = 1.00\n"
     ]
    },
    {
     "ename": "TypeError",
     "evalue": "'int' object is not subscriptable",
     "output_type": "error",
     "traceback": [
      "\u001b[0;31m---------------------------------------------------------------------------\u001b[0m",
      "\u001b[0;31mTypeError\u001b[0m                                 Traceback (most recent call last)",
      "\u001b[0;32m/tmp/ipykernel_55079/1763132427.py\u001b[0m in \u001b[0;36m<module>\u001b[0;34m\u001b[0m\n\u001b[1;32m     28\u001b[0m       '\\napproximations found in NHBB / Minebea catalog for 750 lbf/in^2 case:')\n\u001b[1;32m     29\u001b[0m \u001b[0;32mfor\u001b[0m \u001b[0mkey\u001b[0m\u001b[0;34m,\u001b[0m \u001b[0mXY\u001b[0m \u001b[0;32min\u001b[0m \u001b[0mbearing_factors\u001b[0m\u001b[0;34m.\u001b[0m\u001b[0mitems\u001b[0m\u001b[0;34m(\u001b[0m\u001b[0;34m)\u001b[0m\u001b[0;34m:\u001b[0m\u001b[0;34m\u001b[0m\u001b[0;34m\u001b[0m\u001b[0m\n\u001b[0;32m---> 30\u001b[0;31m     \u001b[0mprint\u001b[0m\u001b[0;34m(\u001b[0m\u001b[0;34mf'{tab}{key:<21} ... X = {XY[\"X\"]:.2f}, Y = {XY[\"Y\"]:.2f}'\u001b[0m\u001b[0;34m)\u001b[0m\u001b[0;34m\u001b[0m\u001b[0;34m\u001b[0m\u001b[0m\n\u001b[0m\u001b[1;32m     31\u001b[0m \u001b[0;34m\u001b[0m\u001b[0m\n\u001b[1;32m     32\u001b[0m \u001b[0;31m# note below that the loads here are really due to a sudden acceleration in one direction\u001b[0m\u001b[0;34m\u001b[0m\u001b[0;34m\u001b[0m\u001b[0m\n",
      "\u001b[0;31mTypeError\u001b[0m: 'int' object is not subscriptable"
     ]
    }
   ],
   "source": [
    "bearing_supported_mass = plate_mass + n_ant * (boom_mass + ant_tip_mass + deployer_mass)\n",
    "bearing_supported_moment = plate_mass*plate_z + n_ant * (boom_mass*boom_z + ant_tip_mass*ant_tip_z + deployer_mass*deployer_z)\n",
    "bearing_loads_stationary = {'thrust': bearing_supported_mass,  # nominally upright\n",
    "                            'radial': bearing_supported_mass,  # when tipped 90 deg\n",
    "                            'moment': bearing_supported_moment,  # when tipped 90 deg\n",
    "                           }\n",
    "bearing_design_loads = {'rms': {name: load * Grms_design * G_earth for name, load in bearing_loads_stationary.items()},\n",
    "                        'peak': {name: load * Gpeak_design * G_earth for name, load in bearing_loads_stationary.items()},\n",
    "                       }\n",
    "Fr = bearing_design_loads['peak']['radial']\n",
    "Fa = bearing_design_loads['peak']['thrust']\n",
    "single_bearing_diam = 0.080  # assumed pitch circle diameter of single bearing\n",
    "duplex_bearing_sep = 0.020  # assumed axial separation distance between duplexed bearings (where applicable)\n",
    "Fm_single = bearing_design_loads['peak']['moment'] / (single_bearing_diam/2)\n",
    "Fm_duplex = bearing_design_loads['peak']['moment'] / duplex_bearing_sep\n",
    "n_balls_typ = 24  # approximate typical number of balls, will vary among models\n",
    "d_ball_typ = 0.006  # approximate typical diameter of balls, will vary among models\n",
    "ZD2 = n_balls_typ * d_ball_typ**2\n",
    "FaZD2_lbperin2 = (Fa / N_per_lbf) / (ZD2 / m_per_in**2)\n",
    "bearing_factors = {'radial deep groove': {'X': 0.56, 'Y': 1.04}, # per NHBB catalog\n",
    "                       f'angular contact (5{deg})': {'X': 0.57, 'Y': 0.93},  # per SKF (contact angle 40°), https://evolution.skf.com/us/four-point-contact-ball-bearings-two-in-one\n",
    "                       f'angular contact (10{deg})': {'X': 0.46, 'Y': 1.01},\n",
    "                       f'angular contact (15{deg})': {'X': 0.44, 'Y': 1.00},\n",
    "                       f'angular contact (20{deg})': {'X': 0.43, 'Y': 1.00},\n",
    "                       'four-point contact': {'X': 0.60, 'Y': 1.07},  # per SKF (contact angle 35°), https://evolution.skf.com/us/four-point-contact-ball-bearings-two-in-one\n",
    "                      }\n",
    "P = 0,60×Fr + 1,07×Fa\n",
    "for a four-point contact ball bearing (contact angle 35°)\n",
    "\n",
    "P = 0,57×Fr + 0,93×Fa\n",
    "for a matched set of angular contact ball bearings (contact angle 40°)\n",
    "\n",
    "print('Fa / (Z * D^2) ~ {FaZD2_lbperin2:.1f} lbf/in^2, hence here using'\n",
    "      '\\napproximations found in NHBB / Minebea catalog for 750 lbf/in^2 case:')\n",
    "for key, XY in bearing_factors.items():\n",
    "    print(f'{tab}{key:<21} ... X = {XY[\"X\"]:.2f}, Y = {XY[\"Y\"]:.2f}')\n",
    "\n",
    "# note below that the loads here are really due to a sudden acceleration in one direction\n",
    "# hence depending on the bearing type, it matters whether this is a sudden horizontal vs vertical acceleration\n",
    "# this is handled in the maxima usages below\n",
    "bearing_equiv_loads = {'crossed roller': max(Fr + Fm_single, 0.44*Fa),  # IKO catalog shows sum of all three terms\n",
    "                       'radial deep groove': 0,  # per NHBB catalog\n",
    "                       f'angular contact (5{deg})':0,\n",
    "                       f'angular contact (10{deg})':0,\n",
    "                       f'angular contact (15{deg})':0,\n",
    "                       'four-point contact':0,\n",
    "                      }\n",
    "bearing_loads_str = f'Payload mass of {bearing_supported_mass:.2f} kg yields the following bearing\\ndesign loads (these include all safety factors):'\n",
    "for kind, loads in bearing_design_loads.items():\n",
    "    bearing_loads_str += f'\\n{tab}{kind} radial = {loads[\"radial\"]:.0f} N = {loads[\"radial\"]/N_per_lbf:.0f} lbf'\n",
    "    bearing_loads_str += f'\\n{tab}{kind} thrust = {loads[\"thrust\"]:.0f} N = {loads[\"thrust\"]/N_per_lbf:.0f} lbf'\n",
    "    bearing_loads_str += f'\\n{tab}{kind} moment = {loads[\"moment\"]:.0f} N*m = {loads[\"moment\"]/Nm_per_inlb:.0f} in*lb'\n",
    "\n",
    "    #bearing_loads_str += f'\\n{tab}static equivlent load = {\n",
    "print(bearing_loads_str)\n",
    "bearing_equiv_loads\n"
   ]
  },
  {
   "cell_type": "markdown",
   "id": "1f7cd79f-0c32-446c-ad64-2a9b8cbada07",
   "metadata": {
    "tags": []
   },
   "source": [
    "## Bearing mounting stress\n",
    "The simplest bearing mounting methods would be relatively rigid, i.e. an interference fit or glue joint. Thermal contraction forces need to be checked to ensure no risk of either yielding the aluminum or damaging the bearing balls or races."
   ]
  },
  {
   "cell_type": "code",
   "execution_count": 38,
   "id": "a219e382-84f8-4514-8920-5b1f73e687a9",
   "metadata": {},
   "outputs": [
    {
     "name": "stdout",
     "output_type": "stream",
     "text": [
      "Aluminum housing / stainless bearing interference pressure at 80.0 K = 50.6 MPa = 7.3 ksi\n",
      "    housing equivalent stress = 99.1 MPa = 14.4 ksi --> Yield stress FOS = 3.26\n",
      "    bearing equivalent stress = 358.7 MPa = 52.0 ksi --> Yield stress FOS = 4.63\n"
     ]
    }
   ],
   "source": [
    "assembly_temperature = 293  # Kelvin\n",
    "deltaT = assembly_temperature - min_temp_survival\n",
    "differential_strain = (CTE_Al - CTE_SS) * deltaT  # roughly treated here as constant and linear, of course should be the integrated cryogenic strain\n",
    "a = 3.5 * m_per_in  # bearing ID (solid ring approximation, conservative)\n",
    "b = 4.0 * m_per_in  # bearing OD\n",
    "c = b + 0.2  # approx equiv aluminum diameter surrounding the bearing\n",
    "geom_factor_housing = (c**2 + b**2) / (c**2 - b**2)\n",
    "geom_factor_bearing = (b**2 + a**2) / (b**2 - a**2)\n",
    "p = differential_strain / ( (geom_factor_housing + nu_Al)/E_Al + (geom_factor_bearing - nu_SS)/E_SS )  # interface pressure, c.f. Shigley\n",
    "print(f'Aluminum housing / stainless bearing interference pressure at {min_temp_survival} K = {p/1e6:.1f} MPa = {p*ksi_per_Pa:.1f} ksi')\n",
    "\n",
    "hoop_stress = {'housing': p * geom_factor_housing,\n",
    "               'bearing': -p * geom_factor_bearing,\n",
    "              }\n",
    "radial_stress = -p\n",
    "equiv_stress = {}\n",
    "for key, hoop in hoop_stress.items():\n",
    "    equiv_stress = (radial_stress**2 + hoop**2 - radial_stress*hoop)**0.5\n",
    "    yield_stress = Sy_Al(min_temp_survival) if key == 'housing' else Sy_SS\n",
    "    print(f'{tab}{key} equivalent stress = {equiv_stress/1e6:.1f} MPa = {equiv_stress*ksi_per_Pa:.1f} ksi --> Yield stress FOS = {yield_stress / equiv_stress:.2f}')"
   ]
  },
  {
   "cell_type": "markdown",
   "id": "229c16a0-db1c-4885-9555-e887d2bc659b",
   "metadata": {},
   "source": [
    "As one increases the \"approximate equivalent diameter\" of the aluminum housing used in this first-order calculation, the aluminum stress decreases while the bearing stress increases. The true stiffness behavior of the housing will depend on ribbing details, and will be ultimately assessed more precisely in a finite element thermal model."
   ]
  },
  {
   "cell_type": "markdown",
   "id": "b34c95a4-0c72-4618-85fe-f8ec8d823aa0",
   "metadata": {},
   "source": [
    "***TO-DO: Bearing balls contact forces in races***"
   ]
  },
  {
   "cell_type": "markdown",
   "id": "bcf97dff-c3b0-43b9-bd17-9707babd57c9",
   "metadata": {},
   "source": [
    "## Launch lock\n",
    "***TO-DO***\n",
    "\n",
    "Analyze pin puller tension = mu x N, with N applied to a spring element that resists rotational vibration of plate during launch etc.\n",
    "\n",
    "Likely model: https://www.ebad.com/tini-pin-puller/#pin-puler-p5"
   ]
  },
  {
   "cell_type": "markdown",
   "id": "0581078f-e832-46ff-848a-e9da5fae595d",
   "metadata": {
    "tags": []
   },
   "source": [
    "## Appendix: Motor selection\n",
    "As of July 2022, we have been presuming usage of Globe Motor A-1430. This model indeed is offered with reduction ratios that deliver 300 oz-in of torque. Therefore we can proceed further with this motor family.\n",
    "\n",
    "At the nominal operating voltage, the Globe Motors have two armature winding options:"
   ]
  },
  {
   "cell_type": "code",
   "execution_count": 39,
   "id": "d2fa2317-187a-4f67-8934-2c953a2b0d0d",
   "metadata": {},
   "outputs": [],
   "source": [
    "motor_voltage = 12.  # VDC\n",
    "globe_armature = {'-15': {'no load speed (rpm)': [13500, 17000],\n",
    "                          'max rated torque (oz*in)': 0.22,\n",
    "                          'theoretical stall (oz*in)': 2.60,\n",
    "                          'Kt (oz*in/A)': 0.95,\n",
    "                          'R': 3.70,  # ohms\n",
    "                          'stall current': 3.2,  # amps\n",
    "                         },\n",
    "                  '-14': {'no load speed (rpm)': [10000, 13000],\n",
    "                          'max rated torque (oz*in)': 0.33,\n",
    "                          'theoretical stall (oz*in)': 2.00,\n",
    "                          'Kt (oz*in/A)': 1.32,\n",
    "                          'R': 6.46,  # ohms\n",
    "                          'stall current': 1.9,  # amps\n",
    "                         },\n",
    "                 }\n",
    "\n",
    "maxon_armature = {' DCX22S-12V': {'no load speed (rpm)': [12400],  # space character, and list type are for compatiblity with globe defs\n",
    "                          'max rated torque (oz*in)': 14.6 / 1000 / Nm_per_ozin,\n",
    "                          'theoretical stall (oz*in)': 108. / 1000 / Nm_per_ozin,\n",
    "                          'Kt (oz*in/A)': 9.18 / 1000 / Nm_per_ozin,\n",
    "                          'R': 1.02,  # ohms\n",
    "                          'stall current': 11.8,  # amps\n",
    "                         }\n",
    "                 }"
   ]
  },
  {
   "cell_type": "markdown",
   "id": "a08d75d9-190c-4d1d-a8ee-eb4fc4750119",
   "metadata": {
    "tags": []
   },
   "source": [
    "Among enclosed type motors, the family includes numerous options. The 12 gearhead configurations with max continous torque >= 45 oz\\*in are tested below:"
   ]
  },
  {
   "cell_type": "code",
   "execution_count": 40,
   "id": "50e04ab9-d068-4396-a609-073e88ba0266",
   "metadata": {},
   "outputs": [],
   "source": [
    "globe_gear = {'43A147': {'speed reduction ratio': 321,\n",
    "                         'torque multiplier ratio': 130,\n",
    "                         'length (in)': 3.11,\n",
    "                         'max continuous torque (oz*in)': 45., \n",
    "                        },\n",
    "              '43A148': {'speed reduction ratio': 485,\n",
    "                         'torque multiplier ratio': 200,\n",
    "                         'length (in)': 3.11,\n",
    "                         'max continuous torque (oz*in)': 70., \n",
    "                        },\n",
    "              '43A149': {'speed reduction ratio': 733,\n",
    "                         'torque multiplier ratio': 300,\n",
    "                         'length (in)': 3.11,\n",
    "                         'max continuous torque (oz*in)': 100., \n",
    "                        },\n",
    "              '43A150': {'speed reduction ratio': 1108,\n",
    "                         'torque multiplier ratio': 450,\n",
    "                         'length (in)': 3.11,\n",
    "                         'max continuous torque (oz*in)': 150., \n",
    "                        },\n",
    "              '43A151': {'speed reduction ratio': 1853,\n",
    "                         'torque multiplier ratio': 600,\n",
    "                         'length (in)': 3.28,\n",
    "                         'max continuous torque (oz*in)': 200., \n",
    "                        },\n",
    "              '43A152': {'speed reduction ratio': 2799,\n",
    "                         'torque multiplier ratio': 900,\n",
    "                         'length (in)': 3.28,\n",
    "                         'max continuous torque (oz*in)': 300., \n",
    "                        },\n",
    "              '43A153': {'speed reduction ratio': 4230,\n",
    "                         'torque multiplier ratio': 1400,\n",
    "                         'length (in)': 3.28,\n",
    "                         'max continuous torque (oz*in)': 300., \n",
    "                        },\n",
    "              '43A154': {'speed reduction ratio': 6391,\n",
    "                         'torque multiplier ratio': 2100,\n",
    "                         'length (in)': 3.28,\n",
    "                         'max continuous torque (oz*in)': 300., \n",
    "                        },\n",
    "              '43A155': {'speed reduction ratio': 10689,\n",
    "                         'torque multiplier ratio': 2800,\n",
    "                         'length (in)': 3.45,\n",
    "                         'max continuous torque (oz*in)': 300., \n",
    "                        },\n",
    "              '43A156': {'speed reduction ratio': 16150,\n",
    "                         'torque multiplier ratio': 4200,\n",
    "                         'length (in)': 3.45,\n",
    "                         'max continuous torque (oz*in)': 300., \n",
    "                        },\n",
    "              '43A157': {'speed reduction ratio': 24403,\n",
    "                         'torque multiplier ratio': 6400,\n",
    "                         'length (in)': 3.45,\n",
    "                         'max continuous torque (oz*in)': 300., \n",
    "                        },\n",
    "              '43A158': {'speed reduction ratio': 36873,\n",
    "                         'torque multiplier ratio': 9700,\n",
    "                         'length (in)': 3.45,\n",
    "                         'max continuous torque (oz*in)': 300., \n",
    "                        },\n",
    "             }\n",
    "\n",
    "maxon_gear = {'GPX22UP-987:1': {'speed reduction ratio': 987,\n",
    "                                 'torque multiplier ratio': 987 * 0.35, # approximate, based on analogy to Globe gears of similar speed reduction\n",
    "                                 'length (in)': 52.0 / 25.4,\n",
    "                                 'max continuous torque (oz*in)': 5.20 / Nm_per_ozin, \n",
    "                                },\n",
    "              'GPX22UP-1526:1': {'speed reduction ratio': 1526,\n",
    "                                 'torque multiplier ratio': 1526 * 0.35, # approximate, based on analogy to Globe gears of similar speed reduction\n",
    "                                 'length (in)': 52.0 / 25.4,\n",
    "                                 'max continuous torque (oz*in)': 5.20 / Nm_per_ozin, \n",
    "                                },\n",
    "             }"
   ]
  },
  {
   "cell_type": "markdown",
   "id": "c8277135-cdde-4618-8dbf-e917e0992b1f",
   "metadata": {},
   "source": [
    "Speed is calculated by a linear assumption for the torque/speed curve, i.e.:\n",
    "\n",
    "$\\omega_r \\approx (1 - \\frac{\\tau_r}{\\tau_o}) \\omega_o$\n",
    "\n",
    "where:\n",
    "\n",
    "$~~~~\\omega_r$ = angular speed of rotor\n",
    "\n",
    "$~~~~\\omega_o$ = no load speed\n",
    "\n",
    "$~~~~\\tau_r$ = torque of rotor\n",
    "\n",
    "$~~~~\\tau_o$ = stall torque\n",
    "\n",
    "Electrical power consumed, mechanical power output, and efficiency of this conversion are estimated:\n",
    "\n",
    "$P_{elec} \\approx I V + I^2 R = \\frac{\\tau_r}{K_t} V + \\left( \\frac{\\tau_r}{K_t} \\right)^2 R$\n",
    "\n",
    "$P_{mech} = \\tau_g \\omega_g \\approx \\frac{\\beta_\\tau}{\\beta_\\omega} \\tau_r \\omega_r$\n",
    "\n",
    "$\\eta = \\frac{P_{mech}}{P_{elec}} = \\frac{\\beta_\\tau}{\\beta_\\omega} \\frac{K_t}{V} \\omega_r$\n",
    "\n",
    "where:\n",
    "\n",
    "$~~~~I$ = current\n",
    "\n",
    "$~~~~V$ = voltage\n",
    "\n",
    "$~~~~R$ = resistance\n",
    "\n",
    "$~~~~K_t$ = motor torque constant (N\\*m/A or oz\\*in/A)\n",
    "\n",
    "$~~~~\\tau_g$ = torque at gearhead output shaft\n",
    "\n",
    "$~~~~\\omega_g$ = angular speed at gearhead output shaft\n",
    "\n",
    "$~~~~\\beta_\\tau = \\frac{\\tau_g}{\\tau_r}$ = torque multiplier ratio of gearhead\n",
    "\n",
    "$~~~~\\beta_\\omega = \\frac{\\omega_r}{\\omega_g}$ = speed reduction ratio of gearhead"
   ]
  },
  {
   "cell_type": "code",
   "execution_count": 41,
   "id": "8ed0b35b-5423-4d96-ab52-5389a2535f43",
   "metadata": {},
   "outputs": [],
   "source": [
    "avg_harness_torque = harness_max_torque / 2\n",
    "estim_loads = {'min continuous tau_g (oz*in)': (min(T_static_friction) + min(T_friction_transmission_loss) + avg_harness_torque) / Nm_per_ozin,\n",
    "               'max continuous tau_g (oz*in)': (max(T_static_friction) + max(T_friction_transmission_loss) + avg_harness_torque) / Nm_per_ozin,\n",
    "               'min intermittent tau_g (oz*in)': (T_known + min(T_variable)) / Nm_per_ozin,\n",
    "               'max intermittent tau_g (oz*in)': (T_known + max(T_variable)) / Nm_per_ozin,\n",
    "              }\n",
    "gearmotor = []\n",
    "for manufacturer_specs in [{'armature': globe_armature, 'gear': globe_gear},\n",
    "                           {'armature': maxon_armature, 'gear': maxon_gear}]:\n",
    "    for a, arm in manufacturer_specs['armature'].items():\n",
    "        tau0_ozin = arm['theoretical stall (oz*in)']\n",
    "        w0_rpm = max(arm['no load speed (rpm)'])  # pick one of the vendor values for simplicity\n",
    "        Kt_ozinperA = arm['Kt (oz*in/A)']\n",
    "        for g, gear in manufacturer_specs['gear'].items():\n",
    "            gearmotor += [{'part': f'{g}{a}'}]\n",
    "            gearmotor[-1]['arm'] = arm\n",
    "            gearmotor[-1]['gear'] = gear\n",
    "            beta_t = gear['torque multiplier ratio']\n",
    "            beta_w = gear['speed reduction ratio']\n",
    "            gearmotor[-1]['rated tau_r (oz*in)'] = arm['max rated torque (oz*in)']  # practical assumption\n",
    "            gearmotor[-1]['rated tau_g (oz*in)'] = gearmotor[-1][f'rated tau_r (oz*in)'] * beta_t\n",
    "            for prefix in ['rated'] + ['min continuous', 'max continuous', 'min intermittent', 'max intermittent']:\n",
    "                tau_g_ozin = gearmotor[-1][f'{prefix} tau_g (oz*in)'] if prefix == 'rated' else estim_loads[f'{prefix} tau_g (oz*in)']\n",
    "                tau_r_ozin = tau_g_ozin / beta_t\n",
    "                tau_r = tau_r_ozin * Nm_per_ozin\n",
    "                I = tau_r_ozin / Kt_ozinperA\n",
    "                VI = I * motor_voltage\n",
    "                w_r_rpm = (1 - tau_r_ozin / tau0_ozin) * w0_rpm\n",
    "                w_r = w_r_rpm * radpersec_per_rpm\n",
    "                gearmotor[-1][f'{prefix} tau_r (oz*in)'] = tau_r_ozin\n",
    "                gearmotor[-1][f'{prefix} I'] = I\n",
    "                gearmotor[-1][f'{prefix} P_elec'] = VI + I**2 * arm['R']\n",
    "                gearmotor[-1][f'{prefix} P_mech'] = beta_t / beta_w * tau_r * w_r \n",
    "                gearmotor[-1][f'{prefix} w_r (rpm)'] = w_r_rpm\n",
    "                gearmotor[-1][f'{prefix} w_g (rpm)'] = w_r_rpm / beta_w\n",
    "                gearmotor[-1][f'{prefix} efficiency'] = gearmotor[-1][f'{prefix} P_mech'] / gearmotor[-1][f'{prefix} P_elec']\n",
    "            gearmotor[-1]['gearhead continuous torque safety factor'] = gear['max continuous torque (oz*in)'] / gearmotor[-1]['rated tau_g (oz*in)']\n",
    "            gearmotor[-1]['gearhead intermittent torque safety factor'] = 2 * gear['max continuous torque (oz*in)'] / estim_loads['max intermittent tau_g (oz*in)']\n",
    "            gearmotor[-1]['output stall torque (oz*in)'] = tau0_ozin * beta_t"
   ]
  },
  {
   "cell_type": "markdown",
   "id": "2abc76c4-73f3-416f-8b25-d1a3f9be63d4",
   "metadata": {},
   "source": [
    "From this list, we select those motors which pass requirements on:\n",
    "- continuous torque limit (per vendor datasheet)\n",
    "- intermittent torque (per vendor datasheet)\n",
    "- max and min design speeds (see section above)"
   ]
  },
  {
   "cell_type": "code",
   "execution_count": 42,
   "id": "4f57c13a-2cce-453a-b716-616470c9f854",
   "metadata": {},
   "outputs": [
    {
     "name": "stdout",
     "output_type": "stream",
     "text": [
      "Found 8 motors meeting all selection requirements:\n",
      "43A150-15\n",
      "43A151-15\n",
      "43A152-15\n",
      "43A153-15\n",
      "43A150-14\n",
      "43A151-14\n",
      "43A152-14\n",
      "GPX22UP-987:1 DCX22S-12V\n"
     ]
    }
   ],
   "source": [
    "torque_sf_tol = 0.1  # allow a bit of tolerance here for borderline cases, since in practice our continous torques are going to be much lower than rating\n",
    "continuous_torque_ok, intermittent_torque_ok, max_speed_ok, min_speed_ok, bypass_selection = set(), set(), set(), set(), set()\n",
    "for idx, g in enumerate(gearmotor):\n",
    "    if g['gearhead continuous torque safety factor'] >= (1.0 - torque_sf_tol):\n",
    "        continuous_torque_ok.add(idx)\n",
    "    if g['gearhead intermittent torque safety factor'] >= (1.0 - torque_sf_tol):\n",
    "        intermittent_torque_ok.add(idx)\n",
    "    if g['max continuous w_g (rpm)'] * radpersec_per_rpm <= max_allowable_speed:\n",
    "        max_speed_ok.add(idx)\n",
    "    if g['min continuous w_g (rpm)'] * radpersec_per_rpm >= min_allowable_speed:\n",
    "        min_speed_ok.add(idx)\n",
    "passing_idxs = continuous_torque_ok & intermittent_torque_ok & max_speed_ok & min_speed_ok | bypass_selection\n",
    "print(f'Found {len(passing_idxs)} motors meeting all selection requirements:')\n",
    "for idx in sorted(passing_idxs):\n",
    "    gm = gearmotor[idx]\n",
    "    print(f'{gm[\"part\"]}')"
   ]
  },
  {
   "cell_type": "markdown",
   "id": "68153522-4a1a-43a7-a83c-a8e2c21430e7",
   "metadata": {
    "tags": []
   },
   "source": [
    "Of these, we are pursuing procurement on the following:"
   ]
  },
  {
   "cell_type": "code",
   "execution_count": 43,
   "id": "9e0e5db4-a0aa-4477-80ee-3a5dc57a6229",
   "metadata": {},
   "outputs": [],
   "source": [
    "selected_parts = ['GPX22UP-987:1 DCX22S-12V']\n",
    "selected_idxs = [i for i, gm in enumerate(gearmotor) if gm['part'] in selected_parts]\n",
    "primary_gearmotor = gearmotor[selected_idxs[0]]  # one item selected, for use in downstream calculations"
   ]
  },
  {
   "cell_type": "code",
   "execution_count": 44,
   "id": "8c5dff86-40a8-4e25-9cde-039c73a60a4f",
   "metadata": {
    "tags": []
   },
   "outputs": [
    {
     "name": "stdout",
     "output_type": "stream",
     "text": [
      "\n",
      "----------\n",
      "\n",
      "Part: GPX22UP-987:1 DCX22S-12V\n",
      "Speed reduction ratio = 987\n",
      "Stall torque at output shaft = 37.3 N*m = 5283.3 oz*in = 330.2 in*lb\n",
      "Stall current = 11.80 A\n",
      "Gearhead continuous torque safety factor = 1.03 (must be ~ 1 or greater)\n",
      "Gearhead intermittent torque safety factor = 19.08 (must be ~ 1 or greater)\n",
      "\n",
      "Motor is rated for:\n",
      "    Output torque = 5.044 N*m = 714.2 oz*in = 44.6 in*lb\n",
      "    Output speed = 10.865 rpm = 65.19 deg/sec\n",
      "    Current = 1.59 A\n",
      "    Power consumption = 21.665 W\n",
      "\n",
      "Estimated lows during continuous operation:\n",
      "    Output torque = 0.080 N*m = 11.4 oz*in = 0.7 in*lb\n",
      "    Output speed = 12.536 rpm = 75.22 deg/sec\n",
      "    Current = 0.03 A\n",
      "    Power consumption = 0.304 W\n",
      "\n",
      "Estimated highs during continuous operation:\n",
      "    Output torque = 0.312 N*m = 44.2 oz*in = 2.8 in*lb\n",
      "    Output speed = 12.458 rpm = 74.75 deg/sec\n",
      "    Current = 0.10 A\n",
      "    Power consumption = 1.192 W\n",
      "\n",
      "Estimated lows during intermittent operation:\n",
      "    Output torque = 0.277 N*m = 39.2 oz*in = 2.4 in*lb\n",
      "    Output speed = 12.470 rpm = 74.82 deg/sec\n",
      "    Current = 0.09 A\n",
      "    Power consumption = 1.055 W\n",
      "\n",
      "Estimated highs during intermittent operation:\n",
      "    Output torque = 0.545 N*m = 77.2 oz*in = 4.8 in*lb\n",
      "    Output speed = 12.380 rpm = 74.28 deg/sec\n",
      "    Current = 0.17 A\n",
      "    Power consumption = 2.093 W\n",
      "\n",
      "Max slew (193.0°) at MIN speed:\n",
      "    total time = 11.4 sec = 0.2 min\n",
      "    total energy = 16.6 J\n",
      "\n",
      "Max slew (193.0°) at MAX speed:\n",
      "    total time = 6.2 sec = 0.1 min\n",
      "    total energy = 14.0 J\n"
     ]
    }
   ],
   "source": [
    "for idx in sorted(selected_idxs):\n",
    "    gm = gearmotor[idx]\n",
    "    print(f'\\n{horiz_rule}\\n')\n",
    "    print(f'Part: {gm[\"part\"]}')\n",
    "    print(f'Speed reduction ratio = {gm[\"gear\"][\"speed reduction ratio\"]}')\n",
    "    tau0_g_ozin = gm['output stall torque (oz*in)']\n",
    "    print(f'Stall torque at output shaft = {tau0_g_ozin*Nm_per_ozin:.1f} N*m = {tau0_g_ozin:.1f} oz*in = {tau0_g_ozin/16:.1f} in*lb')\n",
    "    print(f'Stall current = {gm[\"arm\"][\"stall current\"]:.2f} A')\n",
    "\n",
    "    for kind in ['continuous', 'intermittent']:\n",
    "        print(f'Gearhead {kind} torque safety factor = {gm[f\"gearhead {kind} torque safety factor\"]:.2f} (must be ~ 1 or greater)')\n",
    "    for prefix, description in {'rated': 'Motor is rated for',\n",
    "                         'min continuous': 'Estimated lows during continuous operation',\n",
    "                         'max continuous': 'Estimated highs during continuous operation',\n",
    "                         'min intermittent': 'Estimated lows during intermittent operation',\n",
    "                         'max intermittent': 'Estimated highs during intermittent operation',\n",
    "                        }.items():\n",
    "        print('')\n",
    "        print(f'{description}:')\n",
    "        tau_g_ozin = gm[f\"{prefix} tau_g (oz*in)\"] if prefix == 'rated' else estim_loads[f'{prefix} tau_g (oz*in)']\n",
    "        print(f'{tab}Output torque = {tau_g_ozin*Nm_per_ozin:.3f} N*m = {tau_g_ozin:.1f} oz*in = {tau_g_ozin/16:.1f} in*lb')\n",
    "        print(f'{tab}Output speed = {gm[f\"{prefix} w_g (rpm)\"]:.3f} rpm = {math.degrees(gm[f\"{prefix} w_g (rpm)\"]*radpersec_per_rpm):.2f} deg/sec')\n",
    "        print(f'{tab}Current = {gm[f\"{prefix} I\"]:.2f} A')\n",
    "        print(f'{tab}Power consumption = {gm[f\"{prefix} P_elec\"]:.3f} W')\n",
    "    \n",
    "    for prefix in ['min', 'max']:\n",
    "        print('')\n",
    "        print(f'Max slew ({math.degrees(max_slew_distance):.1f}{deg}) at {prefix.upper()} speed:')\n",
    "        w_g = gm[f'{prefix} continuous w_g (rpm)'] * radpersec_per_rpm\n",
    "        continuous_tau_g = estim_loads[f'{prefix} continuous tau_g (oz*in)'] * Nm_per_ozin\n",
    "        intermittent_tau_g = estim_loads[f'{prefix} intermittent tau_g (oz*in)'] * Nm_per_ozin\n",
    "        accel_avg_tau_g = (continuous_tau_g + intermittent_tau_g) / 2\n",
    "        accel_avg = accel_avg_tau_g / total_inertia\n",
    "        accel_time =  w_g / accel_avg\n",
    "        accel_energy = accel_time * gm[f'{prefix} intermittent P_elec']\n",
    "        accel_distance = 0.5 * accel_avg * accel_time**2\n",
    "        coast_distance = max_slew_distance - accel_distance  # ignoring decel distance here, which is conservative, and in line with the intended control scheme (i.e. cut power near final target)\n",
    "        coast_time = coast_distance / w_g\n",
    "        coast_energy = coast_time * gm[f'{prefix} continuous P_elec']\n",
    "        total_est_time = coast_time + accel_time\n",
    "        print(f'{tab}total time = {total_est_time:.1f} sec = {total_est_time/60:.1f} min')\n",
    "        print(f'{tab}total energy = {coast_energy + accel_energy:.1f} J')"
   ]
  },
  {
   "cell_type": "markdown",
   "id": "b3f9779f-8b35-4856-b261-a26205619b2c",
   "metadata": {},
   "source": [
    "### Torque limiting plan\n",
    "There are three protections built into the system against failures due to over-torquing:\n",
    "\n",
    "- In nominal operation we never hit the hardstop, staying well clear of it with encoder readings.\n",
    "- Hardstops will be located immediately near the motor output, so load can be reacted locally (i.e. not transmit through rest of the drivetrain).\n",
    "- Our current monitor reading will allow us to cut power to motor before the torque can ramp up. This protects against two different fault cases:\n",
    "   - inadvertent hardstop strike (encoder problem)\n",
    "   - bearing seizes up (mechanical problem)\n",
    "\n",
    "We have not deeply investigated the option of including a mechanical torque limiting device, due to not knowing of a space-rated, vacuum compatible model appropriate to our application. Such a device may well exist, but we have not as of this writing (Sept 2022) identified one.\n",
    "\n",
    "In detail, the plan and its rationale are as follows (reproduced from an email thread Sept 30, 2022 among the engineering team):\n",
    "\n",
    "1. Carousel will have hard mechanical limits on travel at $\\sim~\\pm 100^o$.\n",
    "2. Encoder is absolute.\n",
    "3. Motor is same model as used in Mars 2020 rover, thus alleviating significant cost and time of qualification for our small project. Quite lightweight, though really somewhat more powerful than we really need.\n",
    "4. High gear ratios chosen so as to inherently limit the output speed. At 987:1 reduction ratio with our nominal friction loads, I calculate ~ 75 deg/sec top speed. At 1526:1 (max offered by vendor) expect ~ 49 deg/sec.\n",
    "5. Our expected torque loads are ~ 0.1 - 0.4 N\\*m, depending on friction estimate. For which motor current ~ 30 - 120 mA\n",
    "6. Motor stall current = 11.8 A, inrush maybe ~ 16.5 A or so.\n",
    "7. Theoretical stall torque at gear output is massive at these gear ratios, ~ 37 N\\*m (987:1 gear) or 58 N\\*m (1526:1).\n",
    "8. When hitting hard limit, full stall torque would require massively overbuilt drive train components. The high torque would also have to react through the top plate structure all the way through LuSEE to the base plate. This would all have to be very heavy, thus undesirable.\n",
    "9. Instead, proposing two layers of fault protection:\n",
    "   9a. Software position limits at ~ +/- 95 deg (measured by absolute encoder).\n",
    "   9b. Current sensor (see point 11 below).\n",
    "10. If either (9a) or (9b) exceeds its respective threshold, immediately cut power (i.e. open solid-state switch) to motor.\n",
    "11. Suggest likely current threshold: ~ 90% of rated continuous current (1.65 A) = 1.5 A, when sustained for more than ~ 5-10 inrush time constants (~ 0.3 - 0.6 ms).\n",
    "12. Mechanical spin up time constant for motor (not including gearhead, thus conservative) is ~ 6.1 ms, therefore the threshold duration proposed in item (9) should prevent any significant torque build up.\n",
    "13.  During testing in the lab, we could perhaps incorporate a temporary pin that breaks at low torque, until we are confident in our current monitor and thresholds."
   ]
  },
  {
   "cell_type": "markdown",
   "id": "e0503c67-b02d-43aa-8f64-fc9413cfb953",
   "metadata": {
    "tags": []
   },
   "source": [
    "## Appendix: Bearings selection\n",
    "\n",
    "### Bearing type and size\n",
    "The preliminary design (July 2022) packaging acommodates a pair of Kaydon KA025AR0 bearings:\n",
    "\n",
    "![Kaydon KA0xxAR0](figures/kaydon-KA0xxAR0-open-A-bearings.png)\n",
    "\n",
    "This is a thin section, angular contact, open bearing, with bore 2.5\\\" (63.5 mm), O.D. 3.0\\\" (76.2 mm), and thickness 0.25\\\" (6.35 mm). Mass is low, ~0.12 lbs = 55 g. We utilize the common design pattern of mounting in pairs, to provide tilt resistance.\n",
    "\n",
    "Stainless steel options (may have custom lead-times and will be more expensive) are available. Replace \"K\" with \"S\" in the part number.\n",
    "\n",
    "Kaydon also offers an attractive \"Type X\" four-point contact bearing. We have previously used such a bearing (at a much larger scale) in the Dark Energy Spectroscopic Instrument (DESI) ADC rotator mechanism. The type X controls 5 degrees of freedom in a single unit, rather than the typical angular contact duplex. This has the advantage of fewer parts and less weight, as well as removing the need to control thrust preload in the mounting between the two separate bearing units. A type X unit of similar package size as KA025AR0 would be KA025XP0:\n",
    "\n",
    "![Kaydon KA0xxXP0](figures/kaydon-KA0xxXP0-open-X-bearings.png)\n",
    "\n",
    "Again, replace \"K\" with \"S\" for equivalent stainless option.\n",
    "\n",
    "### External vs internal bearing seals\n",
    "\n",
    "For these open bearings, we would make a dust seal that rides on the shaft and/or flat face. Call this an \"external\" seal. It has the advantages of being:\n",
    "\n",
    "- independent from the bearing selection and procurement\n",
    "- easily replaceable\n",
    "- visible and inspectable\n",
    "- material of our choice (i.e. robust, low cte, temperature tolerant material like polyimide)\n",
    "\n",
    "We can alternatively purchase a bearing with integrated seals. Call this an \"internal\" seal. It has the advantages of:\n",
    "\n",
    "- lower part count\n",
    "- lower mass\n",
    "- more compact packaging\n",
    "\n",
    "Again taking Kaydon as an example bearing manufacturer, their standard seal material is nitrile rubber. This would need to be qualified for our temperature range (100 K - 400 K). Kaydon does offer customization options in alternate seal materials, but we have not yet checked whether polyimide in particular would work for them. Several models Kaydon offers with an integrated double-seal are given in this table:\n",
    "\n",
    "![Kaydon JA0xxXP0](figures/kaydon-JA0xxXP0-sealed-X-bearings.png)\n",
    "\n",
    "The Kaydon line-up does not have sealed bearings in angular contact configurations. \n",
    "\n",
    "For sealed bearings, replace \"J\" with \"W\" in the part number for the stainless option.\n",
    "\n",
    "### Bearing seal materials\n",
    "\n",
    "If we fabricate our own seals, one might consider using [Vespel SP-3](https://www.curbellplastics.com/Research-Solutions/DuPont-Vespel-SP-3). This is a 15% MoS<sub>2</sub>-filled polyimide with a long history of use in space applications, with low creep, high strength, and low coefficient of thermal expansion (for a polymer), and which should survive the temperature extremes.\n",
    "\n",
    "A concern I have is that the friction coefficient of SP-3 in vacuum is reported to be very low (0.03) in the Dupont datasheet. Normally lower friction is \"good\" in a bearing, however in our design, having some consistent friction is helpful, to guarantee stability of the position of the turntable stable when powered off. So we probably rather prefer having a consistent friction whether testing in lab air or operating in vacuum. In this respect, unfilled [Vespel SP-1](https://www.curbellplastics.com/Research-Solutions/DuPont-Vespel-SP-1) may be a simpler and better choice. However, the DuPont datasheet does not specifically list a vacuum friction coefficient, so this bears some further investigation.\n",
    "\n",
    "Graphite-filled polyimide grades would not be chosen, since the graphite lubricant can in fact become abrasive in a moisture-free environment.\n",
    "\n",
    "### Turntable bearings\n",
    "\n",
    "There are some bearings available with more integrated turntable functionality, for example including an external gear profile. An attractive option may be Kaydon T01-00325EAA:\n",
    "\n",
    "![Kaydon turntables - basic](figures/kaydon-turntable-bearings-basic.png)\n",
    "\n",
    "![Kaydon turntables - external gears](figures/kaydon-turntable-bearings-extgear.png)\n",
    "\n",
    "![Kaydon turntables - illustrations](figures/kaydon-turntable-illustrations.png)\n",
    "\n",
    "\n",
    "These turntables are not off-the-shelf parts. Cost and lead-time would be TBD. Performance is not particularly any better than the other options; the attraction here would be the compact packaging. The gearing would need some exterior protection from lunar dust."
   ]
  },
  {
   "cell_type": "code",
   "execution_count": 45,
   "id": "927e812a-e878-4a76-8321-b4bde44f34da",
   "metadata": {},
   "outputs": [
    {
     "name": "stdout",
     "output_type": "stream",
     "text": [
      "Payload mass of 4.51 kg yields the following bearing\n",
      "design loads (these include all safety factors):\n",
      "    rms radial = 936 N = 210 lbf\n",
      "    rms thrust = 936 N = 210 lbf\n",
      "    rms moment = 55 N*m = 483 in*lb\n",
      "    peak radial = 4681 N = 1052 lbf\n",
      "    peak thrust = 4681 N = 1052 lbf\n",
      "    peak moment = 273 N*m = 2413 in*lb \n",
      "\n",
      "This is for a turntable plate in aluminum, of diameter 0.400 m.\n",
      "\n",
      "Margins on the above loads for specific bearing models are\n",
      "given below. These must all be >= 0 for a given model.\n",
      "\n",
      "Bearing model JA025XP0 (mass = 0.054 kg),\n",
      "margins w.r.t. design loads:\n",
      "    rms radial = 2.94\n",
      "    rms thrust = 8.93\n",
      "    rms moment = 1.38\n",
      "    peak radial = -0.21\n",
      "    peak thrust = 0.99\n",
      "    peak moment = -0.52\n",
      "\n",
      "Bearing model JA030XP0 (mass = 0.063 kg),\n",
      "margins w.r.t. design loads:\n",
      "    rms radial = 3.70\n",
      "    rms thrust = 10.73\n",
      "    rms moment = 2.32\n",
      "    peak radial = -0.06\n",
      "    peak thrust = 1.35\n",
      "    peak moment = -0.34\n",
      "\n",
      "Bearing model JA035XP0 (mass = 0.077 kg),\n",
      "margins w.r.t. design loads:\n",
      "    rms radial = 4.42\n",
      "    rms thrust = 12.54\n",
      "    rms moment = 3.41\n",
      "    peak radial = 0.08\n",
      "    peak thrust = 1.71\n",
      "    peak moment = -0.12\n",
      "\n",
      "Bearing model T01-00325EAA (mass = 0.227 kg),\n",
      "margins w.r.t. design loads:\n",
      "    rms radial = 3.70\n",
      "    rms thrust = 10.73\n",
      "    rms moment = 2.32\n",
      "    peak radial = -0.06\n",
      "    peak thrust = 1.35\n",
      "    peak moment = -0.34\n",
      "\n",
      "Bearing model T01-00375EAA (mass = 0.268 kg),\n",
      "margins w.r.t. design loads:\n",
      "    rms radial = 4.42\n",
      "    rms thrust = 12.54\n",
      "    rms moment = 3.41\n",
      "    peak radial = 0.08\n",
      "    peak thrust = 1.71\n",
      "    peak moment = -0.12\n",
      "\n"
     ]
    }
   ],
   "source": [
    "bearing = {'JA025XP0':\n",
    "               {'o.d. (in)': 3.0,\n",
    "                'i.d. (in)': 2.5,\n",
    "                'weight (lb)': 0.12,\n",
    "                'dynamic radial (lbf)': 583,\n",
    "                'dynamic thrust (lbf)': 910,\n",
    "                'dynamic moment (in*lbf)': 601,\n",
    "                'static radial (lbf)': 830,\n",
    "                'static thrust (lbf)': 2090,\n",
    "                'static moment (in*lbf)': 1150,\n",
    "                },\n",
    "           'JA030XP0':\n",
    "               {'o.d. (in)': 3.5,\n",
    "                'i.d. (in)': 3.0,\n",
    "                'weight (lb)': 0.14,\n",
    "                'dynamic radial (lbf)': 643,\n",
    "                'dynamic thrust (lbf)': 1010,\n",
    "                'dynamic moment (in*lbf)': 785,\n",
    "                'static radial (lbf)': 990,\n",
    "                'static thrust (lbf)': 2470,\n",
    "                'static moment (in*lbf)': 1600,\n",
    "                },\n",
    "           'JA035XP0':\n",
    "               {'o.d. (in)': 4.0,\n",
    "                'i.d. (in)': 3.5,\n",
    "                'weight (lb)': 0.17,\n",
    "                'dynamic radial (lbf)': 701,\n",
    "                'dynamic thrust (lbf)': 1110,\n",
    "                'dynamic moment (in*lbf)': 986,\n",
    "                'static radial (lbf)': 1140,\n",
    "                'static thrust (lbf)': 2850,\n",
    "                'static moment (in*lbf)': 2130,\n",
    "                },\n",
    "           'T01-00325EAA':\n",
    "               {'o.d. (in)': 4.078,\n",
    "                'i.d. (in)': 2.5,\n",
    "                'weight (lb)': 0.50,\n",
    "                'dynamic radial (lbf)': 640,\n",
    "                'dynamic thrust (lbf)': 1010,\n",
    "                'dynamic moment (in*lbf)': 780,\n",
    "                'static radial (lbf)': 990,\n",
    "                'static thrust (lbf)': 2470,\n",
    "                'static moment (in*lbf)': 1600,\n",
    "                },\n",
    "           'T01-00375EAA':\n",
    "               {'o.d. (in)': 4.578,\n",
    "                'i.d. (in)': 3.0,\n",
    "                'weight (lb)': 0.59,\n",
    "                'dynamic radial (lbf)': 700,\n",
    "                'dynamic thrust (lbf)': 1110,\n",
    "                'dynamic moment (in*lbf)': 980,\n",
    "                'static radial (lbf)': 1140,\n",
    "                'static thrust (lbf)': 2850,\n",
    "                'static moment (in*lbf)': 2130,\n",
    "                },\n",
    "          }\n",
    "\n",
    "print(bearing_loads_str, '\\n')\n",
    "print(f'This is for a turntable plate in {plate_material}, of diameter {plate_od:.3f} m.\\n')\n",
    "print(f'Margins on the above loads for specific bearing models are\\ngiven below. These must all be >= 0 for a given model.\\n')\n",
    "for name, data in bearing.items():\n",
    "    print(f'Bearing model {name} (mass = {data[\"weight (lb)\"]*N_per_lbf/G_earth:.3f} kg),\\nmargins w.r.t. design loads:')\n",
    "    for mode in ['rms', 'peak']:\n",
    "        for direction in ['radial', 'thrust', 'moment']:\n",
    "            key = f'static {direction} '\n",
    "            if direction == 'moment':\n",
    "                key += '(in*lbf)'\n",
    "                conversion = Nm_per_inlb\n",
    "            else:\n",
    "                key += '(lbf)'\n",
    "                conversion = N_per_lbf\n",
    "            margin = data[key] * conversion / bearing_design_loads[mode][direction] - 1\n",
    "            print(f'{tab}{mode} {direction} = {margin:.2f}')\n",
    "    print('')\n",
    "                        "
   ]
  },
  {
   "cell_type": "markdown",
   "id": "1856156d-74f5-4448-b075-b962c2a1cd06",
   "metadata": {},
   "source": [
    "Among these, model JA035XP0 (or WA035XP0 for stainless version) is selected for comfortably meeting all safety factors. At 77 g, it is quite mass efficient (compare to duplexed pair of KA025AR0 at 55 g each x 2 = 110 g). It additionally has the benefit of a wider inner bore (3.5\", compare to 2.5\" for KA025AR0) through which to route the antenna cables and communications mast."
   ]
  },
  {
   "cell_type": "code",
   "execution_count": null,
   "id": "e4df1c42-91b3-4c55-a12e-0aeafac4efc7",
   "metadata": {},
   "outputs": [],
   "source": []
  },
  {
   "cell_type": "markdown",
   "id": "53fd5eee-436c-49bb-8e80-f7cd0050f996",
   "metadata": {},
   "source": [
    "## References\n",
    "- [NASA General Environmental Verification Standards (GEVS)](https://standards.nasa.gov/sites/default/files/standards/GSFC/B/0/gsfc-std-7000b_signature_cycle_04_28_2021_fixed_links.pdf)\n",
    "- [Kaydon turntable bearings](https://www.kaydonbearings.com/RealiSlim_TT_bearings.htm)\n",
    "- [Kaydon sealed, slim bearings](https://www.kaydonbearings.com/RealiSlim_sealed_bearings.htm)"
   ]
  }
 ],
 "metadata": {
  "kernelspec": {
   "display_name": "NERSC Python",
   "language": "python",
   "name": "python3"
  },
  "language_info": {
   "codemirror_mode": {
    "name": "ipython",
    "version": 3
   },
   "file_extension": ".py",
   "mimetype": "text/x-python",
   "name": "python",
   "nbconvert_exporter": "python",
   "pygments_lexer": "ipython3",
   "version": "3.9.7"
  }
 },
 "nbformat": 4,
 "nbformat_minor": 5
}
